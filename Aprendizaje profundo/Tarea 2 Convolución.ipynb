{
 "cells": [
  {
   "cell_type": "markdown",
   "metadata": {},
   "source": [
    "**Tarea 2: Redes Convolucionales y Recurrentes**"
   ]
  },
  {
   "cell_type": "markdown",
   "metadata": {
    "jp-MarkdownHeadingCollapsed": true
   },
   "source": [
    "# Ejercicio 1: Operación de convolución\n",
    "\n",
    "Se toma como base el código del [notebook referenciado en la tarea](https://github.com/gibranfp/CursoAprendizajeProfundo/blob/2026-1/notebooks/2a_convolucion.ipynb), no obstante solo se mantiene lo relevante para la primera pregunta."
   ]
  },
  {
   "cell_type": "code",
   "execution_count": 1,
   "metadata": {
    "id": "jHwLDelamRFq"
   },
   "outputs": [],
   "source": [
    "import matplotlib.pyplot as plt\n",
    "import numpy as np\n",
    "from sklearn.datasets import load_digits"
   ]
  },
  {
   "cell_type": "markdown",
   "metadata": {},
   "source": [
    "**Importamos y normalizamos datos**"
   ]
  },
  {
   "cell_type": "code",
   "execution_count": 2,
   "metadata": {
    "id": "i8Sxl3zRoe7W"
   },
   "outputs": [
    {
     "data": {
      "text/plain": [
       "array([[ 0.,  0.,  5., 13.,  9.,  1.,  0.,  0.],\n",
       "       [ 0.,  0., 13., 15., 10., 15.,  5.,  0.],\n",
       "       [ 0.,  3., 15.,  2.,  0., 11.,  8.,  0.],\n",
       "       [ 0.,  4., 12.,  0.,  0.,  8.,  8.,  0.],\n",
       "       [ 0.,  5.,  8.,  0.,  0.,  9.,  8.,  0.],\n",
       "       [ 0.,  4., 11.,  0.,  1., 12.,  7.,  0.],\n",
       "       [ 0.,  2., 14.,  5., 10., 12.,  0.,  0.],\n",
       "       [ 0.,  0.,  6., 13., 10.,  0.,  0.,  0.]])"
      ]
     },
     "execution_count": 2,
     "metadata": {},
     "output_type": "execute_result"
    }
   ],
   "source": [
    "digits = load_digits()\n",
    "data = digits.images\n",
    "labels = digits.target\n",
    "data[0]"
   ]
  },
  {
   "cell_type": "code",
   "execution_count": 3,
   "metadata": {
    "id": "d820p2wPyY5-"
   },
   "outputs": [
    {
     "data": {
      "text/plain": [
       "array([[0.    , 0.    , 0.3125, 0.8125, 0.5625, 0.0625, 0.    , 0.    ],\n",
       "       [0.    , 0.    , 0.8125, 0.9375, 0.625 , 0.9375, 0.3125, 0.    ],\n",
       "       [0.    , 0.1875, 0.9375, 0.125 , 0.    , 0.6875, 0.5   , 0.    ],\n",
       "       [0.    , 0.25  , 0.75  , 0.    , 0.    , 0.5   , 0.5   , 0.    ],\n",
       "       [0.    , 0.3125, 0.5   , 0.    , 0.    , 0.5625, 0.5   , 0.    ],\n",
       "       [0.    , 0.25  , 0.6875, 0.    , 0.0625, 0.75  , 0.4375, 0.    ],\n",
       "       [0.    , 0.125 , 0.875 , 0.3125, 0.625 , 0.75  , 0.    , 0.    ],\n",
       "       [0.    , 0.    , 0.375 , 0.8125, 0.625 , 0.    , 0.    , 0.    ]])"
      ]
     },
     "execution_count": 3,
     "metadata": {},
     "output_type": "execute_result"
    }
   ],
   "source": [
    "data = data / data.max()\n",
    "data[0]"
   ]
  },
  {
   "cell_type": "code",
   "execution_count": 4,
   "metadata": {
    "id": "eIw_VqNVeck3"
   },
   "outputs": [
    {
     "data": {
      "image/png": "[encoded data removed]",
      "text/plain": [
       "<Figure size 1000x500 with 2 Axes>"
      ]
     },
     "metadata": {},
     "output_type": "display_data"
    }
   ],
   "source": [
    "imagen0 = data[labels == 0][0]\n",
    "imagen1 = data[labels == 1][0]\n",
    "\n",
    "fig, axs = plt.subplots(1, 2, figsize=(10, 5))\n",
    "axs[0].imshow(imagen0, cmap = 'gray')\n",
    "axs[0].set_title('Ejemplo de dígito 0')\n",
    "axs[1].imshow(imagen1, cmap = 'gray')\n",
    "axs[1].set_title('Ejemplo de dígito 7')\n",
    "plt.show()"
   ]
  },
  {
   "cell_type": "code",
   "execution_count": 18,
   "metadata": {
    "id": "JK60sSz6pMgk"
   },
   "outputs": [],
   "source": [
    "\"\"\"\n",
    "FUNCIÓN ORIGINAL\n",
    "\"\"\"\n",
    "def conv2d(I, W, b, stride = 1):\n",
    "  h_s = int(np.floor((I.shape[0] - W.shape[0]) / stride)) + 1\n",
    "  w_s = int(np.floor((I.shape[1] - W.shape[1]) / stride)) + 1\n",
    "  a = np.zeros((h_s, w_s))\n",
    "  for i in range(h_s):\n",
    "    for j in range(w_s):\n",
    "      I_m = I[i * stride:i * stride + W.shape[0], j * stride:j * stride + W.shape[1]]\n",
    "      a[i, j] = (I_m * W).sum() + b\n",
    "\n",
    "  return a"
   ]
  },
  {
   "cell_type": "markdown",
   "metadata": {
    "id": "RY9UBGoqhCDR"
   },
   "source": [
    "## Filtro\n",
    "\n",
    "Definamos un filtro de $3 \\times 3$ que detecte bordes en cierta orientación:"
   ]
  },
  {
   "cell_type": "code",
   "execution_count": 19,
   "metadata": {
    "id": "26O7xja9hDYM"
   },
   "outputs": [
    {
     "data": {
      "image/png": "[encoded data removed]",
      "text/plain": [
       "<Figure size 640x480 with 1 Axes>"
      ]
     },
     "metadata": {},
     "output_type": "display_data"
    }
   ],
   "source": [
    "# No se modifica el filtro, pero como bien se describe en el notebook, se pueden tener distintos filtros.\n",
    "filter1 = np.zeros((3,3))\n",
    "np.fill_diagonal(filter1, np.array([1, 1, 1]))\n",
    "plt.imshow(filter1 * 0.5 + 0.5, cmap = 'gray')\n",
    "plt.show()"
   ]
  },
  {
   "cell_type": "markdown",
   "metadata": {},
   "source": [
    "<span style=\"color:RED\">----------------------SOLUCIÓN DE TAREA----------------------</span>\n",
    "\n",
    "**Ejercicio 1: Operación de convolución**\n",
    "\n",
    "Para modificar esta función y obtener una convolución que funcione sobre varios canales y que permita trabajar con imágenes a color en realidad se tienen que hacer pocos cambios a la función previamente definida. La convolución será igual para cualquier canal, lo único necesario es agregar este canal al procesamiento de la función. \n",
    "\n",
    "1. Primero definimos la función turn_2d3d( ) que extendiende una imagen de nuestro dataset para tener 3 canales. Como podemos ver es cuestión de agregar la dimensión de los canales y rellenarlos manualmente.\n",
    "2. Siguiente es la función conv3d( ) que es básciamente igual a conv2d( ) solo que en el bucle del doble for, la variable I_m recorre las dimensiones base de la imagen al igual que la última dimensión de coloración. Esto se hace gracias a que agregamos un \":\" al final de la lista."
   ]
  },
  {
   "cell_type": "code",
   "execution_count": 7,
   "metadata": {},
   "outputs": [
    {
     "name": "stdout",
     "output_type": "stream",
     "text": [
      "(8, 8) (8, 8, 3)\n"
     ]
    }
   ],
   "source": [
    "def turn_2d3d(imagen_base):\n",
    "    \"\"\"\n",
    "    Extiende una imagen del conjunto de datos previo para tener 3 canales.\n",
    "    \"\"\"\n",
    "    imagen_3d = np.zeros((8,8,3))\n",
    "\n",
    "    # Estos valores en realidad no cambian nada de la imagen original\n",
    "    # Solo modifican la intensidad para que al menos algo cambie.\n",
    "    imagen_3d[:, :, 0] = imagen_base\n",
    "    imagen_3d[:, :, 1] = imagen_base * 0.2\n",
    "    imagen_3d[:, :, 2] = imagen_base * 0.5\n",
    "    return imagen_3d\n",
    "\n",
    "# Imprimimos la forma del arreglo para ver los cambios\n",
    "imagen0_3d = turn_2d3d(imagen0)\n",
    "print(imagen0.shape, imagen0_3d.shape)"
   ]
  },
  {
   "cell_type": "code",
   "execution_count": 8,
   "metadata": {},
   "outputs": [
    {
     "data": {
      "text/plain": [
       "array([[1.06875, 1.5375 , 3.03125, 2.95625, 1.93125, 1.85   ],\n",
       "       [1.3375 , 1.46875, 3.025  , 2.25   , 1.70625, 2.3875 ],\n",
       "       [1.24375, 1.25   , 2.2125 , 1.     , 1.1    , 2.05   ],\n",
       "       [1.13125, 1.2    , 1.96875, 0.91875, 1.14375, 2.1    ],\n",
       "       [1.16875, 1.25625, 2.46875, 1.48125, 1.56875, 2.25   ],\n",
       "       [1.04375, 1.325  , 2.81875, 2.1375 , 1.83125, 1.5875 ]])"
      ]
     },
     "execution_count": 8,
     "metadata": {},
     "output_type": "execute_result"
    }
   ],
   "source": [
    "def conv_rgb(I, W, b, stride = 1):\n",
    "    \"\"\"\n",
    "    Convolución para imágenes a color. Usa los mismos parámetros que la convolución 2d. \n",
    "    \"\"\"\n",
    "    h_s = int(np.floor((I.shape[0] - W.shape[0]) / stride)) + 1\n",
    "    w_s = int(np.floor((I.shape[1] - W.shape[1]) / stride)) + 1\n",
    "    a = np.zeros((h_s, w_s))\n",
    "    for i in range(h_s):\n",
    "        for j in range(w_s):\n",
    "            I_m = I[i * stride:i * stride + W.shape[0], j * stride:j * stride + W.shape[1], :] # ¡Aquí está el cambio!\n",
    "            a[i, j] = (I_m * W).sum() + b\n",
    "\n",
    "    return a\n",
    "\n",
    "# Notamos que sigue funcionando sin importar el cambio que le acabamos de hacer.\n",
    "conv_rgb(imagen0_3d, filter1, 0)"
   ]
  },
  {
   "cell_type": "code",
   "execution_count": 10,
   "metadata": {
    "id": "JoyByBCuhK2Y",
    "scrolled": true
   },
   "outputs": [
    {
     "data": {
      "image/png": "[encoded data removed]",
      "text/plain": [
       "<Figure size 1000x500 with 6 Axes>"
      ]
     },
     "metadata": {},
     "output_type": "display_data"
    }
   ],
   "source": [
    "from scipy.signal import correlate2d, convolve2d\n",
    "\n",
    "sigmoid = lambda z: 1. / (1. + np.exp(-z))\n",
    "\n",
    "ccorr = sigmoid(correlate2d(imagen0, filter1, mode = 'valid'))\n",
    "ccorr2 = sigmoid(correlate2d(filter1, imagen0, mode = 'valid'))\n",
    "\n",
    "conv = sigmoid(convolve2d(imagen0, filter1, mode = 'valid'))\n",
    "conv2 = sigmoid(convolve2d(filter1, imagen0, mode = 'valid'))\n",
    "\n",
    "a = sigmoid(conv2d(imagen0, filter1, 0))\n",
    "\n",
    "fig, axs = plt.subplots(1, 6, figsize=(10, 5))\n",
    "axs[0].imshow(imagen0, cmap = 'gray')\n",
    "axs[1].imshow(ccorr, cmap = 'gray')\n",
    "axs[2].imshow(ccorr2, cmap = 'gray')\n",
    "axs[3].imshow(conv, cmap = 'gray')\n",
    "axs[4].imshow(conv2, cmap = 'gray')\n",
    "axs[5].imshow(a, cmap = 'gray')\n",
    "plt.show()"
   ]
  },
  {
   "cell_type": "markdown",
   "metadata": {},
   "source": [
    "**Hacemos las mismas gráficas que en la celda previa pero con la convolución RGB**"
   ]
  },
  {
   "cell_type": "code",
   "execution_count": 11,
   "metadata": {},
   "outputs": [
    {
     "data": {
      "image/png": "[encoded data removed]",
      "text/plain": [
       "<Figure size 1000x500 with 6 Axes>"
      ]
     },
     "metadata": {},
     "output_type": "display_data"
    }
   ],
   "source": [
    "from scipy.signal import correlate2d, convolve2d\n",
    "\n",
    "ccorr = sigmoid(correlate2d(imagen0, filter1, mode = 'valid'))\n",
    "ccorr2 = sigmoid(correlate2d(filter1, imagen0, mode = 'valid'))\n",
    "\n",
    "conv = sigmoid(convolve2d(imagen0, filter1, mode = 'valid'))\n",
    "conv2 = sigmoid(convolve2d(filter1, imagen0, mode = 'valid'))\n",
    "\n",
    "a = sigmoid(conv_rgb(turn_2d3d(imagen0), filter1, 0)) #Aquí está el pequeño cambio\n",
    "\n",
    "fig, axs = plt.subplots(1, 6, figsize=(10, 5))\n",
    "axs[0].imshow(imagen0, cmap = 'gray')\n",
    "axs[1].imshow(ccorr, cmap = 'gray')\n",
    "axs[2].imshow(ccorr2, cmap = 'gray')\n",
    "axs[3].imshow(conv, cmap = 'gray')\n",
    "axs[4].imshow(conv2, cmap = 'gray')\n",
    "axs[5].imshow(a, cmap = 'gray')\n",
    "plt.show()"
   ]
  },
  {
   "cell_type": "markdown",
   "metadata": {},
   "source": [
    "<span style=\"color:RED\">----------------------FIN DEL EJERCICIO 1----------------------</span>"
   ]
  },
  {
   "cell_type": "markdown",
   "metadata": {},
   "source": [
    "# Ejercico 3: Clasificación de rostros\n",
    "\n",
    "Los datos de FairFace están disponibles desde HuggingFace, por lo que la importación se hace desde ahí. El código de la red neuronal se hace usando PyTroch. La evaluación de clasificación se hace con Sklearn."
   ]
  },
  {
   "cell_type": "code",
   "execution_count": 20,
   "metadata": {},
   "outputs": [
    {
     "data": {
      "application/vnd.jupyter.widget-view+json": {
       "model_id": "87a265c5e7824dfd92c42c7070de34ef",
       "version_major": 2,
       "version_minor": 0
      },
      "text/plain": [
       "README.md: 0.00B [00:00, ?B/s]"
      ]
     },
     "metadata": {},
     "output_type": "display_data"
    },
    {
     "name": "stderr",
     "output_type": "stream",
     "text": [
      "Xet Storage is enabled for this repo, but the 'hf_xet' package is not installed. Falling back to regular HTTP download. For better performance, install the package with: `pip install huggingface_hub[hf_xet]` or `pip install hf_xet`\n"
     ]
    },
    {
     "data": {
      "application/vnd.jupyter.widget-view+json": {
       "model_id": "22fd520f5e9f496194bdf603204051e1",
       "version_major": 2,
       "version_minor": 0
      },
      "text/plain": [
       "(…)-00000-of-00002-d405faba4f4b9b85.parquet:   0%|          | 0.00/250M [00:00<?, ?B/s]"
      ]
     },
     "metadata": {},
     "output_type": "display_data"
    },
    {
     "name": "stderr",
     "output_type": "stream",
     "text": [
      "Xet Storage is enabled for this repo, but the 'hf_xet' package is not installed. Falling back to regular HTTP download. For better performance, install the package with: `pip install huggingface_hub[hf_xet]` or `pip install hf_xet`\n"
     ]
    },
    {
     "data": {
      "application/vnd.jupyter.widget-view+json": {
       "model_id": "f7b046b49fd44911ba15bf6869631466",
       "version_major": 2,
       "version_minor": 0
      },
      "text/plain": [
       "(…)-00001-of-00002-dd3cb68164727418.parquet:   0%|          | 0.00/250M [00:00<?, ?B/s]"
      ]
     },
     "metadata": {},
     "output_type": "display_data"
    },
    {
     "name": "stderr",
     "output_type": "stream",
     "text": [
      "Xet Storage is enabled for this repo, but the 'hf_xet' package is not installed. Falling back to regular HTTP download. For better performance, install the package with: `pip install huggingface_hub[hf_xet]` or `pip install hf_xet`\n"
     ]
    },
    {
     "data": {
      "application/vnd.jupyter.widget-view+json": {
       "model_id": "b6935e0345ee4b8a806d0b0d93830c3b",
       "version_major": 2,
       "version_minor": 0
      },
      "text/plain": [
       "(…)-00000-of-00001-951dbd63c8724ee1.parquet:   0%|          | 0.00/63.2M [00:00<?, ?B/s]"
      ]
     },
     "metadata": {},
     "output_type": "display_data"
    },
    {
     "data": {
      "application/vnd.jupyter.widget-view+json": {
       "model_id": "c4640ed7d87b4ef182d8bf6abd358e47",
       "version_major": 2,
       "version_minor": 0
      },
      "text/plain": [
       "Generating train split:   0%|          | 0/86744 [00:00<?, ? examples/s]"
      ]
     },
     "metadata": {},
     "output_type": "display_data"
    },
    {
     "data": {
      "application/vnd.jupyter.widget-view+json": {
       "model_id": "0dda9e6d85de48ec8e967368b900dc42",
       "version_major": 2,
       "version_minor": 0
      },
      "text/plain": [
       "Generating validation split:   0%|          | 0/10954 [00:00<?, ? examples/s]"
      ]
     },
     "metadata": {},
     "output_type": "display_data"
    },
    {
     "data": {
      "text/plain": [
       "DatasetDict({\n",
       "    train: Dataset({\n",
       "        features: ['image', 'age', 'gender', 'race', 'service_test'],\n",
       "        num_rows: 86744\n",
       "    })\n",
       "    validation: Dataset({\n",
       "        features: ['image', 'age', 'gender', 'race', 'service_test'],\n",
       "        num_rows: 10954\n",
       "    })\n",
       "})"
      ]
     },
     "execution_count": 20,
     "metadata": {},
     "output_type": "execute_result"
    }
   ],
   "source": [
    "from datasets import load_dataset\n",
    "\n",
    "ff_ds = load_dataset(\"HuggingFaceM4/FairFace\", \"0.25\")\n",
    "ff_ds"
   ]
  },
  {
   "cell_type": "code",
   "execution_count": null,
   "metadata": {},
   "outputs": [],
   "source": []
  }
 ],
 "metadata": {
  "accelerator": "GPU",
  "colab": {
   "include_colab_link": true,
   "private_outputs": true,
   "provenance": []
  },
  "kernelspec": {
   "display_name": "Python 3 (ipykernel)",
   "language": "python",
   "name": "python3"
  },
  "language_info": {
   "codemirror_mode": {
    "name": "ipython",
    "version": 3
   },
   "file_extension": ".py",
   "mimetype": "text/x-python",
   "name": "python",
   "nbconvert_exporter": "python",
   "pygments_lexer": "ipython3",
   "version": "3.9.18"
  }
 },
 "nbformat": 4,
 "nbformat_minor": 4
}
