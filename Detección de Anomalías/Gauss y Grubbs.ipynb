{
 "cells": [
  {
   "cell_type": "code",
   "execution_count": 1,
   "id": "6c4468af-a7f4-4b67-af5c-4e7420153d27",
   "metadata": {},
   "outputs": [],
   "source": [
    "import numpy as np\n",
    "import matplotlib.pyplot as plt\n",
    "import random\n",
    "from outliers import smirnov_grubbs as grubbs\n",
    "\n",
    "mu, sigma = 10, 3.0\n",
    "pob = [int(_) for _ in list(np.random.normal(mu, sigma, 1000))]\n",
    "pob_array = np.array(pob)"
   ]
  },
  {
   "cell_type": "code",
   "execution_count": 2,
   "id": "7ebc870b-65db-47b2-8ad4-7276f411f666",
   "metadata": {},
   "outputs": [
    {
     "name": "stdout",
     "output_type": "stream",
     "text": [
      "Anomalías extremas (Máximas): []\n",
      "Anomalías extremas (Mínimas): []\n"
     ]
    }
   ],
   "source": [
    "# Pruebas iniciales\n",
    "max_outlier = grubbs.max_test_outliers(pob_array, 0.5)\n",
    "min_outlier = grubbs.min_test_outliers(pob_array, 0.5)\n",
    "print(\"Anomalías extremas (Máximas): {}\".format(max_outlier))\n",
    "print(\"Anomalías extremas (Mínimas): {}\".format(min_outlier))"
   ]
  },
  {
   "cell_type": "code",
   "execution_count": 3,
   "id": "a62fc911-d5f4-46c8-931b-ca939c99e030",
   "metadata": {},
   "outputs": [
    {
     "name": "stdout",
     "output_type": "stream",
     "text": [
      "========= Análisis Inicial =========\n",
      "Anomalías extremas (Máximas): []\n",
      "Anomalías extremas (Mínimas): []\n",
      "Adición de valores y verificación de anomalías.\n",
      "-------------------------\n",
      "Valor nuevo postivio: 10\n",
      "Valor nuevo negativo: 10\n",
      "No hay anomalías en ningún extremo.\n",
      "-------------------------\n",
      "Valor nuevo postivio: 12\n",
      "Valor nuevo negativo: 8\n",
      "No hay anomalías en ningún extremo.\n",
      "-------------------------\n",
      "Valor nuevo postivio: 14\n",
      "Valor nuevo negativo: 6\n",
      "No hay anomalías en ningún extremo.\n",
      "-------------------------\n",
      "Valor nuevo postivio: 16\n",
      "Valor nuevo negativo: 4\n",
      "No hay anomalías en ningún extremo.\n",
      "-------------------------\n",
      "Valor nuevo postivio: 18\n",
      "Valor nuevo negativo: 2\n",
      "No hay anomalías en ningún extremo.\n",
      "-------------------------\n",
      "Valor nuevo postivio: 20\n",
      "Valor nuevo negativo: 0\n",
      "No hay anomalías en ningún extremo.\n",
      "-------------------------\n",
      "Valor nuevo postivio: 22\n",
      "Valor nuevo negativo: -2\n",
      "Hay anomalía máxima: 22\n",
      "Distancia de la media: 12\n",
      "-------------------------\n",
      "Valor nuevo postivio: 24\n",
      "Valor nuevo negativo: -4\n",
      "Hay anomalías en ambos casos. Max: 24. Min: -4\n",
      "Distancia Max: 14\n",
      "Distancia Min: 14\n",
      "-------------------------\n",
      "Valor nuevo postivio: 26\n",
      "Valor nuevo negativo: -6\n",
      "Hay anomalías en ambos casos. Max: 26. Min: -6\n",
      "Distancia Max: 16\n",
      "Distancia Min: 16\n",
      "-------------------------\n",
      "Valor nuevo postivio: 28\n",
      "Valor nuevo negativo: -8\n",
      "Hay anomalías en ambos casos. Max: 28. Min: -8\n",
      "Distancia Max: 18\n",
      "Distancia Min: 18\n"
     ]
    }
   ],
   "source": [
    "def stepAnalysis(initial_pob, alpha):\n",
    "    max_out = grubbs.max_test_outliers(initial_pob, alpha) \n",
    "    min_out = grubbs.min_test_outliers(initial_pob, alpha)\n",
    "    print(\"========= Análisis Inicial =========\")\n",
    "    print(\"Anomalías extremas (Máximas): {}\".format(max_out))\n",
    "    print(\"Anomalías extremas (Mínimas): {}\".format(min_out))\n",
    "    print(\"Adición de valores y verificación de anomalías.\")\n",
    "    for i in range(10):\n",
    "        print(\"-------------------------\")\n",
    "        pos_value = mu + 2*i\n",
    "        neg_value = mu - 2*i\n",
    "        print(\"Valor nuevo postivio: {}\".format(pos_value))\n",
    "        print(\"Valor nuevo negativo: {}\".format(neg_value))\n",
    "        aux_array = np.append(np.append(initial_pob, pos_value), neg_value)\n",
    "        max_test = grubbs.max_test_outliers(aux_array, alpha)\n",
    "        min_test = grubbs.min_test_outliers(aux_array, alpha)\n",
    "        if len(max_test) == 0 and len(min_test) == 0:\n",
    "            print(\"No hay anomalías en ningún extremo.\")\n",
    "        elif len(max_test) == 1 and len(min_test) == 0:\n",
    "            dist = abs(max_test[0] - mu)\n",
    "            print(\"Hay anomalía máxima: {}\".format(max_test[0]))\n",
    "            print(\"Distancia de la media: {}\".format(dist))\n",
    "        elif len(max_test) == 0 and len(min_test) == 1:\n",
    "            dist = abs(mu - min_test[0] )\n",
    "            print(\"Hay anomalía mínima: {}\".format(min_test[0]))\n",
    "            print(\"Distancia de la media: {}\".format(dist))\n",
    "        elif len(max_test) == 1 and len(min_test) == 1:\n",
    "            max_dist = abs(max_test[0] - mu)\n",
    "            min_dist = abs(mu - min_test[0])\n",
    "            print(\"Hay anomalías en ambos casos. Max: {}. Min: {}\".format(max_test[0], min_test[0]))\n",
    "            print(\"Distancia Max: {}\".format(max_dist))\n",
    "            print(\"Distancia Min: {}\".format(min_dist))\n",
    "stepAnalysis(pob_array, 0.05)"
   ]
  },
  {
   "cell_type": "code",
   "execution_count": 9,
   "id": "01b6e1a0-67e2-4349-a08d-494c8848c386",
   "metadata": {},
   "outputs": [
    {
     "name": "stdout",
     "output_type": "stream",
     "text": [
      "========= Análisis Inicial =========\n",
      "Anomalías extremas (Máximas): []\n",
      "Anomalías extremas (Mínimas): []\n",
      "Adición de valores y verificación de anomalías.\n",
      "-------------------------\n",
      "Valor nuevo postivio: 10\n",
      "Valor nuevo negativo: 10\n",
      "No hay anomalías en ningún extremo.\n",
      "-------------------------\n",
      "Valor nuevo postivio: 12\n",
      "Valor nuevo negativo: 8\n",
      "No hay anomalías en ningún extremo.\n",
      "-------------------------\n",
      "Valor nuevo postivio: 14\n",
      "Valor nuevo negativo: 6\n",
      "No hay anomalías en ningún extremo.\n",
      "-------------------------\n",
      "Valor nuevo postivio: 16\n",
      "Valor nuevo negativo: 4\n",
      "No hay anomalías en ningún extremo.\n",
      "-------------------------\n",
      "Valor nuevo postivio: 18\n",
      "Valor nuevo negativo: 2\n",
      "No hay anomalías en ningún extremo.\n",
      "-------------------------\n",
      "Valor nuevo postivio: 20\n",
      "Valor nuevo negativo: 0\n",
      "No hay anomalías en ningún extremo.\n",
      "-------------------------\n",
      "Valor nuevo postivio: 22\n",
      "Valor nuevo negativo: -2\n",
      "No hay anomalías en ningún extremo.\n",
      "-------------------------\n",
      "Valor nuevo postivio: 24\n",
      "Valor nuevo negativo: -4\n",
      "No hay anomalías en ningún extremo.\n",
      "-------------------------\n",
      "Valor nuevo postivio: 26\n",
      "Valor nuevo negativo: -6\n",
      "Hay anomalía máxima: 26\n",
      "Distancia de la media: 16\n",
      "-------------------------\n",
      "Valor nuevo postivio: 28\n",
      "Valor nuevo negativo: -8\n",
      "Hay anomalías en ambos casos. Max: 28. Min: -8\n",
      "Distancia Max: 18\n",
      "Distancia Min: 18\n"
     ]
    }
   ],
   "source": [
    "stepAnalysis(pob_array, 0.0001)"
   ]
  },
  {
   "cell_type": "code",
   "execution_count": 10,
   "id": "cb0d1836-7e89-4019-af97-0b27db40f180",
   "metadata": {},
   "outputs": [
    {
     "data": {
      "image/png": "[encoded data removed]",
      "text/plain": [
       "<Figure size 640x480 with 1 Axes>"
      ]
     },
     "metadata": {},
     "output_type": "display_data"
    }
   ],
   "source": [
    "def graph_pob(population, save_name):\n",
    "    fig, ax = plt.subplots(1, 1, sharey = True, layout = 'constrained')\n",
    "    ax.hist(population, bins = 50, density = True, fill = True, edgecolor = 'blue')\n",
    "    ax.set_ylabel('Distribución')\n",
    "    ax.set_title('Población')\n",
    "    ##plt.savefig(r'C:\\Users\\Frank\\Documents\\GitHub\\PCIC\\Detección de Anomalías\\Imágenes\\{}.png'.format(save_name))\n",
    "    plt.show()\n",
    "\n",
    "graph_pob(pob, \"Población_Gauss_10_3\")"
   ]
  },
  {
   "cell_type": "code",
   "execution_count": null,
   "id": "d228af9d-77e3-4423-8565-aac967d66b36",
   "metadata": {},
   "outputs": [],
   "source": []
  }
 ],
 "metadata": {
  "kernelspec": {
   "display_name": "Python 3 (ipykernel)",
   "language": "python",
   "name": "python3"
  },
  "language_info": {
   "codemirror_mode": {
    "name": "ipython",
    "version": 3
   },
   "file_extension": ".py",
   "mimetype": "text/x-python",
   "name": "python",
   "nbconvert_exporter": "python",
   "pygments_lexer": "ipython3",
   "version": "3.11.9"
  }
 },
 "nbformat": 4,
 "nbformat_minor": 5
}
