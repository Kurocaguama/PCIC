{
 "cells": [
  {
   "cell_type": "code",
   "execution_count": 1,
   "id": "226f6d69-e75f-41f0-88ae-724d3e6742f4",
   "metadata": {},
   "outputs": [
    {
     "data": {
      "text/html": [
       "<div>\n",
       "<style scoped>\n",
       "    .dataframe tbody tr th:only-of-type {\n",
       "        vertical-align: middle;\n",
       "    }\n",
       "\n",
       "    .dataframe tbody tr th {\n",
       "        vertical-align: top;\n",
       "    }\n",
       "\n",
       "    .dataframe thead th {\n",
       "        text-align: right;\n",
       "    }\n",
       "</style>\n",
       "<table border=\"1\" class=\"dataframe\">\n",
       "  <thead>\n",
       "    <tr style=\"text-align: right;\">\n",
       "      <th></th>\n",
       "      <th>C1</th>\n",
       "      <th>C2</th>\n",
       "      <th>C3</th>\n",
       "      <th>C4</th>\n",
       "    </tr>\n",
       "  </thead>\n",
       "  <tbody>\n",
       "    <tr>\n",
       "      <th>0</th>\n",
       "      <td>2439.5</td>\n",
       "      <td>17.8742</td>\n",
       "      <td>54.3</td>\n",
       "      <td>2.0560</td>\n",
       "    </tr>\n",
       "    <tr>\n",
       "      <th>1</th>\n",
       "      <td>6052.0</td>\n",
       "      <td>18.4995</td>\n",
       "      <td>52.4</td>\n",
       "      <td>0.0670</td>\n",
       "    </tr>\n",
       "    <tr>\n",
       "      <th>2</th>\n",
       "      <td>6378.0</td>\n",
       "      <td>18.8235</td>\n",
       "      <td>55.2</td>\n",
       "      <td>0.1670</td>\n",
       "    </tr>\n",
       "    <tr>\n",
       "      <th>3</th>\n",
       "      <td>3396.0</td>\n",
       "      <td>19.2444</td>\n",
       "      <td>39.3</td>\n",
       "      <td>0.9340</td>\n",
       "    </tr>\n",
       "    <tr>\n",
       "      <th>4</th>\n",
       "      <td>71492.0</td>\n",
       "      <td>20.4730</td>\n",
       "      <td>13.3</td>\n",
       "      <td>0.4890</td>\n",
       "    </tr>\n",
       "    <tr>\n",
       "      <th>5</th>\n",
       "      <td>60268.0</td>\n",
       "      <td>21.0834</td>\n",
       "      <td>6.9</td>\n",
       "      <td>0.5650</td>\n",
       "    </tr>\n",
       "    <tr>\n",
       "      <th>6</th>\n",
       "      <td>25559.0</td>\n",
       "      <td>21.7784</td>\n",
       "      <td>12.7</td>\n",
       "      <td>0.4630</td>\n",
       "    </tr>\n",
       "    <tr>\n",
       "      <th>7</th>\n",
       "      <td>24764.0</td>\n",
       "      <td>22.2263</td>\n",
       "      <td>16.4</td>\n",
       "      <td>0.0860</td>\n",
       "    </tr>\n",
       "    <tr>\n",
       "      <th>8</th>\n",
       "      <td>1188.5</td>\n",
       "      <td>22.4999</td>\n",
       "      <td>18.5</td>\n",
       "      <td>2.4880</td>\n",
       "    </tr>\n",
       "    <tr>\n",
       "      <th>9</th>\n",
       "      <td>20153.7</td>\n",
       "      <td>18.2503</td>\n",
       "      <td>26.9</td>\n",
       "      <td>0.7315</td>\n",
       "    </tr>\n",
       "  </tbody>\n",
       "</table>\n",
       "</div>"
      ],
      "text/plain": [
       "        C1       C2    C3      C4\n",
       "0   2439.5  17.8742  54.3  2.0560\n",
       "1   6052.0  18.4995  52.4  0.0670\n",
       "2   6378.0  18.8235  55.2  0.1670\n",
       "3   3396.0  19.2444  39.3  0.9340\n",
       "4  71492.0  20.4730  13.3  0.4890\n",
       "5  60268.0  21.0834   6.9  0.5650\n",
       "6  25559.0  21.7784  12.7  0.4630\n",
       "7  24764.0  22.2263  16.4  0.0860\n",
       "8   1188.5  22.4999  18.5  2.4880\n",
       "9  20153.7  18.2503  26.9  0.7315"
      ]
     },
     "execution_count": 1,
     "metadata": {},
     "output_type": "execute_result"
    }
   ],
   "source": [
    "import pandas as pd\n",
    "\n",
    "vecs = pd.read_csv(r'C:\\Users\\Frank\\Desktop\\10vecs_DA.csv', sep = '\\t', header = None)\n",
    "vecs = vecs.rename(columns = {0: 'C1', 1: 'C2', 2: 'C3', 3: 'C4'})\n",
    "vecs"
   ]
  },
  {
   "cell_type": "code",
   "execution_count": 2,
   "id": "cfddfe08-459f-48f1-b8e0-1636078033fd",
   "metadata": {},
   "outputs": [
    {
     "name": "stdout",
     "output_type": "stream",
     "text": [
      "Promedio Columna C1: 22169.07\n",
      "Promedio Columna C2: 20.075290000000003\n",
      "Promedio Columna C3: 29.589999999999996\n",
      "Promedio Columna C4: 0.80465\n"
     ]
    }
   ],
   "source": [
    "print('Promedio Columna C1: {}'.format(vecs[\"C1\"].mean()))\n",
    "print('Promedio Columna C2: {}'.format(vecs[\"C2\"].mean()))\n",
    "print('Promedio Columna C3: {}'.format(vecs[\"C3\"].mean()))\n",
    "print('Promedio Columna C4: {}'.format(vecs[\"C4\"].mean()))"
   ]
  },
  {
   "cell_type": "code",
   "execution_count": 3,
   "id": "c4126036-b7f7-458b-b1b3-3d1f62bb51ef",
   "metadata": {},
   "outputs": [],
   "source": [
    "import math\n",
    "\n",
    "vecs_list = [list(vecs.iloc[i]) for i in range(len(vecs['C1']))]\n",
    "\n",
    "def dist_euclidiana(v1, v2):\n",
    "    return math.sqrt(sum((a - b) ** 2 for a, b in zip(v1, v2)))\n",
    "\n",
    "def mayor_distancia(vecs_list):\n",
    "    n = len(vecs_list)\n",
    "    max_dist_promedio = -1\n",
    "    max_lejano = None\n",
    "    max_index_lejano = -1\n",
    "    \n",
    "    for i, vector in enumerate(vecs_list):\n",
    "        dist_total = 0\n",
    "        #Distancia entre todos\n",
    "        for j, otro in enumerate(vecs_list):\n",
    "            if i != j:  \n",
    "                dist_total += dist_euclidiana(vector, otro)\n",
    "        \n",
    "        dist_promedio = dist_total / (n - 1)\n",
    "        \n",
    "        print(f\"V{i}: {vector} - Distancia promedio con otros: {round(dist_promedio, 3)}\")\n",
    "        \n",
    "        # Actualizamos\n",
    "        if dist_promedio > max_dist_promedio:\n",
    "            max_dist_promedio = dist_promedio\n",
    "            max_lejano = vector\n",
    "            max_index_lejano = i\n",
    "    \n",
    "    return max_lejano, max_dist_promedio, max_index_lejano"
   ]
  },
  {
   "cell_type": "code",
   "execution_count": 4,
   "id": "fb2766ea-6c2a-446f-a355-9aeaa8e8dc0f",
   "metadata": {},
   "outputs": [
    {
     "name": "stdout",
     "output_type": "stream",
     "text": [
      "V0: [2439.5, 17.8742, 54.3, 2.056] - Distancia promedio con otros: 22199.829\n",
      "V1: [6052.0, 18.4995, 52.4, 0.067] - Distancia promedio con otros: 20381.666\n",
      "V2: [6378.0, 18.8235, 55.2, 0.167] - Distancia promedio con otros: 20309.227\n",
      "V3: [3396.0, 19.2444, 39.3, 0.934] - Distancia promedio con otros: 21562.116\n",
      "V4: [71492.0, 20.473, 13.3, 0.489] - Distancia promedio con otros: 54803.261\n",
      "V5: [60268.0, 21.0834, 6.9, 0.565] - Distancia promedio con otros: 44826.376\n",
      "V6: [25559.0, 21.7784, 12.7, 0.463] - Distancia promedio con otros: 21687.052\n",
      "V7: [24764.0, 22.2263, 16.4, 0.086] - Distancia promedio con otros: 21333.716\n",
      "V8: [1188.5, 22.4999, 18.5, 2.488] - Distancia promedio con otros: 23311.842\n",
      "V9: [20153.7, 18.2503, 26.9, 0.7315] - Distancia promedio con otros: 20309.202\n",
      "Vector con la mayor distancia promedio entre vectores: [71492.0, 20.473, 13.3, 0.489]. Distancia promedio: 54803.26072566994\n"
     ]
    }
   ],
   "source": [
    "vec_lejano, max_dist, index = mayor_distancia(vecs_list)\n",
    "print(f\"Vector con la mayor distancia promedio entre vectores: {vec_lejano}. Distancia promedio: {max_dist}\")"
   ]
  },
  {
   "cell_type": "code",
   "execution_count": null,
   "id": "4d54e732-6144-4355-ad42-d25aae1b0a7c",
   "metadata": {},
   "outputs": [],
   "source": []
  }
 ],
 "metadata": {
  "kernelspec": {
   "display_name": "Python 3 (ipykernel)",
   "language": "python",
   "name": "python3"
  },
  "language_info": {
   "codemirror_mode": {
    "name": "ipython",
    "version": 3
   },
   "file_extension": ".py",
   "mimetype": "text/x-python",
   "name": "python",
   "nbconvert_exporter": "python",
   "pygments_lexer": "ipython3",
   "version": "3.11.9"
  }
 },
 "nbformat": 4,
 "nbformat_minor": 5
}
