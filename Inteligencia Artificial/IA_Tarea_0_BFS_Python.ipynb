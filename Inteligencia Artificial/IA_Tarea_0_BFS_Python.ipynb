{
  "nbformat": 4,
  "nbformat_minor": 0,
  "metadata": {
    "colab": {
      "provenance": []
    },
    "kernelspec": {
      "name": "python3",
      "display_name": "Python 3"
    },
    "language_info": {
      "name": "python"
    }
  },
  "cells": [
    {
      "cell_type": "markdown",
      "source": [
        "## BFS"
      ],
      "metadata": {
        "id": "yJH_zJYD1hnF"
      }
    },
    {
      "cell_type": "markdown",
      "source": [
        "BFS es un algoritmo de búsqueda usado para explorar gráficas mediante la generación de un árbol de distancias mínimas a partir de un vértice dentro de la gráfica.\n",
        "\n",
        "A falta de detalles sobre los procesos internos del algoritmo (GOAL-TEST, SOLUTION, STATE) se implementa de manera arbitraria.\n",
        "\n",
        "-----"
      ],
      "metadata": {
        "id": "oIU7uJPy2T8F"
      }
    },
    {
      "cell_type": "code",
      "execution_count": null,
      "metadata": {
        "id": "iOrLBYvO1g8T"
      },
      "outputs": [],
      "source": [
        "# Definimos una gráfica mediante sus vértices y adyacencias.\n",
        "# En nuestro caso consideraremos los vértices [A-G], y las adyacencias definidas mediante el siguiente diccionario:\n",
        "g = {\n",
        "    'A' : ['B', 'C', 'E'],\n",
        "    'B' : ['A', 'G'],\n",
        "    'C' : ['A', 'F'],\n",
        "    'D' : ['E', 'G'],\n",
        "    'E' : ['A', 'D'],\n",
        "    'F' : ['C'],\n",
        "    'G' : ['B', 'D']\n",
        "}\n",
        "\n",
        "# La siguiente función denota el (intento de) algoritmo BFS:\n",
        "\n",
        "def BFS(graph, node):\n",
        "    \"Implementa el algoritmo BFS\"\n",
        "    # graph = Gráfica de entrada\n",
        "    # node = nodo base del árbol\n",
        "\n",
        "    # tree = corresponde al árbol resultante del algoritmo\n",
        "    tree = {}\n",
        "    frontera = [node]\n",
        "    explorado = []\n",
        "    while (len(frontera) > 0):\n",
        "      aux = frontera.pop(0)\n",
        "      explorado.append(aux)\n",
        "      for i in graph[f'{aux}']:\n",
        "        if (i not in explorado) and (i not in frontera):\n",
        "          frontera.append(i)\n",
        "      print(f'Frontera: {frontera} ', f'Explorado: {explorado}') # Los prints, como siempre, sirven para ir viendo el desarrollo del algoritmo.\n",
        "      print(f'Arista encontrada: {aux}, {i}')\n",
        "      tree[f'{aux}'] = f'{i}'\n",
        "    return tree"
      ]
    },
    {
      "cell_type": "code",
      "source": [
        "# Algo está mal del algoritmo ya que me regresa una arista nueva que no estaba en la gráfica original.\n",
        "# El comportamiento de las listas Frontera y Explorado creo que es el correcto. Tal vez estoy agregando mal las aristas al árbol tree.\n",
        "\n",
        "print(BFS(g, 'A'))"
      ],
      "metadata": {
        "colab": {
          "base_uri": "https://localhost:8080/"
        },
        "id": "r4r5FSbZK2tm",
        "outputId": "18fade9d-06e6-49a1-f009-e38d37110b6b"
      },
      "execution_count": null,
      "outputs": [
        {
          "output_type": "stream",
          "name": "stdout",
          "text": [
            "Frontera: ['B', 'C', 'E']  Explorado: ['A']\n",
            "Arista encontrada: A, E\n",
            "Frontera: ['C', 'E', 'G']  Explorado: ['A', 'B']\n",
            "Arista encontrada: B, G\n",
            "Frontera: ['E', 'G', 'F']  Explorado: ['A', 'B', 'C']\n",
            "Arista encontrada: C, F\n",
            "Frontera: ['G', 'F', 'D']  Explorado: ['A', 'B', 'C', 'E']\n",
            "Arista encontrada: E, D\n",
            "Frontera: ['F', 'D']  Explorado: ['A', 'B', 'C', 'E', 'G']\n",
            "Arista encontrada: G, D\n",
            "Frontera: ['D']  Explorado: ['A', 'B', 'C', 'E', 'G', 'F']\n",
            "Arista encontrada: F, C\n",
            "Frontera: []  Explorado: ['A', 'B', 'C', 'E', 'G', 'F', 'D']\n",
            "Arista encontrada: D, G\n",
            "{'A': 'E', 'B': 'G', 'C': 'F', 'E': 'D', 'G': 'D', 'F': 'C', 'D': 'G'}\n"
          ]
        }
      ]
    },
    {
      "cell_type": "code",
      "source": [
        "# Según yo esto tendría que ser el resultado de BFS.\n",
        "BFS_graph = {\n",
        "    'A' : ['B', 'C', 'E'],\n",
        "    'B' : ['A', 'G'],\n",
        "    'C' : ['A', 'F'],\n",
        "    'D' : ['E'],\n",
        "    'E' : ['A', 'D'],\n",
        "    'F' : ['C'],\n",
        "    'G' : ['B']\n",
        "}"
      ],
      "metadata": {
        "id": "7PcmIIzMDGAL"
      },
      "execution_count": null,
      "outputs": []
    },
    {
      "cell_type": "code",
      "source": [],
      "metadata": {
        "id": "lOqID9mSKaMv"
      },
      "execution_count": null,
      "outputs": []
    }
  ]
}