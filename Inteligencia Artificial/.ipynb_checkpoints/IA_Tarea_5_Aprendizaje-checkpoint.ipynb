{
 "cells": [
  {
   "cell_type": "markdown",
   "id": "c9683b3c-20ed-4e01-bfac-56e31af1b6cc",
   "metadata": {},
   "source": [
    "## Dataset\n",
    "\n",
    "En las siguientes celdas se importa el dataset y se prepara para la implementación de los modelos de aprendizaje."
   ]
  },
  {
   "cell_type": "code",
   "execution_count": 1,
   "id": "8ae7dc01-549e-4979-b28a-d59b54575528",
   "metadata": {},
   "outputs": [
    {
     "name": "stdout",
     "output_type": "stream",
     "text": [
      "Path to dataset files: C:\\Users\\FLopezP\\.cache\\kagglehub\\datasets\\dragonheir\\logistic-regression\\versions\\1\n"
     ]
    }
   ],
   "source": [
    "import pandas as pd\n",
    "import kagglehub\n",
    "\n",
    "path = kagglehub.dataset_download(\"dragonheir/logistic-regression\")\n",
    "\n",
    "print(\"Path to dataset files:\", path)\n",
    "dataset = pd.read_csv(r'C:\\Users\\FLopezP\\.cache\\kagglehub\\datasets\\dragonheir\\logistic-regression\\versions\\1\\Social_Network_Ads.csv')"
   ]
  },
  {
   "cell_type": "code",
   "execution_count": 2,
   "id": "54345192-17f0-4992-8399-784223d29532",
   "metadata": {
    "scrolled": true
   },
   "outputs": [
    {
     "data": {
      "text/html": [
       "<div>\n",
       "<style scoped>\n",
       "    .dataframe tbody tr th:only-of-type {\n",
       "        vertical-align: middle;\n",
       "    }\n",
       "\n",
       "    .dataframe tbody tr th {\n",
       "        vertical-align: top;\n",
       "    }\n",
       "\n",
       "    .dataframe thead th {\n",
       "        text-align: right;\n",
       "    }\n",
       "</style>\n",
       "<table border=\"1\" class=\"dataframe\">\n",
       "  <thead>\n",
       "    <tr style=\"text-align: right;\">\n",
       "      <th></th>\n",
       "      <th>User ID</th>\n",
       "      <th>Gender</th>\n",
       "      <th>GenderNum</th>\n",
       "      <th>Age</th>\n",
       "      <th>EstimatedSalary</th>\n",
       "      <th>Purchased</th>\n",
       "    </tr>\n",
       "  </thead>\n",
       "  <tbody>\n",
       "    <tr>\n",
       "      <th>0</th>\n",
       "      <td>15624510</td>\n",
       "      <td>Male</td>\n",
       "      <td>0</td>\n",
       "      <td>19</td>\n",
       "      <td>19000</td>\n",
       "      <td>0</td>\n",
       "    </tr>\n",
       "    <tr>\n",
       "      <th>1</th>\n",
       "      <td>15810944</td>\n",
       "      <td>Male</td>\n",
       "      <td>0</td>\n",
       "      <td>35</td>\n",
       "      <td>20000</td>\n",
       "      <td>0</td>\n",
       "    </tr>\n",
       "    <tr>\n",
       "      <th>2</th>\n",
       "      <td>15668575</td>\n",
       "      <td>Female</td>\n",
       "      <td>1</td>\n",
       "      <td>26</td>\n",
       "      <td>43000</td>\n",
       "      <td>0</td>\n",
       "    </tr>\n",
       "    <tr>\n",
       "      <th>3</th>\n",
       "      <td>15603246</td>\n",
       "      <td>Female</td>\n",
       "      <td>1</td>\n",
       "      <td>27</td>\n",
       "      <td>57000</td>\n",
       "      <td>0</td>\n",
       "    </tr>\n",
       "    <tr>\n",
       "      <th>4</th>\n",
       "      <td>15804002</td>\n",
       "      <td>Male</td>\n",
       "      <td>0</td>\n",
       "      <td>19</td>\n",
       "      <td>76000</td>\n",
       "      <td>0</td>\n",
       "    </tr>\n",
       "    <tr>\n",
       "      <th>...</th>\n",
       "      <td>...</td>\n",
       "      <td>...</td>\n",
       "      <td>...</td>\n",
       "      <td>...</td>\n",
       "      <td>...</td>\n",
       "      <td>...</td>\n",
       "    </tr>\n",
       "    <tr>\n",
       "      <th>395</th>\n",
       "      <td>15691863</td>\n",
       "      <td>Female</td>\n",
       "      <td>1</td>\n",
       "      <td>46</td>\n",
       "      <td>41000</td>\n",
       "      <td>1</td>\n",
       "    </tr>\n",
       "    <tr>\n",
       "      <th>396</th>\n",
       "      <td>15706071</td>\n",
       "      <td>Male</td>\n",
       "      <td>0</td>\n",
       "      <td>51</td>\n",
       "      <td>23000</td>\n",
       "      <td>1</td>\n",
       "    </tr>\n",
       "    <tr>\n",
       "      <th>397</th>\n",
       "      <td>15654296</td>\n",
       "      <td>Female</td>\n",
       "      <td>1</td>\n",
       "      <td>50</td>\n",
       "      <td>20000</td>\n",
       "      <td>1</td>\n",
       "    </tr>\n",
       "    <tr>\n",
       "      <th>398</th>\n",
       "      <td>15755018</td>\n",
       "      <td>Male</td>\n",
       "      <td>0</td>\n",
       "      <td>36</td>\n",
       "      <td>33000</td>\n",
       "      <td>0</td>\n",
       "    </tr>\n",
       "    <tr>\n",
       "      <th>399</th>\n",
       "      <td>15594041</td>\n",
       "      <td>Female</td>\n",
       "      <td>1</td>\n",
       "      <td>49</td>\n",
       "      <td>36000</td>\n",
       "      <td>1</td>\n",
       "    </tr>\n",
       "  </tbody>\n",
       "</table>\n",
       "<p>400 rows × 6 columns</p>\n",
       "</div>"
      ],
      "text/plain": [
       "      User ID  Gender  GenderNum  Age  EstimatedSalary  Purchased\n",
       "0    15624510    Male          0   19            19000          0\n",
       "1    15810944    Male          0   35            20000          0\n",
       "2    15668575  Female          1   26            43000          0\n",
       "3    15603246  Female          1   27            57000          0\n",
       "4    15804002    Male          0   19            76000          0\n",
       "..        ...     ...        ...  ...              ...        ...\n",
       "395  15691863  Female          1   46            41000          1\n",
       "396  15706071    Male          0   51            23000          1\n",
       "397  15654296  Female          1   50            20000          1\n",
       "398  15755018    Male          0   36            33000          0\n",
       "399  15594041  Female          1   49            36000          1\n",
       "\n",
       "[400 rows x 6 columns]"
      ]
     },
     "execution_count": 2,
     "metadata": {},
     "output_type": "execute_result"
    }
   ],
   "source": [
    "# Female = 1\n",
    "# Male = 0\n",
    "aux = []\n",
    "for i in range(len(dataset[\"Gender\"])):\n",
    "    if dataset[\"Gender\"][i] == \"Female\":\n",
    "        aux.append(1)\n",
    "    else:\n",
    "        aux.append(0)\n",
    "\n",
    "dataset[\"GenderNum\"] = aux\n",
    "dataset = dataset.loc[:,[\"User ID\", \"Gender\", \"GenderNum\", \"Age\", \"EstimatedSalary\", \"Purchased\"]]\n",
    "dataset"
   ]
  },
  {
   "cell_type": "code",
   "execution_count": 3,
   "id": "864d18d2-c5d9-4d46-9caf-2e5daa360379",
   "metadata": {},
   "outputs": [],
   "source": [
    "# train test split\n",
    "ds_train = dataset[0:280]\n",
    "ds_test = dataset[280:400].reset_index()\n",
    "ds_test = ds_test.drop(columns = [\"index\"])\n",
    "labels_train = ds_train[\"Purchased\"]\n",
    "labels_test = ds_test[\"Purchased\"].reset_index()"
   ]
  },
  {
   "cell_type": "markdown",
   "id": "13cfaed8-ebe8-4298-842d-4043728410cb",
   "metadata": {},
   "source": [
    "## Regresión Logística\n",
    "\n",
    "Buscamos predecir si dadas 3 características (Género, Edad, Salario Estimado) se compra un elemento."
   ]
  },
  {
   "cell_type": "code",
   "execution_count": 4,
   "id": "7e1cfccb-b413-4c4d-8a0d-89d3f63e9b1e",
   "metadata": {},
   "outputs": [],
   "source": [
    "# Dimensiones:\n",
    "# Vector de entrada: (M/F, Edad, Salario)\n",
    "# Vector de pesos: (a, b, c)^T\n",
    "# Sesgo: d\n",
    "# z = Entrada.Pesos + Sesgo\n",
    "# Proba = 1/(1+e^-z)\n",
    "\n",
    "import numpy as np\n",
    "def mix_char(ds):\n",
    "    \"\"\"\n",
    "    ds = DataFrame, en este caso asumimos que tiene las características adecuadas del problema\n",
    "\n",
    "    return: lista de características normalizadas\n",
    "    \"\"\"\n",
    "    df = ds.drop(columns = [\"User ID\", \"Gender\"])\n",
    "    for column in df.columns:\n",
    "        if column != \"GenderNum\":\n",
    "            df[column] = df[column] / df[column].max()\n",
    "    \n",
    "    char = []\n",
    "    for i in range(len(ds)):\n",
    "        aux = [df[\"GenderNum\"][i], df[\"Age\"][i], df[\"EstimatedSalary\"][i]]\n",
    "        arr_aux = np.array(aux)\n",
    "        arr_aux = np.reshape(arr_aux, (1,3))\n",
    "        char.append(arr_aux)\n",
    "    return char"
   ]
  },
  {
   "cell_type": "code",
   "execution_count": 5,
   "id": "b3deb2e3-69fa-4d88-8508-40c1810217e4",
   "metadata": {},
   "outputs": [
    {
     "name": "stdout",
     "output_type": "stream",
     "text": [
      "[[0.         0.31666667 0.12666667]] [[1.         0.98333333 0.61111111]]\n"
     ]
    }
   ],
   "source": [
    "#Tenemos los conjuntos de entrenamiento ya agrupados. Ahora tenemos que realizar la multiplicación por los pesos.\n",
    "train_char = mix_char(ds_train)\n",
    "test_char = mix_char(ds_test)\n",
    "\n",
    "print(train_char[0], test_char[0])"
   ]
  },
  {
   "cell_type": "code",
   "execution_count": 6,
   "id": "357e033c-6ee8-415b-b7d7-f3b62af87edd",
   "metadata": {},
   "outputs": [],
   "source": [
    "def logit(train_instance, weight, bias):\n",
    "    \"\"\"\n",
    "    train_instance = Vector único de 1x3.\n",
    "    weight = Vector de pesos (1x3)\n",
    "    bias = Vector del sesgo\n",
    "\n",
    "    returns logit del vector\n",
    "    \"\"\"\n",
    "    weight = weight.reshape(3,1)\n",
    "    z = np.dot(train_instance, weight) + bias\n",
    "    log = 1 / (1 + np.exp(-z))\n",
    "    return log[0][0]\n",
    "\n",
    "def cross_entropy_pog(y, logit):\n",
    "    \"\"\"\n",
    "    y = valor del label\n",
    "    muestra = logit de un valor del dataset\n",
    "\n",
    "    returns CrossEntropy(Label, Muestra)\n",
    "    \"\"\"\n",
    "    cross_entropy = -((y*np.log(logit)) + ((1-y)*np.log(1-logit)))\n",
    "    return cross_entropy"
   ]
  },
  {
   "cell_type": "code",
   "execution_count": 7,
   "id": "b3e59131-56b1-4d21-91c2-246a74cf6b81",
   "metadata": {},
   "outputs": [],
   "source": [
    "def logistic_regression_w_b(lr, labels, train, epochs):\n",
    "    \"\"\"\n",
    "    lr = learning rate\n",
    "    labels = labels de entrenamiento\n",
    "    train = conjunto de datos de entrenamiento\n",
    "    epochs = épocas de entrenamiento\n",
    "\n",
    "    returns w, bias los vectores de peso y sesgo\n",
    "    \"\"\"\n",
    "    w = np.zeros((1,3))\n",
    "    bias = np.random.rand(1)\n",
    "    labels = labels\n",
    "    train = train\n",
    "    for i in range(epochs):\n",
    "        for i in range(len(train)):\n",
    "            a = logit(train[i], w, bias) # Predicción del modelo\n",
    "            ce_loss = cross_entropy_pog(labels[i], a)\n",
    "            grad = (a - labels[i])*train[i]\n",
    "            grad_bias = (a - labels[i])\n",
    "            w -= lr*grad\n",
    "            bias -= lr*grad_bias\n",
    "    return w, bias"
   ]
  },
  {
   "cell_type": "code",
   "execution_count": 8,
   "id": "4de5a763-92e4-4e3c-9392-7efbb59acf10",
   "metadata": {},
   "outputs": [
    {
     "name": "stdout",
     "output_type": "stream",
     "text": [
      "[[-0.11691264  4.95959305  4.3863788 ]] [-5.89279336]\n"
     ]
    }
   ],
   "source": [
    "w_, b_ = logistic_regression_w_b(0.05, labels_train, train_char, 25)\n",
    "print(w_, b_)"
   ]
  },
  {
   "cell_type": "code",
   "execution_count": 9,
   "id": "c3aac567-2874-4bf3-88d4-efb37640ec61",
   "metadata": {},
   "outputs": [],
   "source": [
    "eval = [logit(i, w_, b_) for i in test_char]\n",
    "eval_bin = []\n",
    "for i in eval:\n",
    "    if i >= 0.5:\n",
    "        eval_bin.append(1)\n",
    "    else:\n",
    "        eval_bin.append(0)"
   ]
  },
  {
   "cell_type": "code",
   "execution_count": 10,
   "id": "e483934c-1f0f-4dde-8f51-106c538fc1e5",
   "metadata": {},
   "outputs": [
    {
     "name": "stdout",
     "output_type": "stream",
     "text": [
      "120 120\n"
     ]
    }
   ],
   "source": [
    "test_labels_perrones = [i for i in labels_test[\"Purchased\"]]\n",
    "print(len(test_labels_perrones), len(eval_bin))"
   ]
  },
  {
   "cell_type": "code",
   "execution_count": 11,
   "id": "7e9d9e6d-678f-437d-8026-8aa9d3eda981",
   "metadata": {},
   "outputs": [],
   "source": [
    "def acc_f1(labels, eval):\n",
    "    \"\"\"\n",
    "    labels = conjunto de labels\n",
    "    eval = conjunto de predicciones del modelo\n",
    "    \"\"\"\n",
    "    tp, tn, fp, fn = 0, 0, 0, 0\n",
    "    for i in range(len(labels)):\n",
    "        if labels[i] == 1 and eval[i] == 1:\n",
    "            tp += 1\n",
    "        elif labels[i] == 0 and eval[i] == 1:\n",
    "            fp += 1\n",
    "        elif labels[i] == 1 and eval[i] == 0:\n",
    "            fn += 1\n",
    "        elif labels[i] == 0 and eval[i] == 0:\n",
    "            tn +=1\n",
    "    acc = (tp+tn)/(tp+tn+fp+fn)\n",
    "    f1 = (2*tp)/(2*tp + fp +fn)\n",
    "    print(f\"Verdaderos Positivos: {tp}, Verdaderos Negativos: {tn}\")\n",
    "    print(f\"Falsos Positivos: {fp}, Falsos Negativos: {fn}\")\n",
    "    print(f\"Accuracy: {acc}\")\n",
    "    print(f\"F1: {f1}\")"
   ]
  },
  {
   "cell_type": "code",
   "execution_count": 12,
   "id": "f0e82d74-8bbf-446b-adbe-adbd9b59a6a8",
   "metadata": {},
   "outputs": [
    {
     "name": "stdout",
     "output_type": "stream",
     "text": [
      "Verdaderos Positivos: 42, Verdaderos Negativos: 42\n",
      "Falsos Positivos: 4, Falsos Negativos: 32\n",
      "Accuracy: 0.7\n",
      "F1: 0.7\n"
     ]
    }
   ],
   "source": [
    "acc_f1(test_labels_perrones, eval_bin)"
   ]
  },
  {
   "cell_type": "code",
   "execution_count": 13,
   "id": "d182319b-f0a0-49f7-8219-10ba80fccd5a",
   "metadata": {
    "scrolled": true
   },
   "outputs": [
    {
     "name": "stdout",
     "output_type": "stream",
     "text": [
      "              precision    recall  f1-score   support\n",
      "\n",
      "           0       0.57      0.91      0.70        46\n",
      "           1       0.91      0.57      0.70        74\n",
      "\n",
      "    accuracy                           0.70       120\n",
      "   macro avg       0.74      0.74      0.70       120\n",
      "weighted avg       0.78      0.70      0.70       120\n",
      "\n",
      "[[42  4]\n",
      " [32 42]]\n"
     ]
    }
   ],
   "source": [
    "# Esta celda solo se hace para comparar\n",
    "import sklearn\n",
    "from sklearn import metrics\n",
    "print(metrics.classification_report(test_labels_perrones, eval_bin))\n",
    "print(metrics.confusion_matrix(test_labels_perrones, eval_bin)) #Algo no me encanta de los resultados cawn"
   ]
  },
  {
   "cell_type": "markdown",
   "id": "0ab9ce12-56c2-4d0c-826d-3b0ec2867c08",
   "metadata": {},
   "source": [
    "## Red Neuronal\n",
    "\n",
    "La arquitectura de esta red neuronal tendrá 3 valores de entrada, uno por cada valor del dataset. Tendremos **una** capa oculta de **n** unidades, y finalmente una salida binaria."
   ]
  },
  {
   "cell_type": "code",
   "execution_count": 14,
   "id": "a94a814b-a620-466f-842f-8e1fce6c5323",
   "metadata": {},
   "outputs": [],
   "source": [
    "class BNU:\n",
    "    \"\"\"\n",
    "    Esta clase busca implementar una neurona. Las características de cada neurona serán los valores de entrada, \n",
    "    el peso asociado, y el sesgo asociado. Si bien se tendría que tener una matriz, al considerar cada neurona\n",
    "    con su vector de pesos y sesgos, se puede tener un procesamiento aislado que permite el reajuste de pesos.\n",
    "    (No sé si sea una implementación correcta, xd)\n",
    "    \"\"\"\n",
    "    def __init__(self, *inputs):\n",
    "        self.inputs = inputs\n",
    "        self.weight = np.random.rand(1,3) # Bendiciones a Daniela por la ayuda.\n",
    "        self.bias = np.random.rand(1)\n",
    "        \n",
    "    def logit(self):\n",
    "        \"\"\"\n",
    "        Calcula el valor de salida de cada neurona con función de activación sigmoide.\n",
    "        (En otra implementación se tendría con funciones más interesantes como RELU, GELU.)\n",
    "        \"\"\"\n",
    "        input_vector = np.array(self.inputs)\n",
    "        peso = self.weight.reshape(3,1)\n",
    "        z = np.dot(input_vector, peso) + self.bias\n",
    "        log = 1 / (1 + np.exp(-z))\n",
    "        return log[0]  "
   ]
  },
  {
   "cell_type": "code",
   "execution_count": 15,
   "id": "e7655875-416c-4f5f-9824-ad0f638a4854",
   "metadata": {
    "scrolled": true
   },
   "outputs": [
    {
     "name": "stdout",
     "output_type": "stream",
     "text": [
      "Epoch: 0, Loss: 1.8463149308453826\n",
      "Epoch: 1, Loss: 1.8463149308453826\n",
      "Epoch: 2, Loss: 1.8463149308453826\n",
      "Epoch: 3, Loss: 1.8463149308453826\n",
      "Epoch: 4, Loss: 1.8463149308453826\n",
      "Epoch: 5, Loss: 1.8463149308453826\n",
      "Epoch: 6, Loss: 1.8463149308453826\n",
      "Epoch: 7, Loss: nan\n",
      "Epoch: 8, Loss: inf\n",
      "Epoch: 9, Loss: inf\n",
      "Epoch: 10, Loss: inf\n",
      "Epoch: 11, Loss: inf\n",
      "Epoch: 12, Loss: inf\n",
      "Epoch: 13, Loss: inf\n",
      "Epoch: 14, Loss: inf\n"
     ]
    },
    {
     "name": "stderr",
     "output_type": "stream",
     "text": [
      "C:\\Users\\FLopezP\\AppData\\Local\\Temp\\ipykernel_11540\\3792806984.py:21: RuntimeWarning: divide by zero encountered in log\n",
      "  cross_entropy = -((y*np.log(logit)) + ((1-y)*np.log(1-logit)))\n",
      "C:\\Users\\FLopezP\\AppData\\Local\\Temp\\ipykernel_11540\\3792806984.py:21: RuntimeWarning: invalid value encountered in scalar multiply\n",
      "  cross_entropy = -((y*np.log(logit)) + ((1-y)*np.log(1-logit)))\n"
     ]
    }
   ],
   "source": [
    "# Definimos los valores de entrada de la red y de cada capa.\n",
    "# Debe de haber una forma más sencilla de resolver esto, pero mira XD.\n",
    "\n",
    "aux_label = 0\n",
    "lr = 0.3\n",
    "a, b, c = 0, 0, 0\n",
    "epochs = 15\n",
    "\n",
    "#Inicialización de la red neuronal\n",
    "c1 = BNU(a, b, c)\n",
    "c2 = BNU(a, b, c)\n",
    "c3 = BNU(a, b, c)\n",
    "c4 = BNU(c1.logit(), c2.logit(), c3.logit())\n",
    "c5 = BNU(c1.logit(), c2.logit(), c3.logit())\n",
    "c6 = BNU(c1.logit(), c2.logit(), c3.logit())\n",
    "c7 = BNU(c4.logit(), c5.logit(), c6.logit())\n",
    "\n",
    "red_neuronal = [c1, c2, c3, c4, c5, c6, c7]\n",
    "\n",
    "# Esto inicia el periodo de entrenamiento de la red.\n",
    "for epoch in range(epochs):\n",
    "    for i in train_char:\n",
    "        label = labels_train[aux_label]\n",
    "        \n",
    "        inp1, inp2, inp3 = i[0]\n",
    "        \n",
    "        c1.inputs = inp1, inp2, inp3\n",
    "        c2.inputs = inp1, inp2, inp3\n",
    "        c3.inputs = inp1, inp2, inp3\n",
    "        \n",
    "        c4.inputs = c1.logit(), c2.logit(), c3.logit()\n",
    "        c5.inputs = c1.logit(), c2.logit(), c3.logit()\n",
    "        c6.inputs = c1.logit(), c2.logit(), c3.logit()\n",
    "        \n",
    "        c7.inputs = c4.logit(), c5.logit(), c6.logit()\n",
    "    \n",
    "        #Parte del entrenamiento\n",
    "        pred = c7.logit()  #Output de la última celda\n",
    "        ce_loss = cross_entropy_pog(label, pred)\n",
    "        grad = (a - label)*i\n",
    "        grad_bias = (a - label)\n",
    "    \n",
    "        for j in red_neuronal:\n",
    "            j.weight -= lr*grad\n",
    "            j.bias -= lr*grad_bias\n",
    "\n",
    "    print(f\"Epoch: {epoch}, Loss: {ce_loss}\")\n",
    "    aux_label += 1"
   ]
  },
  {
   "cell_type": "code",
   "execution_count": 16,
   "id": "4a2c83d1-a55b-402d-8598-3134b4b2330f",
   "metadata": {},
   "outputs": [],
   "source": [
    "# Evaluación de la red\n",
    "\n",
    "aux_label = 0\n",
    "eval_rn = []\n",
    "\n",
    "for i in test_char:\n",
    "    i1, i2, i3 = i[0]\n",
    "    label = test_labels_perrones[aux_label]\n",
    "    \n",
    "    c1.inputs = i1, i2, i3\n",
    "    c2.inputs = i1, i2, i3\n",
    "    c3.inputs = i1, i2, i3\n",
    "    \n",
    "    c4.inputs = c1.logit(), c2.logit(), c3.logit()\n",
    "    c5.inputs = c1.logit(), c2.logit(), c3.logit()\n",
    "    c6.inputs = c1.logit(), c2.logit(), c3.logit()\n",
    "    \n",
    "    c7.inputs = c4.logit(), c5.logit(), c6.logit()\n",
    "    pred = c7.logit()\n",
    "\n",
    "    if pred >= 0.5:\n",
    "        eval_rn.append(1)\n",
    "    else:\n",
    "        eval_rn.append(0)"
   ]
  },
  {
   "cell_type": "code",
   "execution_count": 17,
   "id": "d6a83c51-3344-4d45-8ddd-26f6a4be9667",
   "metadata": {},
   "outputs": [
    {
     "name": "stdout",
     "output_type": "stream",
     "text": [
      "Verdaderos Positivos: 74, Verdaderos Negativos: 0\n",
      "Falsos Positivos: 46, Falsos Negativos: 0\n",
      "Accuracy: 0.6166666666666667\n",
      "F1: 0.7628865979381443\n"
     ]
    }
   ],
   "source": [
    "# Predice maaaaaaaaaaaaaaaaaaaaaaaaaaaaaaal, todo es positivo según mi querida red neuronal.\n",
    "# No sé qué pingas hice mal. \n",
    "# Bueno sí sé, retropropagación, ¿pero cómo rayos implemento eso?\n",
    "acc_f1(test_labels_perrones, eval_rn)"
   ]
  },
  {
   "cell_type": "markdown",
   "id": "0e176501-8284-467f-a71b-2d9f33c32033",
   "metadata": {},
   "source": [
    "**Dudas**\n",
    "\n",
    "1. No hay un algoritmo de retropropagación debido a que no encuentro una forma de relacionar las neuronas dentro de mi red más allá del input. ¿Qué mejoras se le podrían hacer a la clase de BNU para lidiar con esto?\n",
    "2. ¿Cómo se calculan las derivadas parciales en cada caso?"
   ]
  },
  {
   "cell_type": "code",
   "execution_count": null,
   "id": "0c778f31-be7a-480b-9b4c-00d16498ec65",
   "metadata": {},
   "outputs": [],
   "source": []
  }
 ],
 "metadata": {
  "kernelspec": {
   "display_name": "Python 3 (ipykernel)",
   "language": "python",
   "name": "python3"
  },
  "language_info": {
   "codemirror_mode": {
    "name": "ipython",
    "version": 3
   },
   "file_extension": ".py",
   "mimetype": "text/x-python",
   "name": "python",
   "nbconvert_exporter": "python",
   "pygments_lexer": "ipython3",
   "version": "3.10.14"
  }
 },
 "nbformat": 4,
 "nbformat_minor": 5
}
