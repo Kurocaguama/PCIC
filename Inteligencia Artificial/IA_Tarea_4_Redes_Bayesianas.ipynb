{
  "nbformat": 4,
  "nbformat_minor": 0,
  "metadata": {
    "colab": {
      "provenance": [],
      "collapsed_sections": [
        "QPhvUKQE6VL-",
        "w3VO99Fz6Yh1",
        "zmG-1Igx_vJg"
      ]
    },
    "kernelspec": {
      "name": "python3",
      "display_name": "Python 3"
    },
    "language_info": {
      "name": "python"
    }
  },
  "cells": [
    {
      "cell_type": "markdown",
      "source": [
        "#A continuación se describen dos formas de representar redes bayesianas. La primera siendo desde cero mediante definiendo clases de variables aleatorias. La segunda haciendo uso de gráficas mediante atributos en los nodos."
      ],
      "metadata": {
        "id": "XZDRAGHR6DRY"
      }
    },
    {
      "cell_type": "markdown",
      "source": [
        "### Clases"
      ],
      "metadata": {
        "id": "QPhvUKQE6VL-"
      }
    },
    {
      "cell_type": "code",
      "source": [
        "\"\"\"\n",
        "Esta los elementos de esta clase van a tener nombre, una tabla de probabilidades\n",
        "definida posteriormente, y la lista de padres.\n",
        "\"\"\"\n",
        "class VA:\n",
        "  def __init__(self, name, *padre):\n",
        "    self.name = name\n",
        "    self.TablaProba = None\n",
        "    self.padre = list(padre)"
      ],
      "metadata": {
        "id": "5WhkjjmVaIq3"
      },
      "execution_count": null,
      "outputs": []
    },
    {
      "cell_type": "code",
      "source": [
        "burglary = VA(\"Robo\", None)\n",
        "sismo = VA(\"Sismo\", None)\n",
        "alarm = VA(\"Alarma\", burglary, sismo)\n",
        "john = VA(\"JohnCalls\", alarm)\n",
        "mary = VA(\"MaryCalls\", alarm)\n",
        "\n",
        "RedBayes = [burglary, sismo, alarm, john, mary] #¡Esta es la red!"
      ],
      "metadata": {
        "id": "5kV61bPCb3vq"
      },
      "execution_count": null,
      "outputs": []
    },
    {
      "cell_type": "code",
      "source": [
        "for i in RedBayes:\n",
        "  for j in i.padre:\n",
        "    if j != None:\n",
        "      print(f\"Padre: {j.name}, Hijo: {i.name}\")\n",
        "    else:\n",
        "      print(f\"Padre: {j}, Hijo: {i.name}\")"
      ],
      "metadata": {
        "id": "Za-RACb8dgHW",
        "colab": {
          "base_uri": "https://localhost:8080/"
        },
        "outputId": "ef198221-6761-495b-d1df-55f442727207"
      },
      "execution_count": null,
      "outputs": [
        {
          "output_type": "stream",
          "name": "stdout",
          "text": [
            "Padre: None, Hijo: Robo\n",
            "Padre: None, Hijo: Sismo\n",
            "Padre: Robo, Hijo: Alarma\n",
            "Padre: Sismo, Hijo: Alarma\n",
            "Padre: Alarma, Hijo: JohnCalls\n",
            "Padre: Alarma, Hijo: MaryCalls\n"
          ]
        }
      ]
    },
    {
      "cell_type": "code",
      "source": [
        "# Definimos la tabla de probabilidades condicional para cada variable\n",
        "\n",
        "burglary.TablaProba = {\n",
        "    '+b' : 0.001,\n",
        "    '-b' : 0.999\n",
        "}\n",
        "\n",
        "sismo.TablaProba = {\n",
        "    '+s' : 0.002,\n",
        "    '-s' : 0.998\n",
        "}\n",
        "\n",
        "alarm.TablaProba = {\n",
        "    '+b+e+a' : 0.95,\n",
        "    '+b+e-a' : 0.05,\n",
        "    '+b-e+a' : 0.94,\n",
        "    '+b-e-a' : 0.06,\n",
        "    '-b+e+a' : 0.29,\n",
        "    '-b+e-a' : 0.71,\n",
        "    '-b-e+a' : 0.001,\n",
        "    '-b-e-a' : 0.999,\n",
        "}\n",
        "\n",
        "john.TablaProba = {\n",
        "    '+a+j' : 0.9,\n",
        "    '+a-j' : 0.1,\n",
        "    '-a+j' : 0.05,\n",
        "    '-a-j' : 0.95,\n",
        "}\n",
        "\n",
        "mary.TablaProba = {\n",
        "    '+a+m' : 0.7,\n",
        "    '+a-m' : 0.3,\n",
        "    '-a+m' : 0.01,\n",
        "    '-a-m' : 0.99,\n",
        "}\n",
        "\n",
        "for i in RedBayes:\n",
        "  print(i.TablaProba)"
      ],
      "metadata": {
        "colab": {
          "base_uri": "https://localhost:8080/"
        },
        "id": "cr868W_o7VU_",
        "outputId": "92a9a595-4074-414d-b1f5-d643edb0fefd"
      },
      "execution_count": null,
      "outputs": [
        {
          "output_type": "stream",
          "name": "stdout",
          "text": [
            "{'+b': 0.001, '-b': 0.999}\n",
            "{'+s': 0.002, '-s': 0.998}\n",
            "{'+b+e+a': 0.95, '+b+e-a': 0.05, '+b-e+a': 0.94, '+b-e-a': 0.06, '-b+e+a': 0.29, '-b+e-a': 0.71, '-b-e+a': 0.001, '-b-e-a': 0.999}\n",
            "{'+a+j': 0.9, '+a-j': 0.1, '-a+j': 0.05, '-a-j': 0.95}\n",
            "{'+a+m': 0.7, '+a-m': 0.3, '-a+m': 0.01, '-a-m': 0.99}\n"
          ]
        }
      ]
    },
    {
      "cell_type": "markdown",
      "source": [
        "Si bien esta forma de describir redes bayesianas cumple y describe las relaciones, la estructura de las variables únicamente está dada por el valor .padre, así que poder iterar sobre esto y generar métodos como d-separación e inferencia es complicado."
      ],
      "metadata": {
        "id": "Yt20inYc9j3A"
      }
    },
    {
      "cell_type": "markdown",
      "source": [
        "### Grafos"
      ],
      "metadata": {
        "id": "w3VO99Fz6Yh1"
      }
    },
    {
      "cell_type": "code",
      "source": [
        "import networkx as nx"
      ],
      "metadata": {
        "id": "QBKo3g_Dwrc9"
      },
      "execution_count": null,
      "outputs": []
    },
    {
      "cell_type": "code",
      "source": [
        "def create_bayes(nodes, edges):\n",
        "    \"\"\"\n",
        "    Regresa una red bayesiana, dado un arreglo de nodos,\n",
        "    donde cada elemento de la lista es un par (nombre, características)\n",
        "    con característica (color y tabla de probabilidad)\n",
        "    y un arreglo con la relaciones entre esos nodos (parejas origen, destino)\n",
        "    \"\"\"\n",
        "    graph = nx.DiGraph()\n",
        "    graph.add_nodes_from(nodes)\n",
        "    graph.add_edges_from(edges)\n",
        "\n",
        "    return graph\n",
        "\n",
        "def show_node(nodes):\n",
        "    \"\"\"\n",
        "    Nos muestra el nombre color y tabla de probabilidad de cada nodo\n",
        "    \"\"\"\n",
        "    for n in nodes.data():\n",
        "        print(f\"Nodo: {n[0]}\\nColor: {n[1]['color']} \\nProb:\")\n",
        "        for p in n[1]['table']:\n",
        "            print(f\"{p}: {n[1]['table'][p]}\")\n",
        "        print('-------------\\n')\n"
      ],
      "metadata": {
        "id": "8DBAZv0C-alB"
      },
      "execution_count": null,
      "outputs": []
    },
    {
      "cell_type": "code",
      "source": [
        "info_b = {'color': 'white', 'table': {'+b': 0.001, '-b': 0.999}}\n",
        "info_e = {'color': 'white', 'table': {'+e': 0.002, '-e': 0.998}}\n",
        "info_a = {'color': 'white', 'table': {'+b+e+a': 0.95,\n",
        "                                      '+b+e-a': 0.05,\n",
        "                                      '+b-e+a': 0.94,\n",
        "                                      '+b-e-a': 0.06,\n",
        "                                      '-b+e+a': 0.29,\n",
        "                                      '-b+e-a': 0.71,\n",
        "                                      '-b+e+a': 0.001,\n",
        "                                      '-b-e-a': 0.999}}\n",
        "info_j = {'color': 'white', 'table': {'+a+j': 0.9, '+a-j': 0.1, '-a+j': 0.05, '-a-j': 0.95}}\n",
        "info_m = {'color': 'white', 'table': {'+a+m': 0.7, '+a-m': 0.3, '-a+m': 0.01, '-a-m': 0.99}}\n",
        "nodes_alarm = [('B', info_b), ('E', info_e), ('A', info_a), ('J', info_j), ('M', info_m)]\n",
        "edges_alarm = [('B', 'A'), ('E', 'A'), ('A', 'J'), ('A', 'M')]\n",
        "\n",
        "graph_alarm = create_bayes(nodes_alarm, edges_alarm)\n",
        "nx.draw(graph_alarm, with_labels=True, font_weight='bold')"
      ],
      "metadata": {
        "colab": {
          "base_uri": "https://localhost:8080/",
          "height": 516
        },
        "id": "Zxk4TmjM_Oaq",
        "outputId": "eb52526b-af28-4760-92eb-e30fe9ad23ed"
      },
      "execution_count": null,
      "outputs": [
        {
          "output_type": "display_data",
          "data": {
            "text/plain": [
              "<Figure size 640x480 with 1 Axes>"
            ],
            "image/png": "[encoded data removed]"
          },
          "metadata": {}
        }
      ]
    },
    {
      "cell_type": "code",
      "source": [
        "show_node(graph_alarm.nodes)"
      ],
      "metadata": {
        "colab": {
          "base_uri": "https://localhost:8080/"
        },
        "id": "3JR5ttBh_VCS",
        "outputId": "335da4be-7946-4a70-89ae-0745af0cc5f2"
      },
      "execution_count": null,
      "outputs": [
        {
          "output_type": "stream",
          "name": "stdout",
          "text": [
            "Nodo: B\n",
            "Color: white \n",
            "Prob:\n",
            "+b: 0.001\n",
            "-b: 0.999\n",
            "-------------\n",
            "\n",
            "Nodo: E\n",
            "Color: white \n",
            "Prob:\n",
            "+e: 0.002\n",
            "-e: 0.998\n",
            "-------------\n",
            "\n",
            "Nodo: A\n",
            "Color: white \n",
            "Prob:\n",
            "+b+e+a: 0.95\n",
            "+b+e-a: 0.05\n",
            "+b-e+a: 0.94\n",
            "+b-e-a: 0.06\n",
            "-b+e+a: 0.001\n",
            "-b+e-a: 0.71\n",
            "-b-e-a: 0.999\n",
            "-------------\n",
            "\n",
            "Nodo: J\n",
            "Color: white \n",
            "Prob:\n",
            "+a+j: 0.9\n",
            "+a-j: 0.1\n",
            "-a+j: 0.05\n",
            "-a-j: 0.95\n",
            "-------------\n",
            "\n",
            "Nodo: M\n",
            "Color: white \n",
            "Prob:\n",
            "+a+m: 0.7\n",
            "+a-m: 0.3\n",
            "-a+m: 0.01\n",
            "-a-m: 0.99\n",
            "-------------\n",
            "\n"
          ]
        }
      ]
    },
    {
      "cell_type": "markdown",
      "source": [
        "Nuevamente estamos pasando la información de manera directa, no obstante podemos entender las relaciones entre variables de mejor manera. Además podemos iterar sobre tripletas con mucha mayor facilidad."
      ],
      "metadata": {
        "id": "k0Jr4NTa_iSB"
      }
    },
    {
      "cell_type": "markdown",
      "source": [
        "### D-Separación\n",
        "\n",
        "La idea del algoritmo es revisar tripletas a partir de una evidencia dada y determinar el valor de la separación."
      ],
      "metadata": {
        "id": "zmG-1Igx_vJg"
      }
    },
    {
      "cell_type": "code",
      "source": [
        "def is_active(path, graph, graph_d):\n",
        "    \"\"\"\n",
        "    Verificamos por tripletas si el camino es activo\n",
        "    \"\"\"\n",
        "    resp = True\n",
        "    long = len(path)\n",
        "    for i in range(long):\n",
        "        if i+3 <= long:\n",
        "            aux = check_triplets(path[i:i+3], graph, graph_d)\n",
        "            print(f'Tripleta {path[i:i+3]} es activa? {aux}')\n",
        "            resp = resp and aux\n",
        "    return resp\n",
        "\n",
        "def is_red(suc, graph):\n",
        "    \"\"\"Nos indica si un sucesor es observado\"\"\"\n",
        "    for s in suc:\n",
        "        if graph.nodes[s]['color'] == 'red':\n",
        "            return True\n",
        "        else:\n",
        "            return False\n",
        "\n",
        "def check_triplets(triplet, graph, graph_d):\n",
        "    \"\"\"Verifica si la tripleta no se activa\"\"\"\n",
        "    #Nos fijamos en los hijos de los nodos\n",
        "    s_0 = list(graph_d.successors(triplet[0]))\n",
        "    s_1 = list(graph_d.successors(triplet[1]))\n",
        "    s_2 = list(graph_d.successors(triplet[2]))\n",
        "    return((triplet[1] in s_0 and triplet[2] in s_1 and graph.nodes[triplet[1]]['color'] == 'white') or\n",
        "           (triplet[0] in s_1 and triplet[2] in s_1 and graph.nodes[triplet[1]]['color'] == 'white') or\n",
        "           (triplet[1] in s_0 and triplet[1] in s_2 and (graph.nodes[triplet[1]]['color'] == 'red' or is_red(s_1, graph))))\n",
        "\n",
        "def check_paths(X_i, X_j, graph, graph_d):\n",
        "    \"\"\"Checa si algún camino es activo\"\"\"\n",
        "    for path in nx.all_simple_paths(graph, X_i, X_j):\n",
        "        if is_active(path, graph, graph_d): # si un camino es activo no son independientes\n",
        "            return False\n",
        "        else:\n",
        "            return True\n",
        "\n",
        "\n",
        "def d_separacion(X_i, X_j, Z, graph_d):\n",
        "    \"\"\"\n",
        "    Revisa todos los caminos entre X_i y X_j\n",
        "    Si existe al menos un camino activo dada la evidencia Z\n",
        "    entonces no hay independencia\n",
        "    Regresa True si son independientes, False en caso contrario\n",
        "    \"\"\"\n",
        "    #Hacemos la grágica no dirigida, para encontrar todos los caminos no dirigidos\n",
        "    graph = graph_d.to_undirected()\n",
        "    for n in Z:\n",
        "        graph.nodes[n]['color'] = 'red' #los marcamos como evidencia\n",
        "\n",
        "    return check_paths(X_i, X_j, graph, graph_d)"
      ],
      "metadata": {
        "id": "LRK16pnR_fex"
      },
      "execution_count": null,
      "outputs": []
    },
    {
      "cell_type": "code",
      "source": [
        "# Este es un ejemplo en una gráfica/red arbitraria\n",
        "info_empty = {'color': 'white', 'table': {}}\n",
        "nodes_D1 = [('R', info_empty), ('B', info_empty), ('T', info_empty), ('T_1', info_empty)]\n",
        "edges_D1 = [('R', 'T'), ('B', 'T'), ('T', 'T_1')]\n",
        "\n",
        "graph_D1 = create_bayes(nodes_D1, edges_D1)\n",
        "nx.draw(graph_D1, with_labels=True, font_weight='bold')"
      ],
      "metadata": {
        "colab": {
          "base_uri": "https://localhost:8080/",
          "height": 516
        },
        "id": "wCf6I3orB7AD",
        "outputId": "fc960262-8501-42bb-fdc8-975043d0e2b0"
      },
      "execution_count": null,
      "outputs": [
        {
          "output_type": "display_data",
          "data": {
            "text/plain": [
              "<Figure size 640x480 with 1 Axes>"
            ],
            "image/png": "[encoded data removed]"
          },
          "metadata": {}
        }
      ]
    },
    {
      "cell_type": "markdown",
      "source": [
        "Regresa"
      ],
      "metadata": {
        "id": "6wKAKpTGDUdM"
      }
    },
    {
      "cell_type": "code",
      "source": [
        "# Evidencia nula\n",
        "d_separacion('R','B', [], graph_D1)"
      ],
      "metadata": {
        "colab": {
          "base_uri": "https://localhost:8080/"
        },
        "id": "t7pDRBr2CBxy",
        "outputId": "7d4b08fe-9497-4582-dc6a-3dd3ea0848c8"
      },
      "execution_count": null,
      "outputs": [
        {
          "output_type": "stream",
          "name": "stdout",
          "text": [
            "Tripleta ['R', 'T', 'B'] es activa? False\n"
          ]
        },
        {
          "output_type": "execute_result",
          "data": {
            "text/plain": [
              "True"
            ]
          },
          "metadata": {},
          "execution_count": 32
        }
      ]
    },
    {
      "cell_type": "code",
      "source": [
        "# Evidencia T\n",
        "d_separacion('R','B', ['T'], graph_D1)"
      ],
      "metadata": {
        "colab": {
          "base_uri": "https://localhost:8080/"
        },
        "id": "NdpcRxmUCKPC",
        "outputId": "84fe39a3-eaef-47f5-abbf-123c08135b68"
      },
      "execution_count": null,
      "outputs": [
        {
          "output_type": "stream",
          "name": "stdout",
          "text": [
            "Tripleta ['R', 'T', 'B'] es activa? True\n"
          ]
        },
        {
          "output_type": "execute_result",
          "data": {
            "text/plain": [
              "False"
            ]
          },
          "metadata": {},
          "execution_count": 33
        }
      ]
    },
    {
      "cell_type": "markdown",
      "source": [
        "### Inferencia\n",
        "\n",
        "En particular se implementa el algoritmo de eliminación de variables."
      ],
      "metadata": {
        "id": "k3mW5IcQDt8D"
      }
    },
    {
      "cell_type": "code",
      "source": [
        "def sum(factor, table):\n",
        "    \"\"\"Dado un facto1 suma sus valores, quita el factor de la tabla\"\"\"\n",
        "    resp = {}\n",
        "    for val in table:\n",
        "        n_val = val.replace(\"+\"+factor, \"\") if \"+\"+factor in val else val.replace(\"-\"+factor, \"\")\n",
        "        if n_val in resp:\n",
        "            resp[n_val] += table[val]\n",
        "        else:\n",
        "            resp[n_val] = table[val]\n",
        "    return resp\n",
        "\n",
        "def join(table1, table2):\n",
        "    \"\"\"Construye un nuevo factor que sea la unión de la variables involucradas\"\"\"\n",
        "    #Falta normalizar\n",
        "    for val in table1:\n",
        "        for v in table2:\n",
        "            if val in v:\n",
        "                table2[v] *= table1[val]\n",
        "    return table2\n",
        "\n",
        "def del_variables(formula):\n",
        "    \"\"\"Aplica el algoritmo de eliminación de variables para inferir\"\"\"\n",
        "    if len(formula[0]) == 1:\n",
        "        val = sum(formula[1], formula[0][0])\n",
        "        print('suma ',val)\n",
        "        return val\n",
        "\n",
        "    table1 = formula[0].pop()\n",
        "    if type(table1) == dict:\n",
        "        table2 = formula[0].pop()\n",
        "        formula[0] = [join(table1, table2)] + formula[0]\n",
        "        print('join ', formula)\n",
        "    else:\n",
        "        val = del_variables(table1)\n",
        "        formula[0].append(val)\n",
        "    return del_variables(formula)"
      ],
      "metadata": {
        "id": "av8hhdnyDu6j"
      },
      "execution_count": null,
      "outputs": []
    },
    {
      "cell_type": "code",
      "source": [
        "info_r = {'color': 'white', 'table': {'+r': 0.1, '-r': 0.9}}\n",
        "info_t = {'color': 'white', 'table': {'+r+t': 0.8, '+r-t': 0.2, '-r+t': 0.1, '-r-t': 0.9}}\n",
        "info_l = {'color': 'white', 'table': {'+t+l': 0.3, '+t-l': 0.7, '-t+l': 0.1, '-t-l': 0.9}}\n",
        "nodes_del = [('R', info_r), ('T', info_t), ('L', info_l)]\n",
        "edges_del = [('R', 'T'), ('T', 'L')]\n",
        "\n",
        "graph_del = create_bayes(nodes_del, edges_del)\n",
        "\n",
        "formula_1 = [[info_l['table'], [[info_t['table'], info_r['table']], 'r']], 't']\n",
        "del_variables(formula_1)"
      ],
      "metadata": {
        "colab": {
          "base_uri": "https://localhost:8080/"
        },
        "id": "TahepWNaF3hE",
        "outputId": "7910c9c6-0528-4b37-f32c-9fedf6216461"
      },
      "execution_count": null,
      "outputs": [
        {
          "output_type": "stream",
          "name": "stdout",
          "text": [
            "join  [[{'+r+t': 0.08000000000000002, '+r-t': 0.020000000000000004, '-r+t': 0.09000000000000001, '-r-t': 0.81}], 'r']\n",
            "suma  {'+t': 0.17000000000000004, '-t': 0.8300000000000001}\n",
            "join  [[{'+t+l': 0.05100000000000001, '+t-l': 0.11900000000000002, '-t+l': 0.08300000000000002, '-t-l': 0.7470000000000001}], 't']\n",
            "suma  {'+l': 0.13400000000000004, '-l': 0.8660000000000001}\n"
          ]
        },
        {
          "output_type": "execute_result",
          "data": {
            "text/plain": [
              "{'+l': 0.13400000000000004, '-l': 0.8660000000000001}"
            ]
          },
          "metadata": {},
          "execution_count": 35
        }
      ]
    },
    {
      "cell_type": "markdown",
      "source": [
        "#### Aplicación de inferencia en el problema de la alarma"
      ],
      "metadata": {
        "id": "Fd2nY_CEGZIr"
      }
    },
    {
      "cell_type": "code",
      "source": [
        "# Primero en el caso de P(B|+j,+m)\n",
        "\n",
        "PJA = {'+a+j': 0.9, '-a+j': 0.05}\n",
        "PMA = {'+a+m': 0.7, '-a+m': 0.01}\n",
        "formula_alarm1 = [[info_b['table'],[[info_e['table'], [[info_a['table'], PJA, PMA], 'a']], 'e']],'e']\n",
        "del_variables(formula_alarm1)"
      ],
      "metadata": {
        "colab": {
          "base_uri": "https://localhost:8080/"
        },
        "id": "8Y0u5WejF6zk",
        "outputId": "c2ab37fc-0ec2-42a0-c0a1-f98a6a3aaeee"
      },
      "execution_count": null,
      "outputs": [
        {
          "output_type": "stream",
          "name": "stdout",
          "text": [
            "join  [[{'+a+j': 0.9, '-a+j': 0.05}, {'+b+e+a': 0.95, '+b+e-a': 0.05, '+b-e+a': 0.94, '+b-e-a': 0.06, '-b+e+a': 0.001, '-b+e-a': 0.71, '-b-e-a': 0.999}], 'a']\n",
            "join  [[{'+a+j': 0.9, '-a+j': 0.05}], 'a']\n",
            "suma  {'+j': 0.9500000000000001}\n",
            "join  [[{'+e': 0.002, '-e': 0.998}], 'e']\n",
            "suma  {'': 1.0}\n",
            "join  [[{'+b': 0.001, '-b': 0.999}], 'e']\n",
            "suma  {'+b': 0.001, '-b': 0.999}\n"
          ]
        },
        {
          "output_type": "execute_result",
          "data": {
            "text/plain": [
              "{'+b': 0.001, '-b': 0.999}"
            ]
          },
          "metadata": {},
          "execution_count": 36
        }
      ]
    },
    {
      "cell_type": "code",
      "source": [
        "# Luego en el caso de P(+a|+j,+m)\n",
        "\n",
        "PJA = {'+a+j': 0.9, '-a+j': 0.05}\n",
        "PMA = {'+a+m': 0.7, '-a+m': 0.01}\n",
        "formula_alarm2 = [[info_a['table'], PJA, PMA], 'j']\n",
        "del_variables(formula_alarm2)"
      ],
      "metadata": {
        "colab": {
          "base_uri": "https://localhost:8080/"
        },
        "id": "kQXemcaCGjkb",
        "outputId": "245e0827-4abb-4b1c-e13b-5f30733132c8"
      },
      "execution_count": null,
      "outputs": [
        {
          "output_type": "stream",
          "name": "stdout",
          "text": [
            "join  [[{'+a+j': 0.9, '-a+j': 0.05}, {'+b+e+a': 0.95, '+b+e-a': 0.05, '+b-e+a': 0.94, '+b-e-a': 0.06, '-b+e+a': 0.001, '-b+e-a': 0.71, '-b-e-a': 0.999}], 'j']\n",
            "join  [[{'+a+j': 0.9, '-a+j': 0.05}], 'j']\n",
            "suma  {'+a': 0.9, '-a': 0.05}\n"
          ]
        },
        {
          "output_type": "execute_result",
          "data": {
            "text/plain": [
              "{'+a': 0.9, '-a': 0.05}"
            ]
          },
          "metadata": {},
          "execution_count": 37
        }
      ]
    },
    {
      "cell_type": "code",
      "source": [
        "# P(+t|+j,+m)\n",
        "\n",
        "PJA = {'+a+j': 0.9, '-a+j': 0.05}\n",
        "PMA = {'+a+m': 0.7, '-a+m': 0.01}\n",
        "formula_alarm3 = [[info_e['table'],[[info_b['table'], [[info_a['table'], PJA, PMA], 'a']], 'b']],'b']\n",
        "del_variables(formula_alarm3)"
      ],
      "metadata": {
        "colab": {
          "base_uri": "https://localhost:8080/"
        },
        "id": "NOEqXJaZGr00",
        "outputId": "d9f0bdf5-257b-4897-ffa9-729087316eea"
      },
      "execution_count": null,
      "outputs": [
        {
          "output_type": "stream",
          "name": "stdout",
          "text": [
            "join  [[{'+a+j': 0.9, '-a+j': 0.05}, {'+b+e+a': 0.95, '+b+e-a': 0.05, '+b-e+a': 0.94, '+b-e-a': 0.06, '-b+e+a': 0.001, '-b+e-a': 0.71, '-b-e-a': 0.999}], 'a']\n",
            "join  [[{'+a+j': 0.9, '-a+j': 0.05}], 'a']\n",
            "suma  {'+j': 0.9500000000000001}\n",
            "join  [[{'+b': 0.001, '-b': 0.999}], 'b']\n",
            "suma  {'': 1.0}\n",
            "join  [[{'+e': 0.002, '-e': 0.998}], 'b']\n",
            "suma  {'+e': 0.002, '-e': 0.998}\n"
          ]
        },
        {
          "output_type": "execute_result",
          "data": {
            "text/plain": [
              "{'+e': 0.002, '-e': 0.998}"
            ]
          },
          "metadata": {},
          "execution_count": 38
        }
      ]
    },
    {
      "cell_type": "code",
      "source": [],
      "metadata": {
        "id": "gBxVNBo1G2is"
      },
      "execution_count": null,
      "outputs": []
    }
  ]
}