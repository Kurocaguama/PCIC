{
 "cells": [
  {
   "cell_type": "code",
   "execution_count": 1,
   "id": "349f0d87",
   "metadata": {},
   "outputs": [
    {
     "name": "stdout",
     "output_type": "stream",
     "text": [
      "Using cuda device\n",
      "Wrapping the env with a `Monitor` wrapper\n",
      "Wrapping the env in a DummyVecEnv.\n",
      "Wrapping the env in a VecTransposeImage.\n"
     ]
    }
   ],
   "source": [
    "import gymnasium as gym\n",
    "import ale_py\n",
    "\n",
    "from stable_baselines3 import PPO\n",
    "\n",
    "gym.register_envs(ale_py)\n",
    "\n",
    "env = gym.make('ALE/HauntedHouse-v5', render_mode = 'human')\n",
    "model = PPO('CnnPolicy', env, verbose=1)"
   ]
  },
  {
   "cell_type": "code",
   "execution_count": null,
   "id": "3b2a4761",
   "metadata": {},
   "outputs": [
    {
     "name": "stdout",
     "output_type": "stream",
     "text": [
      "-----------------------------\n",
      "| time/              |      |\n",
      "|    fps             | 26   |\n",
      "|    iterations      | 1    |\n",
      "|    time_elapsed    | 77   |\n",
      "|    total_timesteps | 2048 |\n",
      "-----------------------------\n",
      "-----------------------------------------\n",
      "| time/                   |             |\n",
      "|    fps                  | 23          |\n",
      "|    iterations           | 2           |\n",
      "|    time_elapsed         | 172         |\n",
      "|    total_timesteps      | 4096        |\n",
      "| train/                  |             |\n",
      "|    approx_kl            | 0.021365862 |\n",
      "|    clip_fraction        | 0.14        |\n",
      "|    clip_range           | 0.2         |\n",
      "|    entropy_loss         | -2.88       |\n",
      "|    explained_variance   | -0.0981     |\n",
      "|    learning_rate        | 0.0003      |\n",
      "|    loss                 | -0.0793     |\n",
      "|    n_updates            | 10          |\n",
      "|    policy_gradient_loss | -0.0262     |\n",
      "|    value_loss           | 0.109       |\n",
      "-----------------------------------------\n",
      "----------------------------------------\n",
      "| rollout/                |            |\n",
      "|    ep_len_mean          | 4.52e+03   |\n",
      "|    ep_rew_mean          | -18        |\n",
      "| time/                   |            |\n",
      "|    fps                  | 23         |\n",
      "|    iterations           | 3          |\n",
      "|    time_elapsed         | 262        |\n",
      "|    total_timesteps      | 6144       |\n",
      "| train/                  |            |\n",
      "|    approx_kl            | 0.03921344 |\n",
      "|    clip_fraction        | 0.325      |\n",
      "|    clip_range           | 0.2        |\n",
      "|    entropy_loss         | -2.86      |\n",
      "|    explained_variance   | -0.232     |\n",
      "|    learning_rate        | 0.0003     |\n",
      "|    loss                 | -0.0966    |\n",
      "|    n_updates            | 20         |\n",
      "|    policy_gradient_loss | -0.0605    |\n",
      "|    value_loss           | 0.0165     |\n",
      "----------------------------------------\n"
     ]
    }
   ],
   "source": [
    "model.learn(total_timesteps=10000)"
   ]
  },
  {
   "cell_type": "code",
   "execution_count": null,
   "id": "ce0aeb69",
   "metadata": {},
   "outputs": [],
   "source": [
    "obs, info = env.reset()\n",
    "term_or_truc = False\n",
    "while not term_or_truc:\n",
    "    action = model.predict(obs)[0]\n",
    "    obs, rew, term, trunc, info = env.step(action)\n",
    "    term_or_truc = term or trunc"
   ]
  },
  {
   "cell_type": "code",
   "execution_count": null,
   "id": "bd0cff16",
   "metadata": {},
   "outputs": [],
   "source": []
  }
 ],
 "metadata": {
  "kernelspec": {
   "display_name": "pcic",
   "language": "python",
   "name": "python3"
  },
  "language_info": {
   "codemirror_mode": {
    "name": "ipython",
    "version": 3
   },
   "file_extension": ".py",
   "mimetype": "text/x-python",
   "name": "python",
   "nbconvert_exporter": "python",
   "pygments_lexer": "ipython3",
   "version": "3.11.9"
  }
 },
 "nbformat": 4,
 "nbformat_minor": 5
}
