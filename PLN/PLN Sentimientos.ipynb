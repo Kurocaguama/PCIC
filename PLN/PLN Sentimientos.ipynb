{
 "cells": [
  {
   "cell_type": "code",
   "execution_count": 1,
   "id": "06f4bd54-20a1-41de-bec0-79afb64def16",
   "metadata": {},
   "outputs": [],
   "source": [
    "texto = \"I actually don't think this commen will be classified correctly, because it has happy words, and I'm happy while writing it, even if I'm saying something that is not beneficial for the application itself.\"\n",
    "o1 = \"That person complains way too much and is sometimes annoying to the public, I find it hilarious.\"\n",
    "o2 = \"I just find it amusing that you say such mean things in a polite and educated manner.\""
   ]
  },
  {
   "cell_type": "code",
   "execution_count": 2,
   "id": "23fe66fb-125f-42a2-bc9e-53296eaf4b7b",
   "metadata": {},
   "outputs": [
    {
     "name": "stdout",
     "output_type": "stream",
     "text": [
      "AnalyzerOutput(output=POS, probas={POS: 0.677, NEU: 0.300, NEG: 0.022})\n",
      "AnalyzerOutput(output=NEG, probas={NEG: 0.967, NEU: 0.029, POS: 0.004})\n",
      "AnalyzerOutput(output=NEG, probas={NEG: 0.750, NEU: 0.210, POS: 0.039})\n"
     ]
    }
   ],
   "source": [
    "from pysentimiento import create_analyzer\n",
    "analyzer = create_analyzer(task = 'sentiment', lang = 'en')\n",
    "\n",
    "print(analyzer.predict(texto))\n",
    "print(analyzer.predict(o1))\n",
    "print(analyzer.predict(o2))"
   ]
  },
  {
   "cell_type": "code",
   "execution_count": 3,
   "id": "01318d3e-0118-4f5a-b11b-731ee88a39ed",
   "metadata": {},
   "outputs": [
    {
     "name": "stdout",
     "output_type": "stream",
     "text": [
      "{'neg': 0.059, 'neu': 0.76, 'pos': 0.181, 'compound': 0.7179}\n",
      "{'neg': 0.241, 'neu': 0.636, 'pos': 0.123, 'compound': -0.3818}\n",
      "{'neg': 0.0, 'neu': 0.86, 'pos': 0.14, 'compound': 0.3818}\n"
     ]
    }
   ],
   "source": [
    "from vaderSentiment.vaderSentiment import SentimentIntensityAnalyzer\n",
    "\n",
    "vader_analyzer = SentimentIntensityAnalyzer()\n",
    "\n",
    "prueba_base = vader_analyzer.polarity_scores(texto)\n",
    "prueba_o1 = vader_analyzer.polarity_scores(o1)\n",
    "prueba_o2 = vader_analyzer.polarity_scores(o2)\n",
    "print(\"{}\".format(str(prueba_base)))\n",
    "print(\"{}\".format(str(prueba_o1)))\n",
    "print(\"{}\".format(str(prueba_o2)))"
   ]
  },
  {
   "cell_type": "code",
   "execution_count": 4,
   "id": "63b55aed-722e-4caa-ace2-9992e0682201",
   "metadata": {},
   "outputs": [
    {
     "name": "stdout",
     "output_type": "stream",
     "text": [
      "Sentiment(polarity=0.5333333333333333, subjectivity=0.7000000000000001)\n",
      "Sentiment(polarity=-0.025000000000000022, subjectivity=0.5416666666666667)\n",
      "Sentiment(polarity=0.09583333333333333, subjectivity=0.7291666666666666)\n"
     ]
    }
   ],
   "source": [
    "from textblob import TextBlob\n",
    "blob_base = TextBlob(texto)\n",
    "blob_o1 = TextBlob(o1)\n",
    "blob_o2 = TextBlob(o2)\n",
    "\n",
    "print(blob_base.sentiment)\n",
    "print(blob_o1.sentiment)\n",
    "print(blob_o2.sentiment)"
   ]
  },
  {
   "cell_type": "code",
   "execution_count": null,
   "id": "58fc7d8b-e7a8-437a-90fa-255ff6c9825b",
   "metadata": {},
   "outputs": [],
   "source": []
  }
 ],
 "metadata": {
  "kernelspec": {
   "display_name": "Python 3 (ipykernel)",
   "language": "python",
   "name": "python3"
  },
  "language_info": {
   "codemirror_mode": {
    "name": "ipython",
    "version": 3
   },
   "file_extension": ".py",
   "mimetype": "text/x-python",
   "name": "python",
   "nbconvert_exporter": "python",
   "pygments_lexer": "ipython3",
   "version": "3.9.18"
  }
 },
 "nbformat": 4,
 "nbformat_minor": 5
}
