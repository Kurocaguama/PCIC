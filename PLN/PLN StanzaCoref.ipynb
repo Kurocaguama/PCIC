{
 "cells": [
  {
   "cell_type": "code",
   "execution_count": 3,
   "id": "f013e0e8-536b-4fe5-92d7-fecf170d573e",
   "metadata": {
    "collapsed": true,
    "jupyter": {
     "outputs_hidden": true
    },
    "scrolled": true
   },
   "outputs": [
    {
     "name": "stderr",
     "output_type": "stream",
     "text": [
      "2025-03-18 12:04:11 INFO: Checking for updates to resources.json in case models have been updated.  Note: this behavior can be turned off with download_method=None or download_method=DownloadMethod.REUSE_RESOURCES\n"
     ]
    },
    {
     "data": {
      "application/vnd.jupyter.widget-view+json": {
       "model_id": "fb36b86f71c84d01830585f4d23c0615",
       "version_major": 2,
       "version_minor": 0
      },
      "text/plain": [
       "Downloading https://raw.githubusercontent.com/stanfordnlp/stanza-resources/main/resources_1.10.0.json:   0%|  …"
      ]
     },
     "metadata": {},
     "output_type": "display_data"
    },
    {
     "name": "stderr",
     "output_type": "stream",
     "text": [
      "2025-03-18 12:04:11 INFO: Downloaded file to C:\\Users\\FLopezP\\stanza_resources\\resources.json\n",
      "2025-03-18 12:04:11 WARNING: Language en package default expects mwt, which has been added\n"
     ]
    },
    {
     "data": {
      "application/vnd.jupyter.widget-view+json": {
       "model_id": "76abf9b1b2a2455fa3676bb54dca8594",
       "version_major": 2,
       "version_minor": 0
      },
      "text/plain": [
       "Downloading https://huggingface.co/stanfordnlp/stanza-en/resolve/v1.10.0/models/tokenize/combined.pt:   0%|   …"
      ]
     },
     "metadata": {},
     "output_type": "display_data"
    },
    {
     "data": {
      "application/vnd.jupyter.widget-view+json": {
       "model_id": "5832322fc08d4f51bd41d5a864a05fc0",
       "version_major": 2,
       "version_minor": 0
      },
      "text/plain": [
       "Downloading https://huggingface.co/stanfordnlp/stanza-en/resolve/v1.10.0/models/mwt/combined.pt:   0%|        …"
      ]
     },
     "metadata": {},
     "output_type": "display_data"
    },
    {
     "name": "stderr",
     "output_type": "stream",
     "text": [
      "2025-03-18 12:04:14 INFO: Loading these models for language: en (English):\n",
      "========================================\n",
      "| Processor | Package                  |\n",
      "----------------------------------------\n",
      "| tokenize  | combined                 |\n",
      "| mwt       | combined                 |\n",
      "| coref     | udcoref_xlm-roberta-lora |\n",
      "========================================\n",
      "\n",
      "2025-03-18 12:04:14 INFO: Using device: cuda\n",
      "2025-03-18 12:04:14 INFO: Loading: tokenize\n",
      "2025-03-18 12:04:17 INFO: Loading: mwt\n",
      "2025-03-18 12:04:17 INFO: Loading: coref\n"
     ]
    },
    {
     "data": {
      "application/vnd.jupyter.widget-view+json": {
       "model_id": "f4a2d53eed784e78bd1fe57cbb04605b",
       "version_major": 2,
       "version_minor": 0
      },
      "text/plain": [
       "config.json:   0%|          | 0.00/616 [00:00<?, ?B/s]"
      ]
     },
     "metadata": {},
     "output_type": "display_data"
    },
    {
     "data": {
      "application/vnd.jupyter.widget-view+json": {
       "model_id": "d29378a27e184a84af47447fea0b40d1",
       "version_major": 2,
       "version_minor": 0
      },
      "text/plain": [
       "model.safetensors:   0%|          | 0.00/2.24G [00:00<?, ?B/s]"
      ]
     },
     "metadata": {},
     "output_type": "display_data"
    },
    {
     "data": {
      "application/vnd.jupyter.widget-view+json": {
       "model_id": "ed1832de9bdf4f25b5ae4689915417dc",
       "version_major": 2,
       "version_minor": 0
      },
      "text/plain": [
       "tokenizer_config.json:   0%|          | 0.00/25.0 [00:00<?, ?B/s]"
      ]
     },
     "metadata": {},
     "output_type": "display_data"
    },
    {
     "data": {
      "application/vnd.jupyter.widget-view+json": {
       "model_id": "acf008aa6ad84f29b1fd073e557d8e56",
       "version_major": 2,
       "version_minor": 0
      },
      "text/plain": [
       "sentencepiece.bpe.model:   0%|          | 0.00/5.07M [00:00<?, ?B/s]"
      ]
     },
     "metadata": {},
     "output_type": "display_data"
    },
    {
     "data": {
      "application/vnd.jupyter.widget-view+json": {
       "model_id": "dd20b05594ce4236b9a9577201a20879",
       "version_major": 2,
       "version_minor": 0
      },
      "text/plain": [
       "tokenizer.json:   0%|          | 0.00/9.10M [00:00<?, ?B/s]"
      ]
     },
     "metadata": {},
     "output_type": "display_data"
    },
    {
     "name": "stderr",
     "output_type": "stream",
     "text": [
      "2025-03-18 12:09:27 INFO: Done loading processors!\n"
     ]
    }
   ],
   "source": [
    "import stanza\n",
    "\n",
    "pipe = stanza.Pipeline('en', processors = 'tokenize,coref')"
   ]
  },
  {
   "cell_type": "code",
   "execution_count": 12,
   "id": "722eebc4-312a-4339-a66a-587ffd1817a6",
   "metadata": {
    "scrolled": true
   },
   "outputs": [
    {
     "data": {
      "text/plain": [
       "[\n",
       "  [\n",
       "    {\n",
       "      \"id\": 1,\n",
       "      \"text\": \"My\",\n",
       "      \"start_char\": 0,\n",
       "      \"end_char\": 2,\n",
       "      \"coref_chains\": [\n",
       "        {\n",
       "          \"index\": 0,\n",
       "          \"representative_text\": \"My\",\n",
       "          \"is_start\": true,\n",
       "          \"is_end\": true,\n",
       "          \"is_representative\": true\n",
       "        },\n",
       "        {\n",
       "          \"index\": 1,\n",
       "          \"representative_text\": \"My father\",\n",
       "          \"is_start\": true,\n",
       "          \"is_representative\": true\n",
       "        }\n",
       "      ]\n",
       "    },\n",
       "    {\n",
       "      \"id\": 2,\n",
       "      \"text\": \"father\",\n",
       "      \"start_char\": 3,\n",
       "      \"end_char\": 9,\n",
       "      \"coref_chains\": [\n",
       "        {\n",
       "          \"index\": 1,\n",
       "          \"representative_text\": \"My father\",\n",
       "          \"is_end\": true,\n",
       "          \"is_representative\": true\n",
       "        }\n",
       "      ]\n",
       "    },\n",
       "    {\n",
       "      \"id\": 3,\n",
       "      \"text\": \"likes\",\n",
       "      \"start_char\": 10,\n",
       "      \"end_char\": 15,\n",
       "      \"coref_chains\": []\n",
       "    },\n",
       "    {\n",
       "      \"id\": 4,\n",
       "      \"text\": \"to\",\n",
       "      \"start_char\": 16,\n",
       "      \"end_char\": 18,\n",
       "      \"coref_chains\": []\n",
       "    },\n",
       "    {\n",
       "      \"id\": 5,\n",
       "      \"text\": \"play\",\n",
       "      \"start_char\": 19,\n",
       "      \"end_char\": 23,\n",
       "      \"coref_chains\": []\n",
       "    },\n",
       "    {\n",
       "      \"id\": 6,\n",
       "      \"text\": \"chess\",\n",
       "      \"start_char\": 24,\n",
       "      \"end_char\": 29,\n",
       "      \"coref_chains\": [\n",
       "        {\n",
       "          \"index\": 2,\n",
       "          \"representative_text\": \"chess\",\n",
       "          \"is_start\": true,\n",
       "          \"is_end\": true,\n",
       "          \"is_representative\": true\n",
       "        }\n",
       "      ],\n",
       "      \"misc\": \"SpaceAfter=No\"\n",
       "    },\n",
       "    {\n",
       "      \"id\": 7,\n",
       "      \"text\": \";\",\n",
       "      \"start_char\": 29,\n",
       "      \"end_char\": 30,\n",
       "      \"coref_chains\": []\n",
       "    },\n",
       "    {\n",
       "      \"id\": 8,\n",
       "      \"text\": \"I\",\n",
       "      \"start_char\": 31,\n",
       "      \"end_char\": 32,\n",
       "      \"coref_chains\": [\n",
       "        {\n",
       "          \"index\": 0,\n",
       "          \"representative_text\": \"My\",\n",
       "          \"is_start\": true,\n",
       "          \"is_end\": true\n",
       "        }\n",
       "      ]\n",
       "    },\n",
       "    {\n",
       "      \"id\": 9,\n",
       "      \"text\": \"usually\",\n",
       "      \"start_char\": 33,\n",
       "      \"end_char\": 40,\n",
       "      \"coref_chains\": []\n",
       "    },\n",
       "    {\n",
       "      \"id\": 10,\n",
       "      \"text\": \"play\",\n",
       "      \"start_char\": 41,\n",
       "      \"end_char\": 45,\n",
       "      \"coref_chains\": []\n",
       "    },\n",
       "    {\n",
       "      \"id\": 11,\n",
       "      \"text\": \"with\",\n",
       "      \"start_char\": 46,\n",
       "      \"end_char\": 50,\n",
       "      \"coref_chains\": []\n",
       "    },\n",
       "    {\n",
       "      \"id\": 12,\n",
       "      \"text\": \"him\",\n",
       "      \"start_char\": 51,\n",
       "      \"end_char\": 54,\n",
       "      \"coref_chains\": [\n",
       "        {\n",
       "          \"index\": 1,\n",
       "          \"representative_text\": \"My father\",\n",
       "          \"is_start\": true,\n",
       "          \"is_end\": true\n",
       "        }\n",
       "      ],\n",
       "      \"misc\": \"SpaceAfter=No\"\n",
       "    },\n",
       "    {\n",
       "      \"id\": 13,\n",
       "      \"text\": \",\",\n",
       "      \"start_char\": 54,\n",
       "      \"end_char\": 55,\n",
       "      \"coref_chains\": []\n",
       "    },\n",
       "    {\n",
       "      \"id\": 14,\n",
       "      \"text\": \"but\",\n",
       "      \"start_char\": 56,\n",
       "      \"end_char\": 59,\n",
       "      \"coref_chains\": []\n",
       "    },\n",
       "    {\n",
       "      \"id\": 15,\n",
       "      \"text\": \"he\",\n",
       "      \"start_char\": 60,\n",
       "      \"end_char\": 62,\n",
       "      \"coref_chains\": [\n",
       "        {\n",
       "          \"index\": 1,\n",
       "          \"representative_text\": \"My father\",\n",
       "          \"is_start\": true,\n",
       "          \"is_end\": true\n",
       "        }\n",
       "      ]\n",
       "    },\n",
       "    {\n",
       "      \"id\": 16,\n",
       "      \"text\": \"is\",\n",
       "      \"start_char\": 63,\n",
       "      \"end_char\": 65,\n",
       "      \"coref_chains\": []\n",
       "    },\n",
       "    {\n",
       "      \"id\": 17,\n",
       "      \"text\": \"not\",\n",
       "      \"start_char\": 66,\n",
       "      \"end_char\": 69,\n",
       "      \"coref_chains\": []\n",
       "    },\n",
       "    {\n",
       "      \"id\": 18,\n",
       "      \"text\": \"home\",\n",
       "      \"start_char\": 70,\n",
       "      \"end_char\": 74,\n",
       "      \"coref_chains\": [],\n",
       "      \"misc\": \"SpaceAfter=No\"\n",
       "    },\n",
       "    {\n",
       "      \"id\": 19,\n",
       "      \"text\": \",\",\n",
       "      \"start_char\": 74,\n",
       "      \"end_char\": 75,\n",
       "      \"coref_chains\": []\n",
       "    },\n",
       "    {\n",
       "      \"id\": 20,\n",
       "      \"text\": \"I\",\n",
       "      \"start_char\": 76,\n",
       "      \"end_char\": 77,\n",
       "      \"coref_chains\": [\n",
       "        {\n",
       "          \"index\": 0,\n",
       "          \"representative_text\": \"My\",\n",
       "          \"is_start\": true,\n",
       "          \"is_end\": true\n",
       "        }\n",
       "      ]\n",
       "    },\n",
       "    {\n",
       "      \"id\": 21,\n",
       "      \"text\": \"play\",\n",
       "      \"start_char\": 78,\n",
       "      \"end_char\": 82,\n",
       "      \"coref_chains\": []\n",
       "    },\n",
       "    {\n",
       "      \"id\": 22,\n",
       "      \"text\": \"chess\",\n",
       "      \"start_char\": 83,\n",
       "      \"end_char\": 88,\n",
       "      \"coref_chains\": [\n",
       "        {\n",
       "          \"index\": 2,\n",
       "          \"representative_text\": \"chess\",\n",
       "          \"is_start\": true,\n",
       "          \"is_end\": true\n",
       "        }\n",
       "      ]\n",
       "    },\n",
       "    {\n",
       "      \"id\": 23,\n",
       "      \"text\": \"with\",\n",
       "      \"start_char\": 89,\n",
       "      \"end_char\": 93,\n",
       "      \"coref_chains\": []\n",
       "    },\n",
       "    {\n",
       "      \"id\": 24,\n",
       "      \"text\": \"my\",\n",
       "      \"start_char\": 94,\n",
       "      \"end_char\": 96,\n",
       "      \"coref_chains\": [\n",
       "        {\n",
       "          \"index\": 0,\n",
       "          \"representative_text\": \"My\",\n",
       "          \"is_start\": true,\n",
       "          \"is_end\": true\n",
       "        },\n",
       "        {\n",
       "          \"index\": 3,\n",
       "          \"representative_text\": \"my sister\",\n",
       "          \"is_start\": true,\n",
       "          \"is_representative\": true\n",
       "        }\n",
       "      ]\n",
       "    },\n",
       "    {\n",
       "      \"id\": 25,\n",
       "      \"text\": \"sister\",\n",
       "      \"start_char\": 97,\n",
       "      \"end_char\": 103,\n",
       "      \"coref_chains\": [\n",
       "        {\n",
       "          \"index\": 3,\n",
       "          \"representative_text\": \"my sister\",\n",
       "          \"is_end\": true,\n",
       "          \"is_representative\": true\n",
       "        }\n",
       "      ],\n",
       "      \"misc\": \"SpaceAfter=No\"\n",
       "    },\n",
       "    {\n",
       "      \"id\": 26,\n",
       "      \"text\": \".\",\n",
       "      \"start_char\": 103,\n",
       "      \"end_char\": 104,\n",
       "      \"coref_chains\": [],\n",
       "      \"misc\": \"SpaceAfter=No\"\n",
       "    }\n",
       "  ]\n",
       "]"
      ]
     },
     "execution_count": 12,
     "metadata": {},
     "output_type": "execute_result"
    }
   ],
   "source": [
    "pipe('My father likes to play chess; I usually play with him, but he is not home, I play chess with my sister.')"
   ]
  },
  {
   "cell_type": "markdown",
   "id": "d77890dd-743d-44af-bc55-02f81d8aed97",
   "metadata": {},
   "source": [
    "**Análisis del output de cada palabra**\n",
    "\n",
    "{\n",
    "      \"id\": 6,\n",
    "      \"text\": \"chess\",\n",
    "      \"start_char\": 24,\n",
    "      \"end_char\": 29,\n",
    "      \"coref_chains\": [\n",
    "        {\n",
    "          \"index\": 2,\n",
    "          \"representative_text\": \"chess\",\n",
    "          \"is_start\": true,\n",
    "          \"is_end\": true,\n",
    "          \"is_representative\": true\n",
    "        }\n",
    "      ],\n",
    "      \"misc\": \"SpaceAfter=No\"\n",
    "    }\n",
    "\n",
    "\n",
    "{\n",
    "      \"id\": 17,\n",
    "      \"text\": \"sister\",\n",
    "      \"start_char\": 91,\n",
    "      \"end_char\": 97,\n",
    "      \"coref_chains\": [\n",
    "        {\n",
    "          \"index\": 4,\n",
    "          \"representative_text\": \"my sister\",\n",
    "          \"is_end\": true,\n",
    "          \"is_representative\": true\n",
    "        }\n",
    "      ],\n",
    "      \"misc\": \"SpaceAfter=No\"\n",
    "    }"
   ]
  },
  {
   "cell_type": "code",
   "execution_count": 13,
   "id": "dd09ee75-7c24-44d7-a3e6-c4824810b5b1",
   "metadata": {},
   "outputs": [
    {
     "name": "stdout",
     "output_type": "stream",
     "text": [
      "# text = My father likes to play chess; I usually play with him, but he is not home, I play chess with my sister.\n",
      "# sent_id = 0\n",
      "1\tMy\t_\t_\t_\t_\t0\t_\t_\tstart_char=0|end_char=2|coref_chains=unit-repr-id0,start-repr-id1\n",
      "2\tfather\t_\t_\t_\t_\t1\t_\t_\tstart_char=3|end_char=9|coref_chains=end-repr-id1\n",
      "3\tlikes\t_\t_\t_\t_\t2\t_\t_\tstart_char=10|end_char=15\n",
      "4\tto\t_\t_\t_\t_\t3\t_\t_\tstart_char=16|end_char=18\n",
      "5\tplay\t_\t_\t_\t_\t4\t_\t_\tstart_char=19|end_char=23\n",
      "6\tchess\t_\t_\t_\t_\t5\t_\t_\tstart_char=24|end_char=29|coref_chains=unit-repr-id2|SpaceAfter=No\n",
      "7\t;\t_\t_\t_\t_\t6\t_\t_\tstart_char=29|end_char=30\n",
      "8\tI\t_\t_\t_\t_\t7\t_\t_\tstart_char=31|end_char=32|coref_chains=unit-id0\n",
      "9\tusually\t_\t_\t_\t_\t8\t_\t_\tstart_char=33|end_char=40\n",
      "10\tplay\t_\t_\t_\t_\t9\t_\t_\tstart_char=41|end_char=45\n",
      "11\twith\t_\t_\t_\t_\t10\t_\t_\tstart_char=46|end_char=50\n",
      "12\thim\t_\t_\t_\t_\t11\t_\t_\tstart_char=51|end_char=54|coref_chains=unit-id1|SpaceAfter=No\n",
      "13\t,\t_\t_\t_\t_\t12\t_\t_\tstart_char=54|end_char=55\n",
      "14\tbut\t_\t_\t_\t_\t13\t_\t_\tstart_char=56|end_char=59\n",
      "15\the\t_\t_\t_\t_\t14\t_\t_\tstart_char=60|end_char=62|coref_chains=unit-id1\n",
      "16\tis\t_\t_\t_\t_\t15\t_\t_\tstart_char=63|end_char=65\n",
      "17\tnot\t_\t_\t_\t_\t16\t_\t_\tstart_char=66|end_char=69\n",
      "18\thome\t_\t_\t_\t_\t17\t_\t_\tstart_char=70|end_char=74|SpaceAfter=No\n",
      "19\t,\t_\t_\t_\t_\t18\t_\t_\tstart_char=74|end_char=75\n",
      "20\tI\t_\t_\t_\t_\t19\t_\t_\tstart_char=76|end_char=77|coref_chains=unit-id0\n",
      "21\tplay\t_\t_\t_\t_\t20\t_\t_\tstart_char=78|end_char=82\n",
      "22\tchess\t_\t_\t_\t_\t21\t_\t_\tstart_char=83|end_char=88|coref_chains=unit-id2\n",
      "23\twith\t_\t_\t_\t_\t22\t_\t_\tstart_char=89|end_char=93\n",
      "24\tmy\t_\t_\t_\t_\t23\t_\t_\tstart_char=94|end_char=96|coref_chains=unit-id0,start-repr-id3\n",
      "25\tsister\t_\t_\t_\t_\t24\t_\t_\tstart_char=97|end_char=103|coref_chains=end-repr-id3|SpaceAfter=No\n",
      "26\t.\t_\t_\t_\t_\t25\t_\t_\tstart_char=103|end_char=104|SpaceAfter=No\n"
     ]
    }
   ],
   "source": [
    "coref = pipe('My father likes to play chess; I usually play with him, but he is not home, I play chess with my sister.')\n",
    "print(\"{:C}\".format(coref))"
   ]
  },
  {
   "cell_type": "markdown",
   "id": "58efd639-6cfb-4589-beda-f7f144018081",
   "metadata": {},
   "source": [
    "**Segunda parte del análisis**\n",
    "\n",
    "1. Chess: start_char=24|end_char=29|coref_chains=unit-repr-id2|SpaceAfter=No\n",
    "2. Sister: start_char=91|end_char=97|coref_chains=end-repr-id4|SpaceAfter=No"
   ]
  },
  {
   "cell_type": "code",
   "execution_count": null,
   "id": "af0d950c-9b4a-4bba-bcff-485ec91976c2",
   "metadata": {},
   "outputs": [],
   "source": []
  }
 ],
 "metadata": {
  "kernelspec": {
   "display_name": "Python 3 (ipykernel)",
   "language": "python",
   "name": "python3"
  },
  "language_info": {
   "codemirror_mode": {
    "name": "ipython",
    "version": 3
   },
   "file_extension": ".py",
   "mimetype": "text/x-python",
   "name": "python",
   "nbconvert_exporter": "python",
   "pygments_lexer": "ipython3",
   "version": "3.9.18"
  }
 },
 "nbformat": 4,
 "nbformat_minor": 5
}
