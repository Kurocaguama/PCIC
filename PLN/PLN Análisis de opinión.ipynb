{
 "cells": [
  {
   "cell_type": "code",
   "execution_count": 1,
   "id": "e78485db-ecd3-4145-88b8-e0e16cac4f32",
   "metadata": {},
   "outputs": [],
   "source": [
    "class Opinion:\n",
    "    def __init__(\n",
    "        self,\n",
    "        entity,\n",
    "        entity_aspect,\n",
    "        polarity,\n",
    "        person,\n",
    "        time,\n",
    "        review\n",
    "    ):\n",
    "        self.entity = entity\n",
    "        self.entity_asepct = entity_aspect\n",
    "        self.polarity = polarity\n",
    "        self.person = person\n",
    "        self.time = time\n",
    "        self.review = review\n",
    "\n",
    "    def print_info(self):\n",
    "        print('Autor de la reseña: {}'.format(self.person))\n",
    "        print('---')\n",
    "        print('Reseña: {}'.format(self.review))\n",
    "        print('---')\n",
    "        if self.polarity == 1:\n",
    "            print('La reseña es positiva')\n",
    "        else:\n",
    "            print('La reseña es negativa')\n",
    "\n",
    "mickey1 = Opinion('Mickey 17', 'mid-tier work', 1, 'John Serba', '21-Abril-2025', 'Mickey 17 isn’t the best work from one of the current cinema’s great visionaries, but remember, mid-tier Bong is better than upper-tier work from, well, nearly everyone else.')\n",
    "mickey2 = Opinion('Mickey 17', 'singular filmmaker', 1, 'Cory Woodroof', '20-Abril-2025', 'It’s nice to see such a singular filmmaker like Bong Joon-ho get carte blanche to do whatever he wants on Warner Bros. Discovery\\'s dime. This is how it should be.')\n",
    "mickey3 = Opinion('Mickey 17', 'fun', 1, 'Gabriela Meza', '14-Abril-2025', 'Think Don’t Look Up meets Okja, but toned down. Mickey 17 is fun, sleek, and smart-ish—until it chooses predictability over provocation.')\n",
    "mickey4 = Opinion('Mickey 17', 'mortality', 1, 'Michael Wood', '9-Abril-2025', 'In Mickey 17 the chance of living again is linked to a form of slavery. The film itself ends with marks on a board rather than a photographed human scene, letters and numbers offered as a visual tribute to mortal singularity.')\n",
    "mickey5 = Opinion('Mickey 17', 'fragmented plot', 0, 'Yasser Medina', '5-Abril-2025', 'Bong offers a sci-fi premise that questions capitalism and immigration with a certain pretension, but, in general, its plot is excessively fragmented and the strength between so many chaotic characters is almost not evident')"
   ]
  },
  {
   "cell_type": "code",
   "execution_count": 2,
   "id": "f4b19d50-db4f-4d75-8e29-d794b1ac8b9d",
   "metadata": {},
   "outputs": [
    {
     "name": "stdout",
     "output_type": "stream",
     "text": [
      "Autor de la reseña: John Serba\n",
      "---\n",
      "Reseña: Mickey 17 isn’t the best work from one of the current cinema’s great visionaries, but remember, mid-tier Bong is better than upper-tier work from, well, nearly everyone else.\n",
      "---\n",
      "La reseña es positiva\n"
     ]
    }
   ],
   "source": [
    "mickey1.print_info()"
   ]
  },
  {
   "cell_type": "code",
   "execution_count": 3,
   "id": "4742d872-657f-4152-8f78-e2c2a444ad22",
   "metadata": {},
   "outputs": [
    {
     "name": "stdout",
     "output_type": "stream",
     "text": [
      "Autor de la reseña: Cory Woodroof\n",
      "---\n",
      "Reseña: It’s nice to see such a singular filmmaker like Bong Joon-ho get carte blanche to do whatever he wants on Warner Bros. Discovery's dime. This is how it should be.\n",
      "---\n",
      "La reseña es positiva\n"
     ]
    }
   ],
   "source": [
    "mickey2.print_info()"
   ]
  },
  {
   "cell_type": "code",
   "execution_count": 4,
   "id": "361ff488-0a5e-4fa8-bf18-20a44c29bd04",
   "metadata": {},
   "outputs": [
    {
     "name": "stdout",
     "output_type": "stream",
     "text": [
      "Autor de la reseña: Gabriela Meza\n",
      "---\n",
      "Reseña: Think Don’t Look Up meets Okja, but toned down. Mickey 17 is fun, sleek, and smart-ish—until it chooses predictability over provocation.\n",
      "---\n",
      "La reseña es positiva\n"
     ]
    }
   ],
   "source": [
    "mickey3.print_info()"
   ]
  },
  {
   "cell_type": "code",
   "execution_count": 5,
   "id": "93cd8f1b-8ebc-41be-af2e-6732b55556ea",
   "metadata": {},
   "outputs": [
    {
     "name": "stdout",
     "output_type": "stream",
     "text": [
      "Autor de la reseña: Michael Wood\n",
      "---\n",
      "Reseña: In Mickey 17 the chance of living again is linked to a form of slavery. The film itself ends with marks on a board rather than a photographed human scene, letters and numbers offered as a visual tribute to mortal singularity.\n",
      "---\n",
      "La reseña es positiva\n"
     ]
    }
   ],
   "source": [
    "mickey4.print_info()"
   ]
  },
  {
   "cell_type": "code",
   "execution_count": 6,
   "id": "fadc1c4e-3bab-4a8e-934f-5536b13da04c",
   "metadata": {},
   "outputs": [
    {
     "name": "stdout",
     "output_type": "stream",
     "text": [
      "Autor de la reseña: Yasser Medina\n",
      "---\n",
      "Reseña: Bong offers a sci-fi premise that questions capitalism and immigration with a certain pretension, but, in general, its plot is excessively fragmented and the strength between so many chaotic characters is almost not evident\n",
      "---\n",
      "La reseña es negativa\n"
     ]
    }
   ],
   "source": [
    "mickey5.print_info()"
   ]
  },
  {
   "cell_type": "code",
   "execution_count": null,
   "id": "17c196fb-e78d-444f-a04f-88e3386d536f",
   "metadata": {},
   "outputs": [],
   "source": []
  }
 ],
 "metadata": {
  "kernelspec": {
   "display_name": "Python 3 (ipykernel)",
   "language": "python",
   "name": "python3"
  },
  "language_info": {
   "codemirror_mode": {
    "name": "ipython",
    "version": 3
   },
   "file_extension": ".py",
   "mimetype": "text/x-python",
   "name": "python",
   "nbconvert_exporter": "python",
   "pygments_lexer": "ipython3",
   "version": "3.9.18"
  }
 },
 "nbformat": 4,
 "nbformat_minor": 5
}
