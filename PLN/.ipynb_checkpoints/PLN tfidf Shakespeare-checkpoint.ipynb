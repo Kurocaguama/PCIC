{
 "cells": [
  {
   "cell_type": "code",
   "execution_count": 1,
   "id": "3f7ec8cd-47a7-4d4a-b741-e6334830c204",
   "metadata": {},
   "outputs": [],
   "source": [
    "import re\n",
    "def complete_open(direct):\n",
    "    raw = open(direct)\n",
    "    return raw.readlines()\n",
    "\n",
    "def clean(texto):\n",
    "    aux = [_ for _ in texto if _ != '\\n']\n",
    "    aux = [re.sub('\\n', '', _) for _ in aux]\n",
    "    return aux"
   ]
  },
  {
   "cell_type": "code",
   "execution_count": 2,
   "id": "44014083-8dbd-465e-b8dd-3db7a59c3d02",
   "metadata": {},
   "outputs": [],
   "source": [
    "macbeth = clean(complete_open(r'C:\\Users\\FLopezP\\Documents\\GitHub\\PCIC\\PLN\\Documentos\\macbeth.txt'))\n",
    "hamlet = clean(complete_open(r'C:\\Users\\FLopezP\\Documents\\GitHub\\PCIC\\PLN\\Documentos\\hamlet.txt'))\n",
    "othello = clean(complete_open(r'C:\\Users\\FLopezP\\Documents\\GitHub\\PCIC\\PLN\\Documentos\\othello.txt'))\n",
    "julius_c = clean(complete_open(r'C:\\Users\\FLopezP\\Documents\\GitHub\\PCIC\\PLN\\Documentos\\juliuscaesar.txt'))"
   ]
  },
  {
   "cell_type": "code",
   "execution_count": 3,
   "id": "2a335c90-edbf-44b8-9b4c-8055006c31c8",
   "metadata": {},
   "outputs": [
    {
     "name": "stdout",
     "output_type": "stream",
     "text": [
      "35059 2672 4168 25333 2886\n"
     ]
    }
   ],
   "source": [
    "corpus = macbeth + hamlet + othello + julius_c\n",
    "print(len(corpus), len(macbeth), len(hamlet), len(othello), len(julius_c))"
   ]
  },
  {
   "cell_type": "code",
   "execution_count": 8,
   "id": "e5c8ada0-ca15-41b7-8259-847928f4d316",
   "metadata": {},
   "outputs": [],
   "source": [
    "import sklearn\n",
    "from sklearn.feature_extraction.text import TfidfVectorizer, CountVectorizer\n",
    "\n",
    "vectorizer = TfidfVectorizer()\n",
    "X = vectorizer.fit_transform(corpus)"
   ]
  },
  {
   "cell_type": "code",
   "execution_count": 5,
   "id": "3165507f-31eb-4c42-8bbb-f36d408df253",
   "metadata": {},
   "outputs": [
    {
     "name": "stdout",
     "output_type": "stream",
     "text": [
      "942 989\n"
     ]
    }
   ],
   "source": [
    "a = vectorizer.get_feature_names_out().tolist()\n",
    "print(a.index('brutus'), a.index('caesar'))"
   ]
  },
  {
   "cell_type": "code",
   "execution_count": 6,
   "id": "2d709cd2-70ce-4b91-bf22-269870208047",
   "metadata": {},
   "outputs": [],
   "source": [
    "import numpy as np\n",
    "brutus = X[942].toarray()[0]\n",
    "caesar = X[989].toarray()[0]"
   ]
  },
  {
   "cell_type": "code",
   "execution_count": 7,
   "id": "1612695f-e43e-4142-97d1-707682990ec9",
   "metadata": {},
   "outputs": [
    {
     "name": "stdout",
     "output_type": "stream",
     "text": [
      "La distancia euclideana entre los vectores de 'Brutus' y 'Caesar' es: 1.3522494309583704.\n"
     ]
    }
   ],
   "source": [
    "from scipy.spatial import distance\n",
    "print(\"La distancia euclideana entre los vectores de \\'Brutus\\' y \\'Caesar\\' es: {}.\".format(distance.euclidean(brutus, caesar)))"
   ]
  },
  {
   "cell_type": "markdown",
   "id": "b1cf8497-3927-4291-affe-c78b1bf5cf00",
   "metadata": {},
   "source": [
    "## Distancia entre textos"
   ]
  },
  {
   "cell_type": "code",
   "execution_count": 14,
   "id": "bb3e1782-abe5-471f-a44c-b2534dd84e98",
   "metadata": {},
   "outputs": [],
   "source": [
    "def text_aux(lista):\n",
    "    texto = ''\n",
    "    for _ in lista:\n",
    "        texto += _  + ' '\n",
    "    return texto"
   ]
  },
  {
   "cell_type": "code",
   "execution_count": 15,
   "id": "cb3bce9f-301c-420e-b2ef-098be6a4d507",
   "metadata": {},
   "outputs": [],
   "source": [
    "macbeth1 = text_aux(macbeth)\n",
    "hamlet1 = text_aux(hamlet)\n",
    "othello1 = text_aux(othello)\n",
    "julius_c1 = text_aux(julius_c)"
   ]
  },
  {
   "cell_type": "code",
   "execution_count": 16,
   "id": "b61b7a01-7904-4b19-8335-79a302224510",
   "metadata": {},
   "outputs": [],
   "source": [
    "corpus_aux = [macbeth1, hamlet1, othello1, julius_c1]\n",
    "vectorizer1 = CountVectorizer()\n",
    "X = vectorizer1.fit_transform(corpus_aux)"
   ]
  },
  {
   "cell_type": "code",
   "execution_count": 25,
   "id": "3ed51773-4d9c-4076-84c0-8de55d6243f6",
   "metadata": {},
   "outputs": [],
   "source": [
    "mac_vect = X[0].toarray()[0]\n",
    "ham_vect = X[1].toarray()[0]\n",
    "oth_vect = X[2].toarray()[0]\n",
    "jul_vect = X[3].toarray()[0]"
   ]
  },
  {
   "cell_type": "code",
   "execution_count": 27,
   "id": "fe072741-8ce3-4d67-ad54-d3ca4ee7a199",
   "metadata": {},
   "outputs": [
    {
     "name": "stdout",
     "output_type": "stream",
     "text": [
      "La distancia euclideana entre los vectores de Macbeth y Julio César es: 788.752179077814.\n",
      "La distancia euclideana entre los vectores de Macbeth y Othello es: 889.1518430504432.\n",
      "La distancia euclideana entre los vectores de Macbeth y Hamlet es: 1314.8764200486676.\n",
      "La distancia euclideana entre los vectores de Othello y Julio César es: 853.4395116234073.\n",
      "La distancia euclideana entre los vectores de Othello y Hamlet es: 863.7285453196507.\n"
     ]
    }
   ],
   "source": [
    "print(\"La distancia euclideana entre los vectores de Macbeth y Julio César es: {}.\".format(distance.euclidean(mac_vect, jul_vect)))\n",
    "print(\"La distancia euclideana entre los vectores de Macbeth y Othello es: {}.\".format(distance.euclidean(mac_vect, oth_vect)))\n",
    "print(\"La distancia euclideana entre los vectores de Macbeth y Hamlet es: {}.\".format(distance.euclidean(mac_vect, ham_vect)))\n",
    "print(\"La distancia euclideana entre los vectores de Othello y Julio César es: {}.\".format(distance.euclidean(oth_vect, jul_vect)))\n",
    "print(\"La distancia euclideana entre los vectores de Othello y Hamlet es: {}.\".format(distance.euclidean(oth_vect, ham_vect)))"
   ]
  },
  {
   "cell_type": "code",
   "execution_count": null,
   "id": "8c2891da-cb67-4108-8e8d-79838acb0b9f",
   "metadata": {},
   "outputs": [],
   "source": []
  }
 ],
 "metadata": {
  "kernelspec": {
   "display_name": "Python 3 (ipykernel)",
   "language": "python",
   "name": "python3"
  },
  "language_info": {
   "codemirror_mode": {
    "name": "ipython",
    "version": 3
   },
   "file_extension": ".py",
   "mimetype": "text/x-python",
   "name": "python",
   "nbconvert_exporter": "python",
   "pygments_lexer": "ipython3",
   "version": "3.9.18"
  }
 },
 "nbformat": 4,
 "nbformat_minor": 5
}
