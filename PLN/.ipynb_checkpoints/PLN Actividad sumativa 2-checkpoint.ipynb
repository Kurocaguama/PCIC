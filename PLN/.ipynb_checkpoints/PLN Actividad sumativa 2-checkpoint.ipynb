{
 "cells": [
  {
   "cell_type": "code",
   "execution_count": 1,
   "id": "2caae814-02ab-4cfc-a2be-95d28440e666",
   "metadata": {},
   "outputs": [
    {
     "data": {
      "text/plain": [
       "[(Montecristo, 'PROPN', 'Montecristo'),\n",
       " (esconde, 'VERB', 'esconder'),\n",
       " (un, 'DET', 'uno'),\n",
       " (fantástico, 'ADJ', 'fantástico'),\n",
       " (tesoro, 'NOUN', 'tesoro'),\n",
       " (de, 'ADP', 'de'),\n",
       " (perlas, 'NOUN', 'perla'),\n",
       " (y, 'CCONJ', 'y'),\n",
       " (diamantes, 'NOUN', 'diamante'),\n",
       " (en, 'ADP', 'en'),\n",
       " (bruto, 'ADJ', 'bruto'),\n",
       " (que, 'SCONJ', 'que'),\n",
       " (bien, 'ADV', 'bien'),\n",
       " (vale, 'VERB', 'valer'),\n",
       " (la, 'DET', 'el'),\n",
       " (pena, 'NOUN', 'pena'),\n",
       " (visitar, 'VERB', 'visitar'),\n",
       " (., 'PUNCT', '.'),\n",
       " (Cerca, 'ADV', 'cerca'),\n",
       " (,, 'PUNCT', ','),\n",
       " (el, 'DET', 'el'),\n",
       " (viejo, 'ADJ', 'viejo'),\n",
       " (sabio, 'ADJ', 'sabio'),\n",
       " (observa, 'VERB', 'observar'),\n",
       " (cómo, 'PRON', 'cómo'),\n",
       " (el, 'DET', 'el'),\n",
       " (joven, 'NOUN', 'joven'),\n",
       " (corre, 'VERB', 'correr'),\n",
       " (ligero, 'ADJ', 'ligero'),\n",
       " (mientras, 'SCONJ', 'mientras'),\n",
       " (el, 'DET', 'el'),\n",
       " (viento, 'NOUN', 'viento'),\n",
       " (fresco, 'ADJ', 'fresco'),\n",
       " (despierta, 'VERB', 'despertar'),\n",
       " (sueños, 'NOUN', 'sueño'),\n",
       " (olvidados, 'ADJ', 'olvidado'),\n",
       " (., 'PUNCT', '.'),\n",
       " (Al, 'ADP', 'al'),\n",
       " (final, 'NOUN', 'final'),\n",
       " (del, 'ADP', 'del'),\n",
       " (sendero, 'NOUN', 'sendero'),\n",
       " (,, 'PUNCT', ','),\n",
       " (la, 'DET', 'el'),\n",
       " (luz, 'NOUN', 'luz'),\n",
       " (tenue, 'ADJ', 'tenue'),\n",
       " (revela, 'VERB', 'revelar'),\n",
       " (secretos, 'ADJ', 'secreto'),\n",
       " (que, 'PRON', 'que'),\n",
       " (nadie, 'PRON', 'nadie'),\n",
       " (jamás, 'ADV', 'jamás'),\n",
       " (supo, 'VERB', 'saber'),\n",
       " (descifrar, 'VERB', 'descifrar'),\n",
       " (., 'PUNCT', '.')]"
      ]
     },
     "execution_count": 1,
     "metadata": {},
     "output_type": "execute_result"
    }
   ],
   "source": [
    "import spacy\n",
    "import nltk\n",
    "import pandas as pd\n",
    "\n",
    "texto = 'Montecristo esconde un fantástico tesoro de perlas y diamantes en bruto que bien vale la pena visitar. Cerca, el viejo sabio observa cómo el joven corre ligero mientras el viento fresco despierta sueños olvidados. Al final del sendero, la luz tenue revela secretos que nadie jamás supo descifrar.'\n",
    "\n",
    "modelo = spacy.load('es_core_news_sm')\n",
    "\n",
    "doc = modelo(texto)\n",
    "word_lemma = [(token, token.pos_, token.lemma_) for token in doc]\n",
    "word_lemma"
   ]
  },
  {
   "cell_type": "markdown",
   "id": "055693e3-06bb-436d-88a3-6f3757c6ad3e",
   "metadata": {},
   "source": [
    "Hay algunas palabras que considero están mal etiquetadas:\n",
    "\n",
    "1. **Secretos** es etiquetada como adjetivo cuando en este caso se usa como sustantivo, aunque el lema lo considero correcto.\n",
    "2. **Sabio** sufre de lo mismo. "
   ]
  },
  {
   "cell_type": "code",
   "execution_count": 2,
   "id": "8bfe267e-39ab-4593-bed3-77cdcb449c44",
   "metadata": {
    "scrolled": true
   },
   "outputs": [
    {
     "data": {
      "text/plain": [
       "palabras   \n",
       "el             5\n",
       ".              3\n",
       "que            2\n",
       ",              2\n",
       "viejo          1\n",
       "saber          1\n",
       "nadie          1\n",
       "observar       1\n",
       "olvidado       1\n",
       "pena           1\n",
       "perla          1\n",
       "visitar        1\n",
       "revelar        1\n",
       "viento         1\n",
       "valer          1\n",
       "sabio          1\n",
       "montecristo    1\n",
       "sendero        1\n",
       "sueño          1\n",
       "tenue          1\n",
       "tesoro         1\n",
       "uno            1\n",
       "secreto        1\n",
       "luz            1\n",
       "mientras       1\n",
       "descifrar      1\n",
       "al             1\n",
       "bien           1\n",
       "bruto          1\n",
       "cerca          1\n",
       "correr         1\n",
       "cómo           1\n",
       "de             1\n",
       "del            1\n",
       "despertar      1\n",
       "ligero         1\n",
       "diamante       1\n",
       "en             1\n",
       "esconder       1\n",
       "fantástico     1\n",
       "final          1\n",
       "fresco         1\n",
       "jamás          1\n",
       "joven          1\n",
       "y              1\n",
       "dtype: int64"
      ]
     },
     "execution_count": 2,
     "metadata": {},
     "output_type": "execute_result"
    }
   ],
   "source": [
    "word_list = [str(token.lemma_).lower() for token in doc]\n",
    "df = pd.DataFrame({'palabras': word_list})\n",
    "df.value_counts()"
   ]
  },
  {
   "cell_type": "code",
   "execution_count": null,
   "id": "2e0d47fb-a916-43d3-af6c-2f9597c5cd0d",
   "metadata": {},
   "outputs": [],
   "source": []
  }
 ],
 "metadata": {
  "kernelspec": {
   "display_name": "Python 3 (ipykernel)",
   "language": "python",
   "name": "python3"
  },
  "language_info": {
   "codemirror_mode": {
    "name": "ipython",
    "version": 3
   },
   "file_extension": ".py",
   "mimetype": "text/x-python",
   "name": "python",
   "nbconvert_exporter": "python",
   "pygments_lexer": "ipython3",
   "version": "3.9.18"
  }
 },
 "nbformat": 4,
 "nbformat_minor": 5
}
