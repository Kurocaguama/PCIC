{
 "cells": [
  {
   "cell_type": "code",
   "execution_count": 1,
   "id": "91e9f864-1a24-4f49-a51c-2d776b1405ef",
   "metadata": {},
   "outputs": [],
   "source": [
    "from sklearn.naive_bayes import MultinomialNB\n",
    "from nltk.tokenize import TweetTokenizer\n",
    "import os\n",
    "import numpy as np\n",
    "import pandas as pd\n",
    "from sklearn.model_selection import train_test_split\n",
    "from sklearn.feature_extraction.text import TfidfVectorizer, CountVectorizer\n",
    "from nltk.stem.snowball import SnowballStemmer\n",
    "import matplotlib.pyplot as plt"
   ]
  },
  {
   "cell_type": "code",
   "execution_count": 2,
   "id": "539c5e89-b54a-4351-99c7-755d43cbc400",
   "metadata": {},
   "outputs": [],
   "source": [
    "with open(r'C:\\Users\\FLopezP\\Desktop\\PCIC\\Segundo Semestre\\PLN\\positivo.txt', \"r\") as pos:\n",
    "    positivos = pos.read()\n",
    "with open(r'C:\\Users\\FLopezP\\Desktop\\PCIC\\Segundo Semestre\\PLN\\negativo.txt',\"r\") as neg:\n",
    "    negativos = neg.read()\n",
    "    \n",
    "tweets = positivos + \"\\n\" + negativos\n",
    "listaTweets = []\n",
    "listaTweets = tweets.split(\"\\n\")\n",
    "\n",
    "etiquetaTweet = []\n",
    "for i in range(0,len(positivos.split(\"\\n\"))):\n",
    "    etiquetaTweet.append(1)\n",
    "for x in range(0,len(negativos.split(\"\\n\"))):\n",
    "    etiquetaTweet.append(2)"
   ]
  },
  {
   "cell_type": "code",
   "execution_count": 3,
   "id": "fe2bb573-5c3f-4eb7-b5fd-196f3f273ab3",
   "metadata": {},
   "outputs": [],
   "source": [
    "def train_nb(dataset, labels):\n",
    "    vectorizer = TfidfVectorizer(\n",
    "        use_idf = True,\n",
    "        strip_accents = 'ascii',\n",
    "        smooth_idf = True,\n",
    "        analyzer = 'char',\n",
    "        ngram_range = (1,2)\n",
    "    )\n",
    "\n",
    "    X = vectorizer.fit_transform(dataset)\n",
    "    X_train, X_test, y_train, y_test = train_test_split(X, labels, shuffle = True)\n",
    "    clf = MultinomialNB(alpha=0.42, fit_prior=True)\n",
    "    clf.fit(X_train, y_train)\n",
    "    \n",
    "    print(clf.score(X_test,y_test)*100, \"%\")"
   ]
  },
  {
   "cell_type": "code",
   "execution_count": 4,
   "id": "7174827d-caa9-42eb-8b9b-a2bc499b4e95",
   "metadata": {},
   "outputs": [
    {
     "name": "stdout",
     "output_type": "stream",
     "text": [
      "90.0 %\n"
     ]
    }
   ],
   "source": [
    "train_nb(listaTweets, etiquetaTweet)"
   ]
  },
  {
   "cell_type": "code",
   "execution_count": 5,
   "id": "e07b08a7-05aa-45ba-8896-7ffa0eb2e3b9",
   "metadata": {},
   "outputs": [
    {
     "data": {
      "text/plain": [
       "DatasetDict({\n",
       "    train: Dataset({\n",
       "        features: ['text', 'label'],\n",
       "        num_rows: 1839\n",
       "    })\n",
       "    validation: Dataset({\n",
       "        features: ['text', 'label'],\n",
       "        num_rows: 324\n",
       "    })\n",
       "    test: Dataset({\n",
       "        features: ['text', 'label'],\n",
       "        num_rows: 870\n",
       "    })\n",
       "})"
      ]
     },
     "execution_count": 5,
     "metadata": {},
     "output_type": "execute_result"
    }
   ],
   "source": [
    "from datasets import load_dataset\n",
    "\n",
    "ds = load_dataset(\"cardiffnlp/tweet_sentiment_multilingual\", \"spanish\")\n",
    "ds"
   ]
  },
  {
   "cell_type": "code",
   "execution_count": 6,
   "id": "9428148c-898e-423a-9ccb-863818ca6aa6",
   "metadata": {},
   "outputs": [
    {
     "data": {
      "text/plain": [
       "['estoy hasta el ojete de que me digáis que tengo cara de mala leche',\n",
       " '@user Por?  Tenía pensado verla después de la segunda de Daredevil',\n",
       " 'Esto de estar feliz mola',\n",
       " 'Ya no es tan divertido',\n",
       " '@user te recuerdo que soy una persona que tiene criterio, equivocado, pero lo tengo']"
      ]
     },
     "execution_count": 6,
     "metadata": {},
     "output_type": "execute_result"
    }
   ],
   "source": [
    "new_tweets = ds['train']['text'][0:len(positivos)]\n",
    "new_tweets[:5]"
   ]
  },
  {
   "cell_type": "code",
   "execution_count": 7,
   "id": "fd6c4f38-5783-404f-905d-d6ed1abf9a39",
   "metadata": {},
   "outputs": [
    {
     "name": "stdout",
     "output_type": "stream",
     "text": [
      "1050 1050\n"
     ]
    }
   ],
   "source": [
    "for i in range(len(new_tweets)):\n",
    "    listaTweets.append(new_tweets[i])\n",
    "    etiquetaTweet.append(1) # Todos son positivos\n",
    "\n",
    "print(len(listaTweets), len(etiquetaTweet))"
   ]
  },
  {
   "cell_type": "code",
   "execution_count": 8,
   "id": "2f0dbc59-1478-4256-baa2-68373a0c70a5",
   "metadata": {},
   "outputs": [
    {
     "name": "stdout",
     "output_type": "stream",
     "text": [
      "98.09885931558935 %\n"
     ]
    }
   ],
   "source": [
    "train_nb(listaTweets, etiquetaTweet)"
   ]
  },
  {
   "cell_type": "markdown",
   "id": "9d0de3c0-c331-441b-af7c-67539df10ae8",
   "metadata": {},
   "source": [
    "El modelo se sobreajusta a la información presente. Como hay demasiados tweets positivos el modelo se sesga a clasificar de esta manera a los tweets, y como son la mayoría de los elementos en el conjunto de prueba, el rendimiento del modelo aumenta."
   ]
  },
  {
   "cell_type": "code",
   "execution_count": null,
   "id": "55eb572a-0399-4955-9b78-c41bdd27b99b",
   "metadata": {},
   "outputs": [],
   "source": []
  }
 ],
 "metadata": {
  "kernelspec": {
   "display_name": "Python 3 (ipykernel)",
   "language": "python",
   "name": "python3"
  },
  "language_info": {
   "codemirror_mode": {
    "name": "ipython",
    "version": 3
   },
   "file_extension": ".py",
   "mimetype": "text/x-python",
   "name": "python",
   "nbconvert_exporter": "python",
   "pygments_lexer": "ipython3",
   "version": "3.9.18"
  }
 },
 "nbformat": 4,
 "nbformat_minor": 5
}
