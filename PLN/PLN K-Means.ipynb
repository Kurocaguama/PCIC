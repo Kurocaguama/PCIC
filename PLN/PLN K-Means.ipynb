{
 "cells": [
  {
   "cell_type": "markdown",
   "id": "43752e11-a884-4b51-96da-7ebda59206d5",
   "metadata": {},
   "source": [
    "# K-Means:\n",
    "\n",
    "Consideramos la implementación disponible en SciKit-Learn. Como `k = 2` consideramos el parámetro `n_clusters = 2`.\n",
    "\n",
    "Los centroides (conjunto de entrenamiento de nuestro modelo corresponde a $C_1 = (1,1), C_2 = (2,1)$, mientras que el conjunto de entrenamiento es $X = \\{(1,1), (2,1), (4,3), (5,4)\\}$"
   ]
  },
  {
   "cell_type": "code",
   "execution_count": 1,
   "id": "8ed7a2b7-18b3-43a8-a4db-400160840803",
   "metadata": {},
   "outputs": [],
   "source": [
    "from sklearn.cluster import KMeans\n",
    "import numpy as np\n",
    "\n",
    "train = np.array([[1,1], [2,1]])\n",
    "X = np.array([[1,1], [2,1], [4,3], [5,4]])\n",
    "kmeans = KMeans(n_clusters = 2, random_state = 42, n_init ='auto').fit(train)"
   ]
  },
  {
   "cell_type": "code",
   "execution_count": 2,
   "id": "314b8c10-0e62-467a-b3a5-adb40d709330",
   "metadata": {},
   "outputs": [
    {
     "name": "stdout",
     "output_type": "stream",
     "text": [
      "[0 1]\n"
     ]
    }
   ],
   "source": [
    "print(kmeans.labels_)"
   ]
  },
  {
   "cell_type": "code",
   "execution_count": 3,
   "id": "caef354e-f329-45fe-8d0d-5ff86387505f",
   "metadata": {},
   "outputs": [
    {
     "name": "stdout",
     "output_type": "stream",
     "text": [
      "[0 1 1 1]\n"
     ]
    }
   ],
   "source": [
    "print(kmeans.predict(X))"
   ]
  },
  {
   "cell_type": "markdown",
   "id": "2115a11c-4c88-48e8-83b3-2baeb5fd3904",
   "metadata": {},
   "source": [
    "Tenemos un total de dos centroides por lo que las clases van a corresponder al conjunto $Class = \\{0,1\\}$. Viendo la tercera celda podemos ver que el algoritmo de kmeans hace la siguiente agrupación:\n",
    "\n",
    "1. $(1,1) \\implies 0$ (Naturalmente ya que es igual a $C_1$.)\n",
    "2. $(2,1) \\implies 1$ (Igual a $C_2$.)\n",
    "3. $(4,3) \\implies 1$\n",
    "4. $(5,4) \\implies 1$"
   ]
  },
  {
   "cell_type": "code",
   "execution_count": 4,
   "id": "3122a8f2-a8d1-4f29-ba45-1ba9d86b64cd",
   "metadata": {},
   "outputs": [
    {
     "data": {
      "image/png": "[encoded data removed]",
      "text/plain": [
       "<Figure size 640x480 with 1 Axes>"
      ]
     },
     "metadata": {},
     "output_type": "display_data"
    }
   ],
   "source": [
    "import matplotlib.pyplot as plt\n",
    "\n",
    "X1 = [1, 2, 4, 5]\n",
    "Y1 = [1, 1, 3, 4]\n",
    "\n",
    "plt.plot(X1, Y1, 'o')\n",
    "plt.xlabel('Representación en R2')\n",
    "plt.show()"
   ]
  },
  {
   "cell_type": "code",
   "execution_count": null,
   "id": "97d7b66f-dd1b-492a-8dc6-550ee59677d2",
   "metadata": {},
   "outputs": [],
   "source": []
  }
 ],
 "metadata": {
  "kernelspec": {
   "display_name": "Python 3 (ipykernel)",
   "language": "python",
   "name": "python3"
  },
  "language_info": {
   "codemirror_mode": {
    "name": "ipython",
    "version": 3
   },
   "file_extension": ".py",
   "mimetype": "text/x-python",
   "name": "python",
   "nbconvert_exporter": "python",
   "pygments_lexer": "ipython3",
   "version": "3.9.18"
  }
 },
 "nbformat": 4,
 "nbformat_minor": 5
}
