{
 "cells": [
  {
   "cell_type": "markdown",
   "id": "7b8d1fe3-c6f3-479c-bd53-bb18266ce0f7",
   "metadata": {},
   "source": [
    "## Actividad Sumativa 1"
   ]
  },
  {
   "cell_type": "code",
   "execution_count": 1,
   "id": "626a8d33-4fa0-41f5-bdb4-833f82c5b5f9",
   "metadata": {},
   "outputs": [
    {
     "data": {
      "text/plain": [
       "<Compressed Sparse Row sparse matrix of dtype 'float64'\n",
       "\twith 39 stored elements and shape (3, 32)>"
      ]
     },
     "execution_count": 1,
     "metadata": {},
     "output_type": "execute_result"
    }
   ],
   "source": [
    "from sklearn.feature_extraction.text import TfidfVectorizer\n",
    "\n",
    "corpus = [\n",
    "    'No sé con qué armas se peleará la tercera guerra mundial, pero la cuarta se peleará con palos y piedras',\n",
    "    'El fin de la segunda guerra mundial llegó con las bombas atómicas lanzadas en Japón.',\n",
    "    'La casa se está incendiando porque le cayeron bombas.',\n",
    "]\n",
    "\n",
    "vectorizer = TfidfVectorizer()\n",
    "X = vectorizer.fit_transform(corpus)\n",
    "X"
   ]
  },
  {
   "cell_type": "code",
   "execution_count": 10,
   "id": "f9930f13-2480-4a8d-91bc-cd91e92c0842",
   "metadata": {},
   "outputs": [
    {
     "data": {
      "text/plain": [
       "array(['armas', 'atómicas', 'bombas', 'casa', 'cayeron', 'con', 'cuarta',\n",
       "       'de', 'el', 'en', 'está', 'fin', 'guerra', 'incendiando', 'japón',\n",
       "       'la', 'lanzadas', 'las', 'le', 'llegó', 'mundial', 'no', 'palos',\n",
       "       'peleará', 'pero', 'piedras', 'porque', 'qué', 'se', 'segunda',\n",
       "       'sé', 'tercera'], dtype=object)"
      ]
     },
     "execution_count": 10,
     "metadata": {},
     "output_type": "execute_result"
    }
   ],
   "source": [
    "vectorizer.get_feature_names_out()"
   ]
  },
  {
   "cell_type": "code",
   "execution_count": 12,
   "id": "f5036fd7-71a5-484a-b82c-bfd02f732f48",
   "metadata": {},
   "outputs": [
    {
     "name": "stdout",
     "output_type": "stream",
     "text": [
      "tf-idf de bombas: 1.2876820724517808\n",
      "tf-idf de casa: 1.6931471805599454\n",
      "tf-idf de guerra: 1.2876820724517808\n"
     ]
    }
   ],
   "source": [
    "print(f\"tf-idf de bombas: {vectorizer.idf_[2]}\")\n",
    "print(f\"tf-idf de casa: {vectorizer.idf_[3]}\")\n",
    "print(f\"tf-idf de guerra: {vectorizer.idf_[12]}\")"
   ]
  },
  {
   "cell_type": "markdown",
   "id": "3ea0f0a0-febc-47b7-8e87-5dc78b4cec23",
   "metadata": {},
   "source": [
    "## Actividad Sumativa 2"
   ]
  },
  {
   "cell_type": "code",
   "execution_count": 20,
   "id": "2a924db2-09bc-4221-9d94-f3c2a1c004ab",
   "metadata": {},
   "outputs": [],
   "source": [
    "from sklearn.feature_extraction.text import CountVectorizer\n",
    "\n",
    "count_vectorizer = CountVectorizer()\n",
    "Y = count_vectorizer.fit_transform(corpus)\n",
    "print(Y.toarray())"
   ]
  },
  {
   "cell_type": "markdown",
   "id": "ea09427e-82cc-46cf-8ff0-d133be11630c",
   "metadata": {},
   "source": [
    "## Actividad Sumativa 3"
   ]
  },
  {
   "cell_type": "code",
   "execution_count": 24,
   "id": "a2426ed4-29e4-4545-81df-6c8fdcd78b02",
   "metadata": {},
   "outputs": [
    {
     "name": "stderr",
     "output_type": "stream",
     "text": [
      "[nltk_data] Downloading package genesis to\n",
      "[nltk_data]     C:\\Users\\Frank\\AppData\\Roaming\\nltk_data...\n"
     ]
    },
    {
     "name": "stdout",
     "output_type": "stream",
     "text": [
      "[('Allon', 'Bacuth'), ('Ashteroth', 'Karnaim'), ('Ben', 'Ammi'), ('En', 'Mishpat'), ('Jegar', 'Sahadutha'), ('Salt', 'Sea'), ('Whoever', 'sheds'), ('appoint', 'overseers'), ('aromatic', 'resin'), ('cutting', 'instrument')]\n"
     ]
    },
    {
     "name": "stderr",
     "output_type": "stream",
     "text": [
      "[nltk_data]   Unzipping corpora\\genesis.zip.\n"
     ]
    }
   ],
   "source": [
    "import nltk\n",
    "from nltk.collocations import *\n",
    "nltk.download('genesis')\n",
    "\n",
    "# Código base\n",
    "bigram_measures = nltk.collocations.BigramAssocMeasures()\n",
    "trigram_measures = nltk.collocations.TrigramAssocMeasures()\n",
    "finder = BigramCollocationFinder.from_words(nltk.corpus.genesis.words('english-web.txt'))\n",
    "print(finder.nbest(bigram_measures.pmi, 10))"
   ]
  },
  {
   "cell_type": "code",
   "execution_count": 25,
   "id": "c00f1fa2-ffcb-4adb-bb02-d90074d88d16",
   "metadata": {},
   "outputs": [
    {
     "data": {
      "text/plain": [
       "[((',', 'and'), 1271),\n",
       " ((',', '\"'), 510),\n",
       " (('of', 'the'), 369),\n",
       " ((\"'\", 's'), 300),\n",
       " (('in', 'the'), 270),\n",
       " (('said', ','), 258),\n",
       " (('said', 'to'), 197),\n",
       " (('.', 'He'), 174),\n",
       " (('the', 'land'), 161),\n",
       " (('.', 'The'), 153)]"
      ]
     },
     "execution_count": 25,
     "metadata": {},
     "output_type": "execute_result"
    }
   ],
   "source": [
    "# Código modificado\n",
    "sorted(finder.ngram_fd.items(), key=lambda t: (-t[1], t[0]))[:10]"
   ]
  },
  {
   "cell_type": "code",
   "execution_count": null,
   "id": "811b844b-1541-4be3-a32e-47d1bd129bd6",
   "metadata": {},
   "outputs": [],
   "source": []
  }
 ],
 "metadata": {
  "kernelspec": {
   "display_name": "Python 3 (ipykernel)",
   "language": "python",
   "name": "python3"
  },
  "language_info": {
   "codemirror_mode": {
    "name": "ipython",
    "version": 3
   },
   "file_extension": ".py",
   "mimetype": "text/x-python",
   "name": "python",
   "nbconvert_exporter": "python",
   "pygments_lexer": "ipython3",
   "version": "3.11.9"
  }
 },
 "nbformat": 4,
 "nbformat_minor": 5
}
