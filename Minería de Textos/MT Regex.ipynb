{
 "cells": [
  {
   "cell_type": "markdown",
   "id": "dcabe85c-dd40-42eb-8a73-c542bb26b9f7",
   "metadata": {},
   "source": [
    "## Regex con dates.txt\n",
    "\n",
    "El funcionamiento de esta aplicación se divide en las siguientes secciones:\n",
    "\n",
    "1. Extracción de fechas mediante expresiones regulares.\n",
    "2. Estandarización de texto y de formato.\n",
    "3. Ordenamiento.\n",
    "\n",
    "La extracción de fechas se hace con una expresión regular que identifica las posibles variaciones de escritura de fechas. Se encuentra en la variable 'regex'. \n",
    "\n",
    "La estandarización de texto y formato convierte a todas las fechas al formato día / mes / año, y en particular transforma todas las variaciones del texto a un valor numérico que se guarda en una lista. Por ejemplo: Octubre, 12, 1997 -> 12/10/1997 -> [12, 10, 1997]\n",
    "\n",
    "El ordenamiento se hace primero por día, luego por mes y finalmente por año."
   ]
  },
  {
   "cell_type": "markdown",
   "id": "72d78eb7-df56-41fb-b9ea-16acdfebcf78",
   "metadata": {},
   "source": [
    "### Extracción usando Regex"
   ]
  },
  {
   "cell_type": "code",
   "execution_count": 1,
   "id": "03c55f58-1829-4375-b3d3-8d8253b1f90f",
   "metadata": {},
   "outputs": [],
   "source": [
    "import re\n",
    "f = open(r'C:\\Users\\Frank\\Desktop\\PCIC\\Segundo Semestre\\dates.txt', 'r')\n",
    "regex = '(([\\d]{1,2}[\\/-]+){2}([\\d]{4}|[\\d]{2}))|([\\d]{2}[ ][\\w]+([ ][\\d]{4}|[ ][\\d]{2}))|([\\w]+[.| ]+[\\d]+[, ]+[\\d]{4})|(([A-Z][\\w]){3,}[ |,]+[\\d]{4})|(([\\d]{1,2}\\/)?[1|2]+[\\d]{3})'\n",
    "aux = f.readlines()"
   ]
  },
  {
   "cell_type": "code",
   "execution_count": 2,
   "id": "d98579a0-7c1a-432b-8eab-e98d33ed11d2",
   "metadata": {},
   "outputs": [],
   "source": [
    "clean_list = []\n",
    "for _ in aux:\n",
    "    txt_aux = _.replace('\\n', '')\n",
    "    clean_list.append(txt_aux)\n",
    "\n",
    "regex_list = [re.search(regex, _) for _ in clean_list]\n",
    "regex_clean_list = [_.group() for _ in regex_list]"
   ]
  },
  {
   "cell_type": "markdown",
   "id": "f699b3ac-8f72-4399-b80d-22a1d39a2c90",
   "metadata": {},
   "source": [
    "### Estandarización"
   ]
  },
  {
   "cell_type": "code",
   "execution_count": 3,
   "id": "25fb308c-87c6-4f18-afb6-b625e01dc167",
   "metadata": {},
   "outputs": [],
   "source": [
    "# Filtra las fechas de formato de Estados Unidos (mm/dd/yy -> dd/mm/yy)\n",
    "non_us_date = []\n",
    "for _ in clean_list:\n",
    "    if re.search('(([\\d]{1,2}[\\/-]+){2}([\\d]{4}|[\\d]{2}))', _):\n",
    "        a = re.search('(([\\d]{1,2}[\\/-]+){2}([\\d]{4}|[\\d]{2}))', _).group()\n",
    "        aux = re.split('/|-', a)\n",
    "        aux[0], aux[1] = aux[1], aux[0]\n",
    "        non_us_date.append(aux)"
   ]
  },
  {
   "cell_type": "code",
   "execution_count": 4,
   "id": "7057b171-756a-43b7-bf9d-9de69ddb0532",
   "metadata": {},
   "outputs": [],
   "source": [
    "split_list = []\n",
    "for _ in regex_clean_list:\n",
    "    _ = re.sub('[ |-]', '/', _)\n",
    "    _ = re.sub('[.|,]', '', _)\n",
    "    split = _.split('/')\n",
    "    split_list.append(split)"
   ]
  },
  {
   "cell_type": "code",
   "execution_count": 5,
   "id": "80aa183e-9bb4-466f-8768-3269a960307a",
   "metadata": {
    "scrolled": true
   },
   "outputs": [],
   "source": [
    "# Se estandariza para los casos en donde no se tienen las fechas completas. \n",
    "# Se agrega un 1 correspondiente tanto al mes como al día en los casos que hacen falta.\n",
    "# 1994 -> 1, 1, 1994 (Correspondiente al 1 de Enero de 1994)\n",
    "\n",
    "for _ in split_list:\n",
    "    if len(_) == 2:\n",
    "        _.insert(0, 1)\n",
    "    if len(_) == 1:\n",
    "        _.insert(0,1)\n",
    "        _.insert(0,1)"
   ]
  },
  {
   "cell_type": "code",
   "execution_count": 6,
   "id": "cbbda1e3-74cd-48e9-a3e0-ccb841cfe29b",
   "metadata": {},
   "outputs": [],
   "source": [
    "# Se combinan las listas previamente obtenidas para tener consistencia del formato de fechas\n",
    "for i in range(len(non_us_date)):\n",
    "    split_list[i] = non_us_date[i]"
   ]
  },
  {
   "cell_type": "code",
   "execution_count": 7,
   "id": "9daaf333-95a3-49af-877c-518e74ce8c44",
   "metadata": {},
   "outputs": [],
   "source": [
    "# Diccionario auxiliar para reescribir nuestra información.\n",
    "fechas = {\n",
    "    1 : ['Jan', 'January'],\n",
    "    2 : ['Feb', 'February'],\n",
    "    3 : ['Mar', 'March'],\n",
    "    4 : ['Apr', 'April'],\n",
    "    5 : ['May'],\n",
    "    6 : ['Jun', 'June'],\n",
    "    7 : ['Jul', 'July'],\n",
    "    8 : ['Aug', 'August'],\n",
    "    9 : ['Sep', 'September'],\n",
    "    10 : ['Oct', 'October'],\n",
    "    11 : ['Nov', 'November'],\n",
    "    12 : ['Dec', 'December']\n",
    "}\n",
    "\n",
    "def check_dict(value):\n",
    "    \"\"\"\n",
    "    Verifica si un valor está en el diccionario fechas.\n",
    "    \n",
    "    value = lista[index]\n",
    "    \"\"\"\n",
    "    for j in fechas:\n",
    "        if value in fechas[j]:\n",
    "            return True\n",
    "\n",
    "def swap_month(value, dl):\n",
    "    \"\"\"\n",
    "    Cambia los valores de día y mes cuando el mes está en formato texto\n",
    "    \n",
    "    value = list[index] ; Proveniente de la entrada que se quiere analizar.\n",
    "    \"\"\"\n",
    "    if check_dict(value):\n",
    "        dl[0], dl[1] = dl[1], dl[0]\n",
    "\n",
    "def standard_19(value):\n",
    "    \"\"\"\n",
    "    Estandariza los años 1900s donde solo se usa los dos años finales (99 -> 1999)\n",
    "    \"\"\"\n",
    "    if len(value[2]) == 2:\n",
    "        aux = '19'+value[2]\n",
    "        value[2] = aux\n",
    "\n",
    "def get_fechas_key(value):\n",
    "    \"\"\"\n",
    "    Regresa el key de la fecha para poder ordenar la lista a partir fechas.\n",
    "    \"\"\"\n",
    "    if check_dict(value[1]):\n",
    "        for x, y in fechas.items():\n",
    "            if value[1] in y:\n",
    "                value[1] = x\n",
    "\n",
    "def int_list(slist):\n",
    "    \"\"\"\n",
    "    slist = split_list[index] ; \n",
    "    \"\"\"\n",
    "    lista = []\n",
    "    for _ in slist:\n",
    "        try:\n",
    "            lista.append(int(_))\n",
    "        except ValueError:\n",
    "            lista.append(1)\n",
    "    return lista"
   ]
  },
  {
   "cell_type": "code",
   "execution_count": 8,
   "id": "fcd01ec1-2e47-4346-8852-c2a514128a9a",
   "metadata": {
    "scrolled": true
   },
   "outputs": [],
   "source": [
    "# Las funciones solo se aplican a una línea a la vez\n",
    "# Se tiene que iterar una única vez sobre la lista para cambiar los valores.\n",
    "\n",
    "# lista_chida es una lista donde se aplican todas las funciones previamente escritas.\n",
    "# es una lista donde cada entrada corresponde a las fechas en formato: [int(dd), int(mm), int(yyyy)]\n",
    "\n",
    "lista_chida = []\n",
    "for _ in split_list:\n",
    "    swap_month(_[0], _)\n",
    "    standard_19(_)\n",
    "    get_fechas_key(_)\n",
    "    aux = int_list(_)\n",
    "    if aux[1] > 12: # Corregimos un pequeño detalle que se nos pasó en la extracción usando ER.\n",
    "        aux[1] = 1\n",
    "    lista_chida.append(aux)"
   ]
  },
  {
   "cell_type": "code",
   "execution_count": 9,
   "id": "327c6b0b-a58a-437a-a88e-9489e692c321",
   "metadata": {},
   "outputs": [
    {
     "name": "stdout",
     "output_type": "stream",
     "text": [
      "[[25, 3, 1993], [18, 6, 1985], [8, 7, 1971], [27, 9, 1975], [6, 2, 1996]]\n",
      "[[1, 1, 1979], [1, 1, 2006], [1, 1, 2008], [1, 1, 2005], [1, 1, 1980]]\n"
     ]
    }
   ],
   "source": [
    "print(lista_chida[:5])\n",
    "print(lista_chida[-5:])"
   ]
  },
  {
   "cell_type": "markdown",
   "id": "fbd4e093-c184-4e95-a6fe-aae68f93b17f",
   "metadata": {},
   "source": [
    "### Ordenamiento"
   ]
  },
  {
   "cell_type": "code",
   "execution_count": 10,
   "id": "30911d1a-0e83-4048-be15-71910703d6ca",
   "metadata": {},
   "outputs": [],
   "source": [
    "# Primero ordenamos por año\n",
    "def sort_year(a):\n",
    "    return a[2]\n",
    "lista_chida.sort(key = sort_year, reverse = True)"
   ]
  },
  {
   "cell_type": "code",
   "execution_count": 11,
   "id": "b3b077f5-2347-4456-8461-50ca876b5b67",
   "metadata": {},
   "outputs": [],
   "source": [
    "# Luego se ordena por mes.\n",
    "def sort_month(a):\n",
    "    return a[1]\n",
    "\n",
    "aux = []\n",
    "for _ in lista_chida:\n",
    "    aux.append(_[2])\n",
    "auxset = list(set(aux))\n",
    "\n",
    "full_list = []\n",
    "for _ in auxset:\n",
    "    aux = []\n",
    "    for j in lista_chida:\n",
    "        if j[2] == _:\n",
    "            aux.append(j)\n",
    "    aux.sort(key=sort_month)\n",
    "    for _ in aux:\n",
    "        full_list.append(_) # Con esto agregamos la lista ordenada por año y por meses.\n",
    "\n",
    "# Ordenamiento por día.\n",
    "for i in range(1, len(full_list)-1):\n",
    "    if full_list[i][1] == full_list [i-1][1] and full_list[i][0] > full_list[i-1][0]:\n",
    "        full_list[i], full_list[i-1] = full_list[i-1], full_list[i]"
   ]
  },
  {
   "cell_type": "code",
   "execution_count": 12,
   "id": "b563afbb-929d-4abf-b98e-7fce8761f8d4",
   "metadata": {},
   "outputs": [
    {
     "name": "stdout",
     "output_type": "stream",
     "text": [
      "[[10, 4, 1971], [18, 5, 1971], [11, 7, 1971], [8, 7, 1971], [12, 9, 1971]]\n",
      "[[30, 5, 2016], [1, 5, 2016], [19, 10, 2016], [13, 10, 2016], [1, 11, 2016]]\n"
     ]
    }
   ],
   "source": [
    "print(full_list[:5])\n",
    "print(full_list[-5:])"
   ]
  },
  {
   "cell_type": "code",
   "execution_count": 13,
   "id": "1527672d-139d-40a3-a4cf-7d0f4aa604dd",
   "metadata": {},
   "outputs": [
    {
     "name": "stdout",
     "output_type": "stream",
     "text": [
      "Las entradas de la lista corresponden a fechas en el formato: dd/mm/yyyy\n",
      "Longitud de la lista final: 500\n",
      "Primera fecha: [10, 4, 1971]. Es decir el 10 de Abril de 1971.\n",
      "Última fecha: [1, 11, 2016]. Es decir 1ro de Noviembre del 2016.\n"
     ]
    }
   ],
   "source": [
    "print(f\"Las entradas de la lista corresponden a fechas en el formato: dd/mm/yyyy\")\n",
    "print(f\"Longitud de la lista final: {len(full_list)}\")\n",
    "print(f\"Primera fecha: {full_list[0]}. Es decir el 10 de Abril de 1971.\")\n",
    "print(f\"Última fecha: {full_list[-1]}. Es decir 1ro de Noviembre del 2016.\")"
   ]
  },
  {
   "cell_type": "code",
   "execution_count": null,
   "id": "1109732b-a97f-4a22-8e27-75c4c2fac5f6",
   "metadata": {},
   "outputs": [],
   "source": []
  }
 ],
 "metadata": {
  "kernelspec": {
   "display_name": "Python 3 (ipykernel)",
   "language": "python",
   "name": "python3"
  },
  "language_info": {
   "codemirror_mode": {
    "name": "ipython",
    "version": 3
   },
   "file_extension": ".py",
   "mimetype": "text/x-python",
   "name": "python",
   "nbconvert_exporter": "python",
   "pygments_lexer": "ipython3",
   "version": "3.11.9"
  }
 },
 "nbformat": 4,
 "nbformat_minor": 5
}
