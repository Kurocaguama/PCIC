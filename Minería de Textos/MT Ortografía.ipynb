{
 "cells": [
  {
   "cell_type": "code",
   "execution_count": 1,
   "id": "5ebb1731-1f67-4d7f-be40-67f9adf523c6",
   "metadata": {},
   "outputs": [],
   "source": [
    "import nltk\n",
    "from nltk.corpus import words\n",
    "from nltk.metrics import edit_distance\n",
    "diccionario = words.words()\n",
    "palabras = ['cormulent', 'incendenece', 'validrate']"
   ]
  },
  {
   "cell_type": "code",
   "execution_count": 2,
   "id": "a8ba53f9-8082-4b8f-bc38-f55b66a74674",
   "metadata": {},
   "outputs": [],
   "source": [
    "def trigram(w):\n",
    "    n_gram_list = []\n",
    "    for i in range(2, len(w)):\n",
    "        ngram = w[i-2] + w[i-1] + w[i]\n",
    "        n_gram_list.append(ngram)\n",
    "    return n_gram_list\n",
    "\n",
    "def fourgram(w):\n",
    "    n_gram_list = []\n",
    "    for i in range(3, len(w)):\n",
    "        ngram = w[i-3] + w[i-2] + w[i-1] + w[i]\n",
    "        n_gram_list.append(ngram)\n",
    "    return n_gram_list\n",
    "\n",
    "def jaccard(l1, l2):\n",
    "    s1, s2 = set(l1), set(l2)\n",
    "    inter = s1.intersection(s2)\n",
    "    union = s1.union(s2)\n",
    "    return len(inter)/len(union)\n",
    "\n",
    "def evaluate(w_list, n):\n",
    "    \"\"\"\n",
    "    w_list = lista de palabras ; En nuestro caso corresponde a la variable palabras\n",
    "    n = 3 or 4 or 5; Determina si se usan trigramas, cuatrigramas, o levenshtein\n",
    "    \"\"\"\n",
    "    final_list = []\n",
    "    for _ in w_list:\n",
    "        if n == 3:\n",
    "            sim_list = [jaccard(trigram(_), trigram(a)) for a in diccionario]\n",
    "            val = max(sim_list)\n",
    "        elif n == 4:\n",
    "            sim_list = [jaccard(fourgram(_), fourgram(a)) for a in diccionario]\n",
    "            val = max(sim_list)\n",
    "        else:\n",
    "            sim_list = [edit_distance(_, a) for a in diccionario]\n",
    "            val = min(sim_list)\n",
    "        print(val, diccionario[sim_list.index(val)])\n",
    "        final_list.append(diccionario[sim_list.index(val)])\n",
    "    return final_list"
   ]
  },
  {
   "cell_type": "markdown",
   "id": "2535f2f5-de71-4acd-b939-aa518191c2a9",
   "metadata": {},
   "source": [
    "## Recomendador 1"
   ]
  },
  {
   "cell_type": "code",
   "execution_count": 3,
   "id": "12e8accc-fe1f-43c7-b70b-9cdc83a495e9",
   "metadata": {},
   "outputs": [
    {
     "name": "stdout",
     "output_type": "stream",
     "text": [
      "0.5 formule\n",
      "0.4166666666666667 ascendence\n",
      "0.4444444444444444 validate\n",
      "['formule', 'ascendence', 'validate']\n",
      "CPU times: total: 3.8 s\n",
      "Wall time: 3.9 s\n"
     ]
    }
   ],
   "source": [
    "%%time\n",
    "print(evaluate(palabras, 3))"
   ]
  },
  {
   "cell_type": "markdown",
   "id": "86e80bb0-a862-4269-9d34-06eda4001f2b",
   "metadata": {},
   "source": [
    "## Recomendador 2"
   ]
  },
  {
   "cell_type": "code",
   "execution_count": 4,
   "id": "cae728d8-3d24-485f-9e8b-31e9a4aa952b",
   "metadata": {},
   "outputs": [
    {
     "name": "stdout",
     "output_type": "stream",
     "text": [
      "0.42857142857142855 formule\n",
      "0.2727272727272727 ascendent\n",
      "0.3333333333333333 drate\n",
      "['formule', 'ascendent', 'drate']\n",
      "CPU times: total: 4.39 s\n",
      "Wall time: 4.5 s\n"
     ]
    }
   ],
   "source": [
    "%%time\n",
    "print(evaluate(palabras, 4))"
   ]
  },
  {
   "cell_type": "markdown",
   "id": "03c12d5f-c058-4961-acd6-1e50a48e589d",
   "metadata": {},
   "source": [
    "## Recomendador 3"
   ]
  },
  {
   "cell_type": "code",
   "execution_count": 5,
   "id": "9a5b01df-6415-45c5-9e72-b453c7b9f88d",
   "metadata": {},
   "outputs": [
    {
     "name": "stdout",
     "output_type": "stream",
     "text": [
      "1 corpulent\n",
      "2 intendence\n",
      "1 validate\n",
      "['corpulent', 'intendence', 'validate']\n",
      "CPU times: total: 49.9 s\n",
      "Wall time: 50.4 s\n"
     ]
    }
   ],
   "source": [
    "%%time\n",
    "print(evaluate(palabras, 5))"
   ]
  },
  {
   "cell_type": "code",
   "execution_count": null,
   "id": "0490d880-40f3-41f8-8bb7-ac58485e3b73",
   "metadata": {},
   "outputs": [],
   "source": []
  }
 ],
 "metadata": {
  "kernelspec": {
   "display_name": "Python 3 (ipykernel)",
   "language": "python",
   "name": "python3"
  },
  "language_info": {
   "codemirror_mode": {
    "name": "ipython",
    "version": 3
   },
   "file_extension": ".py",
   "mimetype": "text/x-python",
   "name": "python",
   "nbconvert_exporter": "python",
   "pygments_lexer": "ipython3",
   "version": "3.11.9"
  }
 },
 "nbformat": 4,
 "nbformat_minor": 5
}
