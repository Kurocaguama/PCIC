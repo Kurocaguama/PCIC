{
 "cells": [
  {
   "cell_type": "code",
   "execution_count": 1,
   "id": "0c3ceac2-286b-45e6-ada1-5e7174e01272",
   "metadata": {},
   "outputs": [
    {
     "data": {
      "text/html": [
       "<div>\n",
       "<style scoped>\n",
       "    .dataframe tbody tr th:only-of-type {\n",
       "        vertical-align: middle;\n",
       "    }\n",
       "\n",
       "    .dataframe tbody tr th {\n",
       "        vertical-align: top;\n",
       "    }\n",
       "\n",
       "    .dataframe thead th {\n",
       "        text-align: right;\n",
       "    }\n",
       "</style>\n",
       "<table border=\"1\" class=\"dataframe\">\n",
       "  <thead>\n",
       "    <tr style=\"text-align: right;\">\n",
       "      <th></th>\n",
       "      <th>id</th>\n",
       "      <th>texto</th>\n",
       "      <th>pais</th>\n",
       "      <th>etiqueta</th>\n",
       "    </tr>\n",
       "  </thead>\n",
       "  <tbody>\n",
       "    <tr>\n",
       "      <th>0</th>\n",
       "      <td>770809220291760128</td>\n",
       "      <td>Quiero que alguien me diga cosas bonitas</td>\n",
       "      <td>ES</td>\n",
       "      <td>N</td>\n",
       "    </tr>\n",
       "    <tr>\n",
       "      <th>1</th>\n",
       "      <td>772825676793589760</td>\n",
       "      <td>@RavlRVara ¡Síguenos porfa! Tenemos que decirt...</td>\n",
       "      <td>ES</td>\n",
       "      <td>NEU</td>\n",
       "    </tr>\n",
       "    <tr>\n",
       "      <th>2</th>\n",
       "      <td>772508582923337729</td>\n",
       "      <td>@Charlywayty @Karim0931 cualquiera diría que e...</td>\n",
       "      <td>ES</td>\n",
       "      <td>NEU</td>\n",
       "    </tr>\n",
       "    <tr>\n",
       "      <th>3</th>\n",
       "      <td>790657169876193281</td>\n",
       "      <td>a to esto, el tio de ono no ha venio</td>\n",
       "      <td>ES</td>\n",
       "      <td>N</td>\n",
       "    </tr>\n",
       "    <tr>\n",
       "      <th>4</th>\n",
       "      <td>770967255773507584</td>\n",
       "      <td>@IKEASpain es el mismo así que tomo nota de to...</td>\n",
       "      <td>ES</td>\n",
       "      <td>P</td>\n",
       "    </tr>\n",
       "  </tbody>\n",
       "</table>\n",
       "</div>"
      ],
      "text/plain": [
       "                   id                                              texto pais  \\\n",
       "0  770809220291760128          Quiero que alguien me diga cosas bonitas    ES   \n",
       "1  772825676793589760  @RavlRVara ¡Síguenos porfa! Tenemos que decirt...   ES   \n",
       "2  772508582923337729  @Charlywayty @Karim0931 cualquiera diría que e...   ES   \n",
       "3  790657169876193281              a to esto, el tio de ono no ha venio    ES   \n",
       "4  770967255773507584  @IKEASpain es el mismo así que tomo nota de to...   ES   \n",
       "\n",
       "  etiqueta  \n",
       "0        N  \n",
       "1      NEU  \n",
       "2      NEU  \n",
       "3        N  \n",
       "4        P  "
      ]
     },
     "execution_count": 1,
     "metadata": {},
     "output_type": "execute_result"
    }
   ],
   "source": [
    "import transformers, re, datasets, torch\n",
    "import pandas as pd\n",
    "from datasets import Dataset\n",
    "from transformers import AutoTokenizer, AutoModelForSequenceClassification\n",
    "\n",
    "\n",
    "dataset = pd.read_csv(r'C:\\Users\\FLopezP\\Desktop\\PCIC\\Segundo Semestre\\Minería de textos\\Corpus TASS\\corpusTASS-2020\\test.tsv', sep = '\\t')\n",
    "dataset.head(5)"
   ]
  },
  {
   "cell_type": "code",
   "execution_count": 2,
   "id": "2394fa9f-410e-424e-94ee-9a20ba0c5aea",
   "metadata": {},
   "outputs": [],
   "source": [
    "def no_arrobas(tweet):\n",
    "    return re.sub(\"@+([a-zA-Z|0-9])+\", '', tweet)\n",
    "\n",
    "def create_dataset(texto, tag, clean):\n",
    "    \"\"\"\n",
    "    texto = list ; Conjunto de tweets\n",
    "    tag = list ; Conjunto de etiquetas\n",
    "    clean = bool ; Opción de preprocesamiento\n",
    "    \"\"\"\n",
    "    if clean:\n",
    "        texto = [no_arrobas(_) for _ in texto]\n",
    "    dict_dataset = {'Tweets': texto, 'Tags': tag}\n",
    "    aux_df = pd.DataFrame(dict_dataset)\n",
    "    return Dataset.from_pandas(aux_df)"
   ]
  },
  {
   "cell_type": "code",
   "execution_count": 3,
   "id": "da31a39f-4427-4774-ae08-93c6109d0a9f",
   "metadata": {},
   "outputs": [
    {
     "data": {
      "text/plain": [
       "Dataset({\n",
       "    features: ['Tweets', 'Tags'],\n",
       "    num_rows: 7264\n",
       "})"
      ]
     },
     "execution_count": 3,
     "metadata": {},
     "output_type": "execute_result"
    }
   ],
   "source": [
    "ds_limpio = create_dataset(dataset['texto'], dataset['etiqueta'], True)\n",
    "ds_normal = create_dataset(dataset['texto'], dataset['etiqueta'], False)\n",
    "ds_limpio"
   ]
  },
  {
   "cell_type": "code",
   "execution_count": 4,
   "id": "5e20eeac-e689-4508-9dd5-c3b2eb697730",
   "metadata": {},
   "outputs": [],
   "source": [
    "tokenizer = AutoTokenizer.from_pretrained(\"finiteautomata/beto-sentiment-analysis\")\n",
    "model = AutoModelForSequenceClassification.from_pretrained(\"finiteautomata/beto-sentiment-analysis\")"
   ]
  },
  {
   "cell_type": "code",
   "execution_count": 5,
   "id": "b0ec9519-2860-4510-8a11-f3c68674025d",
   "metadata": {},
   "outputs": [],
   "source": [
    "import evaluate\n",
    "f1 = evaluate.load('f1')"
   ]
  },
  {
   "cell_type": "code",
   "execution_count": 6,
   "id": "3f8f8ca1-6a7e-4743-b61f-6c3a34f8ff17",
   "metadata": {},
   "outputs": [
    {
     "data": {
      "text/plain": [
       "tensor([2])"
      ]
     },
     "execution_count": 6,
     "metadata": {},
     "output_type": "execute_result"
    }
   ],
   "source": [
    "inputs = tokenizer(ds_limpio['Tweets'][0], return_tensors = 'pt')\n",
    "with torch.no_grad():\n",
    "    logits = model(**inputs).logits\n",
    "\n",
    "pred_class = torch.arange(0, logits.shape[-1])[torch.sigmoid(logits).squeeze(dim=0) > 0.5]\n",
    "pred_class"
   ]
  },
  {
   "cell_type": "code",
   "execution_count": null,
   "id": "f8e56446-de5b-4b62-9eb1-7ec3a26a6671",
   "metadata": {},
   "outputs": [],
   "source": [
    "# https://huggingface.co/docs/transformers/en/model_doc/bert#transformers.BertForSequenceClassification"
   ]
  }
 ],
 "metadata": {
  "kernelspec": {
   "display_name": "Python 3 (ipykernel)",
   "language": "python",
   "name": "python3"
  },
  "language_info": {
   "codemirror_mode": {
    "name": "ipython",
    "version": 3
   },
   "file_extension": ".py",
   "mimetype": "text/x-python",
   "name": "python",
   "nbconvert_exporter": "python",
   "pygments_lexer": "ipython3",
   "version": "3.9.18"
  }
 },
 "nbformat": 4,
 "nbformat_minor": 5
}
