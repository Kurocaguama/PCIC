{
 "cells": [
  {
   "cell_type": "markdown",
   "metadata": {},
   "source": [
    "# Preparación de datos"
   ]
  },
  {
   "cell_type": "code",
   "execution_count": 1,
   "metadata": {},
   "outputs": [
    {
     "data": {
      "text/html": [
       "<div>\n",
       "<style scoped>\n",
       "    .dataframe tbody tr th:only-of-type {\n",
       "        vertical-align: middle;\n",
       "    }\n",
       "\n",
       "    .dataframe tbody tr th {\n",
       "        vertical-align: top;\n",
       "    }\n",
       "\n",
       "    .dataframe thead th {\n",
       "        text-align: right;\n",
       "    }\n",
       "</style>\n",
       "<table border=\"1\" class=\"dataframe\">\n",
       "  <thead>\n",
       "    <tr style=\"text-align: right;\">\n",
       "      <th></th>\n",
       "      <th>text</th>\n",
       "      <th>target</th>\n",
       "    </tr>\n",
       "  </thead>\n",
       "  <tbody>\n",
       "    <tr>\n",
       "      <th>0</th>\n",
       "      <td>Go until jurong point, crazy.. Available only ...</td>\n",
       "      <td>0</td>\n",
       "    </tr>\n",
       "    <tr>\n",
       "      <th>1</th>\n",
       "      <td>Ok lar... Joking wif u oni...</td>\n",
       "      <td>0</td>\n",
       "    </tr>\n",
       "    <tr>\n",
       "      <th>2</th>\n",
       "      <td>Free entry in 2 a wkly comp to win FA Cup fina...</td>\n",
       "      <td>1</td>\n",
       "    </tr>\n",
       "    <tr>\n",
       "      <th>3</th>\n",
       "      <td>U dun say so early hor... U c already then say...</td>\n",
       "      <td>0</td>\n",
       "    </tr>\n",
       "    <tr>\n",
       "      <th>4</th>\n",
       "      <td>Nah I don't think he goes to usf, he lives aro...</td>\n",
       "      <td>0</td>\n",
       "    </tr>\n",
       "    <tr>\n",
       "      <th>5</th>\n",
       "      <td>FreeMsg Hey there darling it's been 3 week's n...</td>\n",
       "      <td>1</td>\n",
       "    </tr>\n",
       "    <tr>\n",
       "      <th>6</th>\n",
       "      <td>Even my brother is not like to speak with me. ...</td>\n",
       "      <td>0</td>\n",
       "    </tr>\n",
       "    <tr>\n",
       "      <th>7</th>\n",
       "      <td>As per your request 'Melle Melle (Oru Minnamin...</td>\n",
       "      <td>0</td>\n",
       "    </tr>\n",
       "    <tr>\n",
       "      <th>8</th>\n",
       "      <td>WINNER!! As a valued network customer you have...</td>\n",
       "      <td>1</td>\n",
       "    </tr>\n",
       "    <tr>\n",
       "      <th>9</th>\n",
       "      <td>Had your mobile 11 months or more? U R entitle...</td>\n",
       "      <td>1</td>\n",
       "    </tr>\n",
       "  </tbody>\n",
       "</table>\n",
       "</div>"
      ],
      "text/plain": [
       "                                                text  target\n",
       "0  Go until jurong point, crazy.. Available only ...       0\n",
       "1                      Ok lar... Joking wif u oni...       0\n",
       "2  Free entry in 2 a wkly comp to win FA Cup fina...       1\n",
       "3  U dun say so early hor... U c already then say...       0\n",
       "4  Nah I don't think he goes to usf, he lives aro...       0\n",
       "5  FreeMsg Hey there darling it's been 3 week's n...       1\n",
       "6  Even my brother is not like to speak with me. ...       0\n",
       "7  As per your request 'Melle Melle (Oru Minnamin...       0\n",
       "8  WINNER!! As a valued network customer you have...       1\n",
       "9  Had your mobile 11 months or more? U R entitle...       1"
      ]
     },
     "execution_count": 1,
     "metadata": {},
     "output_type": "execute_result"
    }
   ],
   "source": [
    "import pandas as pd\n",
    "import numpy as np\n",
    "import nltk\n",
    "import re\n",
    "from nltk.corpus import stopwords\n",
    "\n",
    "spam_data = pd.read_csv(r'C:\\Users\\FLopezP\\Documents\\GitHub\\PCIC\\Minería de Textos\\Archivos\\spam.csv')\n",
    "\n",
    "spam_data['target'] = np.where(spam_data['target']=='spam',1,0)\n",
    "spam_data.head(10)"
   ]
  },
  {
   "cell_type": "markdown",
   "metadata": {},
   "source": [
    "# División de muestras en entrenamiento (train) y prueba (test)"
   ]
  },
  {
   "cell_type": "code",
   "execution_count": 2,
   "metadata": {},
   "outputs": [
    {
     "name": "stdout",
     "output_type": "stream",
     "text": [
      "4179\n"
     ]
    }
   ],
   "source": [
    "from sklearn.model_selection import train_test_split\n",
    "\n",
    "\n",
    "X_train, X_test, y_train, y_test = train_test_split(spam_data['text'], \n",
    "                                                    spam_data['target'], \n",
    "                                                    random_state=0)\n",
    "print(len(X_train))"
   ]
  },
  {
   "cell_type": "markdown",
   "metadata": {},
   "source": [
    "### Pregunta 1\n",
    "\n",
    "Ajustar los datos de entrenamiento `X_train` utilizando un `count_vectorizer` con parámetros predeterminados.\n",
    "\n",
    "¿Cuál es el token más largo en el vocabulario?\n",
    "\n",
    "*Esta función debería devolver una cadena.*"
   ]
  },
  {
   "cell_type": "code",
   "execution_count": 3,
   "metadata": {},
   "outputs": [
    {
     "name": "stdout",
     "output_type": "stream",
     "text": [
      "Longitud de máxima de token: 32. \n",
      " Index de token: 1813. \n",
      " Token: com1win150ppmx3age16subscription\n"
     ]
    }
   ],
   "source": [
    "from sklearn.feature_extraction.text import CountVectorizer\n",
    "\n",
    "def respuesta_uno ():\n",
    "    \"\"\"\n",
    "    Obtiene el token de mayor longitud.\n",
    "    \"\"\"\n",
    "    vector = CountVectorizer()\n",
    "    X = vector.fit_transform(X_train)\n",
    "    X_tokens = vector.get_feature_names_out()\n",
    "    X_tokens_len = [len(_) for _ in X_tokens]\n",
    "    a = max(X_tokens_len)\n",
    "    print(f\"Longitud de máxima de token: {a}. \\n Index de token: {X_tokens_len.index(a)}. \\n Token: {X_tokens[X_tokens_len.index(a)]}\")\n",
    "    \n",
    "    return \n",
    "respuesta_uno()"
   ]
  },
  {
   "cell_type": "markdown",
   "metadata": {},
   "source": [
    "### Pregunta 2\n",
    "\n",
    "¿Cuál es el número promedio de caracteres por documento para los documentos no spam y spam?\n",
    "\n",
    "*Esta función debe devolver una tupla (promedio de # caracteres no es spam, promedio # caracteres spam).*"
   ]
  },
  {
   "cell_type": "code",
   "execution_count": 18,
   "metadata": {},
   "outputs": [
    {
     "data": {
      "text/plain": [
       "(68.05243523316062, 134.6813922356091)"
      ]
     },
     "execution_count": 18,
     "metadata": {},
     "output_type": "execute_result"
    }
   ],
   "source": [
    "def respuesta_dos():\n",
    "    \"\"\"\n",
    "    Regresa el promedio de de caracteres por clase de documentos\n",
    "    \"\"\"\n",
    "    no_spam = [re.sub('[\\\\n\\-–¿?,.\":¡!]+', '', spam_data[\"text\"].iloc[_]) for _ in range(len(spam_data)) if spam_data[\"target\"].iloc[_] == 0]\n",
    "    yes_spam = [re.sub('[\\\\n\\-–¿?,.\":¡!]+', '', spam_data[\"text\"].iloc[_]) for _ in range(len(spam_data)) if spam_data[\"target\"].iloc[_] == 1]\n",
    "    \n",
    "    no_avg = 0\n",
    "    yes_avg = 0\n",
    "    \n",
    "    for _ in no_spam:\n",
    "        no_avg += len(_)\n",
    "    \n",
    "    for _ in yes_spam:\n",
    "        yes_avg += len(_)\n",
    "    \n",
    "    return no_avg/len(no_spam), yes_avg/len(yes_spam)\n",
    "    \n",
    "    return \n",
    "respuesta_dos()"
   ]
  },
  {
   "cell_type": "markdown",
   "metadata": {},
   "source": [
    "### Pregunta 3\n",
    "\n",
    "¿Cuál es el número promedio de dígitos por documento para los documentos no spam y spam?\n",
    "\n",
    "*Esta función debe devolver una tupla (promedio de # dígitos no es spam, promedio # dígitos spam).*"
   ]
  },
  {
   "cell_type": "code",
   "execution_count": 19,
   "metadata": {},
   "outputs": [
    {
     "data": {
      "text/plain": [
       "(0.2992746113989637, 15.759036144578314)"
      ]
     },
     "execution_count": 19,
     "metadata": {},
     "output_type": "execute_result"
    }
   ],
   "source": [
    "def get_digits(lista):\n",
    "    nums = ['0','1','2','3','4','5','6','7','8','9']\n",
    "    digits = 0\n",
    "    for _ in lista:\n",
    "        aux = 0\n",
    "        for j in _:\n",
    "            if j in nums:\n",
    "                aux += 1\n",
    "        digits += aux\n",
    "\n",
    "    return digits/len(lista)\n",
    "\n",
    "    \n",
    "def respuesta_tres():\n",
    "    no_spam = [re.sub('[\\\\n\\-–¿?,.\":¡!]+', '', spam_data[\"text\"].iloc[_]) for _ in range(len(spam_data)) if spam_data[\"target\"].iloc[_] == 0]\n",
    "    yes_spam = [re.sub('[\\\\n\\-–¿?,.\":¡!]+', '', spam_data[\"text\"].iloc[_]) for _ in range(len(spam_data)) if spam_data[\"target\"].iloc[_] == 1]\n",
    "\n",
    "    a = get_digits(no_spam)\n",
    "    b = get_digits(yes_spam)\n",
    "    \n",
    "    return a, b\n",
    "respuesta_tres()"
   ]
  },
  {
   "cell_type": "markdown",
   "metadata": {},
   "source": [
    "### Pregunta 4\n",
    "\n",
    "¿Cuál es el número promedio de caracteres que no son palabras (cualquier cosa que no sea una letra, un dígito o un guión bajo) por documento para los documentos que no son spam y spam?\n",
    "\n",
    "*Sugerencia: utilice las clases de caracteres `\\ w` y` \\ W`*\n",
    "\n",
    "*Esta función debe devolver una tupla (promedio de # caracteres que no son palabras, no spam, promedio de # caracteres que no son palabras, spam).*"
   ]
  },
  {
   "cell_type": "code",
   "execution_count": 6,
   "metadata": {},
   "outputs": [],
   "source": [
    "def pregunta_cuatro():\n",
    "    \n",
    "    return \n",
    "pregunta_cuatro()"
   ]
  },
  {
   "cell_type": "markdown",
   "metadata": {},
   "source": [
    "### Pregunta 5\n",
    "\n",
    "¿Cuál es el tamaño del vocabulario en `X_train` y `X_test`, primero utilizando la función `fit_transform` en ambos (train y test), luego utilizando `fit_transform` sobre el train y solo `transform` en el test\n",
    "\n",
    "\n",
    "\n",
    "*Esta función debe devolver dos tuplas una con `fit_transform` y la otra con `transform` (vocabulario en `X_train`, vocabulario en `X_test`), (vocabulario en `X_train`, vocabulario en `X_test`).*.*"
   ]
  },
  {
   "cell_type": "code",
   "execution_count": 7,
   "metadata": {},
   "outputs": [
    {
     "name": "stdout",
     "output_type": "stream",
     "text": [
      "Usando fit_transform() en ambos: len(X_train) = 7354, len(X_test) = 4170\n",
      "Usando fit_transform() y luego transform(): len(X_train) = 7354, len(X_test) = 7354\n"
     ]
    },
    {
     "data": {
      "text/plain": [
       "((array(['00', '000', '000pes', ..., 'ûïharry', 'ûò', 'ûówell'],\n",
       "        dtype=object),\n",
       "  array(['00', '000', '0207', ..., 'ûªt', 'ûªve', 'ûò'], dtype=object)),\n",
       " (array(['00', '000', '000pes', ..., 'ûïharry', 'ûò', 'ûówell'],\n",
       "        dtype=object),\n",
       "  array(['00', '000', '000pes', ..., 'ûïharry', 'ûò', 'ûówell'],\n",
       "        dtype=object)))"
      ]
     },
     "execution_count": 7,
     "metadata": {},
     "output_type": "execute_result"
    }
   ],
   "source": [
    "def respuesta_cinco():\n",
    "    a = CountVectorizer()\n",
    "    a.fit_transform(X_train)\n",
    "    a_fit = a.get_feature_names_out()\n",
    "    b = a.fit_transform(X_test)\n",
    "    b_fit = a.get_feature_names_out()\n",
    "    tuple1 = (a_fit, b_fit)\n",
    "    \n",
    "    c = CountVectorizer()\n",
    "    c.fit_transform(X_train)\n",
    "    c_fit = c.get_feature_names_out()\n",
    "    d = c.transform(X_test)\n",
    "    d_fit = c.get_feature_names_out()\n",
    "    tuple2 = (c_fit, d_fit)\n",
    "\n",
    "    print(f\"Usando fit_transform() en ambos: len(X_train) = {len(a_fit)}, len(X_test) = {len(b_fit)}\")\n",
    "    print(f\"Usando fit_transform() y luego transform(): len(X_train) = {len(c_fit)}, len(X_test) = {len(d_fit)}\")\n",
    "    return tuple1, tuple2\n",
    "\n",
    "respuesta_cinco()"
   ]
  },
  {
   "cell_type": "markdown",
   "metadata": {},
   "source": [
    "### Pregunta 6\n",
    "\n",
    "¿Cuales son las 10 palabras mas frecuentes (sin tener en cuenta *Stopwords*) en los documentos que no son spam y spam?\n",
    "\n",
    "\n",
    "*Esta función debe devolver una tupla (palabras mas frecuentes, no spam, palabras mas frecuentes, spam).*"
   ]
  },
  {
   "cell_type": "code",
   "execution_count": 39,
   "metadata": {},
   "outputs": [
    {
     "data": {
      "text/plain": [
       "(palabras \n",
       " u            982\n",
       " i'm          369\n",
       " get          305\n",
       " &lt;#&gt;    276\n",
       " ok           266\n",
       " go           249\n",
       " ur           236\n",
       " know         232\n",
       " got          230\n",
       " like         229\n",
       " dtype: int64,\n",
       " palabras\n",
       " call        348\n",
       " å£          266\n",
       " free        216\n",
       " u           155\n",
       " txt         147\n",
       " ur          144\n",
       " mobile      124\n",
       " text        120\n",
       " stop        114\n",
       " claim       113\n",
       " dtype: int64)"
      ]
     },
     "execution_count": 39,
     "metadata": {},
     "output_type": "execute_result"
    }
   ],
   "source": [
    "def get_top_ten(lista):\n",
    "    sw = set(stopwords.words('english'))    \n",
    "    words_ds = []\n",
    "    for _ in lista:\n",
    "        aux = _.split()\n",
    "        for j in aux:\n",
    "            if j not in sw:\n",
    "                words_ds.append(j)\n",
    "    \n",
    "    df = pd.DataFrame({'palabras': words_ds})\n",
    "    freq = df.value_counts()\n",
    "    return freq[0:10]\n",
    "\n",
    "def respuesta_seis():\n",
    "    no_spam = [re.sub('[\\\\n\\-–¿?,.\":¡!]+', '', spam_data[\"text\"].iloc[_]).lower() for _ in range(len(spam_data)) if spam_data[\"target\"].iloc[_] == 0]\n",
    "    no_spam = [re.sub('\\d', '', _) for _ in no_spam]\n",
    "\n",
    "    yes_spam = [re.sub('[\\\\n\\-–¿?,.\":¡!]+', '', spam_data[\"text\"].iloc[_]).lower() for _ in range(len(spam_data)) if spam_data[\"target\"].iloc[_] == 1]\n",
    "    yes_spam = [re.sub('\\d', '', _) for _ in yes_spam]\n",
    "    a = get_top_ten(no_spam)\n",
    "    b = get_top_ten(yes_spam)\n",
    "    \n",
    "    return a, b\n",
    "respuesta_seis()"
   ]
  },
  {
   "cell_type": "markdown",
   "metadata": {},
   "source": [
    "### Pregunta 7\n",
    "\n",
    "¿Cuales son las 10 palabras mas frecuentes (solo teniendo en cuenta *Stopwords*) en los documentos que no son spam y spam?\n",
    "\n",
    "\n",
    "*Esta función debe devolver una tupla (palabras mas frecuentes, no spam, palabras mas frecuentes, spam).*"
   ]
  },
  {
   "cell_type": "code",
   "execution_count": 40,
   "metadata": {},
   "outputs": [
    {
     "data": {
      "text/plain": [
       "(palabras\n",
       " i           2177\n",
       " you         1831\n",
       " to          1554\n",
       " the         1116\n",
       " a           1050\n",
       " and          847\n",
       " in           812\n",
       " me           751\n",
       " my           742\n",
       " is           728\n",
       " dtype: int64,\n",
       " palabras\n",
       " to          685\n",
       " a           377\n",
       " you         287\n",
       " your        263\n",
       " the         204\n",
       " for         202\n",
       " now         190\n",
       " or          188\n",
       " is          158\n",
       " on          144\n",
       " dtype: int64)"
      ]
     },
     "execution_count": 40,
     "metadata": {},
     "output_type": "execute_result"
    }
   ],
   "source": [
    "def get_top_ten(lista):\n",
    "    sw = set(stopwords.words('english'))    \n",
    "    words_ds = []\n",
    "    for _ in lista:\n",
    "        aux = _.split()\n",
    "        for j in aux:\n",
    "            if j in sw:\n",
    "                words_ds.append(j)\n",
    "    \n",
    "    df = pd.DataFrame({'palabras': words_ds})\n",
    "    freq = df.value_counts()\n",
    "    return freq[0:10]\n",
    "\n",
    "def respuesta_siete():\n",
    "    no_spam = [re.sub('[\\\\n\\-–¿?,.\":¡!]+', '', spam_data[\"text\"].iloc[_]).lower() for _ in range(len(spam_data)) if spam_data[\"target\"].iloc[_] == 0]\n",
    "    no_spam = [re.sub('\\d', '', _) for _ in no_spam]\n",
    "\n",
    "    yes_spam = [re.sub('[\\\\n\\-–¿?,.\":¡!]+', '', spam_data[\"text\"].iloc[_]).lower() for _ in range(len(spam_data)) if spam_data[\"target\"].iloc[_] == 1]\n",
    "    yes_spam = [re.sub('\\d', '', _) for _ in yes_spam]\n",
    "    a = get_top_ten(no_spam)\n",
    "    b = get_top_ten(yes_spam)\n",
    "    \n",
    "    return a, b\n",
    "respuesta_siete()"
   ]
  },
  {
   "cell_type": "code",
   "execution_count": null,
   "metadata": {},
   "outputs": [],
   "source": []
  }
 ],
 "metadata": {
  "kernelspec": {
   "display_name": "Python 3 (ipykernel)",
   "language": "python",
   "name": "python3"
  },
  "language_info": {
   "codemirror_mode": {
    "name": "ipython",
    "version": 3
   },
   "file_extension": ".py",
   "mimetype": "text/x-python",
   "name": "python",
   "nbconvert_exporter": "python",
   "pygments_lexer": "ipython3",
   "version": "3.9.18"
  }
 },
 "nbformat": 4,
 "nbformat_minor": 4
}
